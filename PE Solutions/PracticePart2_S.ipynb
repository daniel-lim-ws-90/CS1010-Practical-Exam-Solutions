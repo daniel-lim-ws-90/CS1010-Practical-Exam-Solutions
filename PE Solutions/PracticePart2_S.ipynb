{
 "cells": [
  {
   "cell_type": "markdown",
   "id": "f394f1da",
   "metadata": {},
   "source": [
    "### 20 November 2015, 21 April 2017,15 April 2017"
   ]
  },
  {
   "cell_type": "markdown",
   "id": "ad406d44",
   "metadata": {},
   "source": [
    "The function l33tify takes as inputs a string and a dictionary, and outputs the string translated to leet according to the dictionary"
   ]
  },
  {
   "cell_type": "code",
   "execution_count": 1,
   "id": "e9433c8d",
   "metadata": {},
   "outputs": [],
   "source": [
    "l33t_dict = {\n",
    "'a': '4',\n",
    "'b': '8',\n",
    "'c': '(',\n",
    "'e': '3',\n",
    "'g': '[',\n",
    "'i': '1',\n",
    "'o': '0',\n",
    "'s': '5',\n",
    "'t': '7',\n",
    "'x': '%',\n",
    "'z': '2',\n",
    "}\n"
   ]
  },
  {
   "cell_type": "code",
   "execution_count": 2,
   "id": "629b676c",
   "metadata": {},
   "outputs": [],
   "source": [
    "def l33tify(text, l33t_dict):\n",
    "    \n",
    "    textlist = list(text)\n",
    "    \n",
    "    for i in range(len(textlist)):\n",
    "        \n",
    "        if l33t_dict.get(textlist[i]) != None:\n",
    "            \n",
    "            textlist[i] = l33t_dict.get(textlist[i])\n",
    "        \n",
    "    return ''.join(textlist)\n",
    "            \n",
    "            \n",
    "        "
   ]
  },
  {
   "cell_type": "code",
   "execution_count": 3,
   "id": "3528c8ff",
   "metadata": {},
   "outputs": [
    {
     "data": {
      "text/plain": [
       "'ph33r my l337 5k1ll5'"
      ]
     },
     "execution_count": 3,
     "metadata": {},
     "output_type": "execute_result"
    }
   ],
   "source": [
    "l33tify(\"pheer my leet skills\", l33t_dict)"
   ]
  },
  {
   "cell_type": "code",
   "execution_count": 4,
   "id": "8b303063",
   "metadata": {},
   "outputs": [
    {
     "data": {
      "text/plain": [
       "'py7h0n 15 (00l'"
      ]
     },
     "execution_count": 4,
     "metadata": {},
     "output_type": "execute_result"
    }
   ],
   "source": [
    "l33tify(\"python is cool\", l33t_dict)\n"
   ]
  },
  {
   "cell_type": "code",
   "execution_count": 5,
   "id": "8e91d17b",
   "metadata": {},
   "outputs": [],
   "source": [
    "adv_l33t_dict = {\n",
    "'a': ['4', '/-\\\\', '/_\\\\', '@', '/\\\\'],\n",
    "'b': ['8', '|3', '13', '|}', '|:', '|8', '18', '6', '|B'],\n",
    "'c': ['<', '{', '[', '('],\n",
    "'d': ['|)', '|}', '|]'],\n",
    "'e': ['3'],\n",
    "'f': ['|=', 'ph', '|#', '|\"'],\n",
    "'g': ['[', '-', '[+', '6'],\n",
    "'h': ['|-|', '[-]', '{-}', '|=|', '[=]', '{=}'],\n",
    "'i': ['1', '|'],\n",
    "'j': ['_|', '_/', '_7', '_)'],\n",
    "'k': ['|<', '1<'],\n",
    "'l': ['|_', '|', '1'],\n",
    "'m': ['|\\\\/|', '^^', '/\\\\/\\\\'],\n",
    "'n': ['|\\\\|', '/\\\\/', '/V', '][\\\\\\\\]['],\n",
    "'o': ['0', '()', '[]', '{}'],\n",
    "'p': ['|o', '|O', '|>', '|*', '|Âˇr', '|D', '/o'],\n",
    "'q': ['O_', '9', '(', ')', ''],\n",
    "'r': ['|2', '12', '.-', '|^'],\n",
    "'s': ['5', '$', '§'],\n",
    "'t': ['7', '+', '7`', \"'|'\"],\n",
    "'u': ['|_|', '\\\\_\\\\', '/_/', '\\\\_/', '(_)'],\n",
    "'v': ['\\\\/'],\n",
    "'w': ['\\\\/\\\\/', '(/\\\\)', '\\\\^/', '|/\\\\|'],\n",
    "'x': ['%', '*', '><', '}{', ')('],\n",
    "'y': ['`/', '¥'],\n",
    "'z': ['2', '7_', '>_']\n",
    "}\n"
   ]
  },
  {
   "cell_type": "markdown",
   "id": "814cc7fa",
   "metadata": {},
   "source": [
    "The l33tify function is not very leet because it always replaces with a fixed character. Since there are usually multiple possible replacements for a character, we can do better by having our function rotate through the possible replacements. The values of the leet dictionary will now be a list of strings, and the order of the replacement will follow the order of the list.\n",
    "The function advance_l33tify takes as inputs a string and a dictionary, and outputs the string translated to leet according to scheme described above."
   ]
  },
  {
   "cell_type": "code",
   "execution_count": 6,
   "id": "9e7fe04b",
   "metadata": {},
   "outputs": [],
   "source": [
    "def advance_l33tify(text, adv_l33t_dict):\n",
    "    \n",
    "    currentIndex = {}\n",
    "    \n",
    "    textList = list(text)\n",
    "    \n",
    "    for key in adv_l33t_dict.keys():\n",
    "        \n",
    "        currentIndex[key] = 0\n",
    "    \n",
    "    for i in range(len(textList)):\n",
    "        \n",
    "        if adv_l33t_dict.get(textList[i]) != None:\n",
    "            \n",
    "            length = len(adv_l33t_dict.get(textList[i]))\n",
    "            index = currentIndex[textList[i]]\n",
    "            currentIndex[textList[i]] = (index + 1)%length\n",
    "            textList[i] = adv_l33t_dict.get(textList[i])[index]          \n",
    "   \n",
    "    return ''.join(textList)"
   ]
  },
  {
   "cell_type": "code",
   "execution_count": 7,
   "id": "56a63a9e",
   "metadata": {},
   "outputs": [
    {
     "data": {
      "text/plain": [
       "'B0\\\\/\\\\/ 84 |\\\\/|3 4 I 4^^ |2()[]7!!!'"
      ]
     },
     "execution_count": 7,
     "metadata": {},
     "output_type": "execute_result"
    }
   ],
   "source": [
    "advance_l33tify(\"Bow b4 me 4 I am root!!!\", adv_l33t_dict)"
   ]
  },
  {
   "cell_type": "code",
   "execution_count": 8,
   "id": "47514c16",
   "metadata": {},
   "outputs": [
    {
     "data": {
      "text/plain": [
       "'M15$|§51|o|O|'"
      ]
     },
     "execution_count": 8,
     "metadata": {},
     "output_type": "execute_result"
    }
   ],
   "source": [
    "advance_l33tify(\"Mississippi\", adv_l33t_dict)"
   ]
  },
  {
   "cell_type": "code",
   "execution_count": 9,
   "id": "636ecb43",
   "metadata": {},
   "outputs": [],
   "source": [
    "nus_matric = {\n",
    "0: 'Y',\n",
    "1: 'X',\n",
    "2: 'W',\n",
    "3: 'U',\n",
    "4: 'R',\n",
    "5: 'N',\n",
    "6: 'M',\n",
    "7: 'L',\n",
    "8: 'J',\n",
    "9: 'H',\n",
    "10: 'E',\n",
    "11: 'A',\n",
    "12: 'B'\n",
    "}\n"
   ]
  },
  {
   "cell_type": "markdown",
   "id": "5f908ffa",
   "metadata": {},
   "source": [
    "The function check_digit takes as inputs an identification number (which is a string of digits) and a lookup up table (which is a dictionary). It outputs the respective check digit (character) of the identification number.\n"
   ]
  },
  {
   "cell_type": "code",
   "execution_count": 10,
   "id": "56d5bd39",
   "metadata": {},
   "outputs": [],
   "source": [
    "def check_digit(num,matric):\n",
    "    \n",
    "    summation = 0\n",
    "    length = len(matric)\n",
    "    \n",
    "    for character in num :\n",
    "        \n",
    "        summation = (summation + int(character))%(length)\n",
    "        \n",
    "    return matric[summation]"
   ]
  },
  {
   "cell_type": "code",
   "execution_count": 11,
   "id": "95f5b017",
   "metadata": {},
   "outputs": [
    {
     "data": {
      "text/plain": [
       "'R'"
      ]
     },
     "execution_count": 11,
     "metadata": {},
     "output_type": "execute_result"
    }
   ],
   "source": [
    "check_digit(\"0113093\", nus_matric)\n"
   ]
  },
  {
   "cell_type": "code",
   "execution_count": 12,
   "id": "d595deec",
   "metadata": {},
   "outputs": [
    {
     "data": {
      "text/plain": [
       "'E'"
      ]
     },
     "execution_count": 12,
     "metadata": {},
     "output_type": "execute_result"
    }
   ],
   "source": [
    "check_digit(\"0129969\", nus_matric)\n"
   ]
  },
  {
   "cell_type": "markdown",
   "id": "82a3a3c7",
   "metadata": {},
   "source": [
    "The function weighted_check_digit takes as inputs an identification number (which is a string of digits), a lookup up table (which is a dictionary) and the weights (which is a string of digits). It outputs the respective check digit (character) of the identification number."
   ]
  },
  {
   "cell_type": "code",
   "execution_count": 13,
   "id": "e848e8a0",
   "metadata": {},
   "outputs": [],
   "source": [
    "sg_nric = dict(enumerate(\"JZIHGFEDCBA\"))\n",
    "sg_weights = \"2765432\""
   ]
  },
  {
   "cell_type": "code",
   "execution_count": 14,
   "id": "9cd6b53b",
   "metadata": {},
   "outputs": [],
   "source": [
    "def weighted_check_digit(num, sg_nric, sg_weights):\n",
    "    \n",
    "    summation = 0\n",
    "    length = len(sg_nric)\n",
    "    \n",
    "    for i in range(len(num)) :\n",
    "        \n",
    "        summation = (summation + (int(num[i])*int(sg_weights[i])))%(length)\n",
    "    \n",
    "    return sg_nric[summation]"
   ]
  },
  {
   "cell_type": "code",
   "execution_count": 15,
   "id": "33f2c56a",
   "metadata": {},
   "outputs": [
    {
     "data": {
      "text/plain": [
       "'I'"
      ]
     },
     "execution_count": 15,
     "metadata": {},
     "output_type": "execute_result"
    }
   ],
   "source": [
    " weighted_check_digit(\"9702743\", sg_nric, sg_weights)\n"
   ]
  },
  {
   "cell_type": "code",
   "execution_count": 16,
   "id": "0b63391f",
   "metadata": {},
   "outputs": [
    {
     "data": {
      "text/plain": [
       "'E'"
      ]
     },
     "execution_count": 16,
     "metadata": {},
     "output_type": "execute_result"
    }
   ],
   "source": [
    "weighted_check_digit(\"9875133\", sg_nric, sg_weights)"
   ]
  },
  {
   "cell_type": "markdown",
   "id": "eadfca7c",
   "metadata": {},
   "source": [
    "Write a function char_at that take in as input, a character and a sentence, and\n",
    "outputs a list containing the positions (starting from 0) of the character in the sentence. The function should be case insensitive, i.e., uppercase and lowercase characters should be counted as the same."
   ]
  },
  {
   "cell_type": "code",
   "execution_count": 17,
   "id": "24d5a3fa",
   "metadata": {},
   "outputs": [],
   "source": [
    "def char_at(letter, sentence):\n",
    "    \n",
    "    positionList = []\n",
    "    \n",
    "    for i in range(len(sentence)):\n",
    "        \n",
    "        if sentence[i].lower() == letter.lower():\n",
    "            \n",
    "            positionList.append(i)\n",
    "            \n",
    "    return positionList"
   ]
  },
  {
   "cell_type": "code",
   "execution_count": 18,
   "id": "0f2dd474",
   "metadata": {},
   "outputs": [
    {
     "data": {
      "text/plain": [
       "[2, 28, 33]"
      ]
     },
     "execution_count": 18,
     "metadata": {},
     "output_type": "execute_result"
    }
   ],
   "source": [
    "sentence = 'The quick brown fox jumps over the lazy dog.'\n",
    "char_at('e', sentence)\n"
   ]
  },
  {
   "cell_type": "code",
   "execution_count": 19,
   "id": "40ee0c80",
   "metadata": {},
   "outputs": [
    {
     "data": {
      "text/plain": [
       "[0, 31]"
      ]
     },
     "execution_count": 19,
     "metadata": {},
     "output_type": "execute_result"
    }
   ],
   "source": [
    "char_at('t', sentence)\n"
   ]
  },
  {
   "cell_type": "code",
   "execution_count": 20,
   "id": "6335aa77",
   "metadata": {},
   "outputs": [
    {
     "data": {
      "text/plain": [
       "[]"
      ]
     },
     "execution_count": 20,
     "metadata": {},
     "output_type": "execute_result"
    }
   ],
   "source": [
    "char_at('7', sentence)\n"
   ]
  },
  {
   "cell_type": "markdown",
   "id": "aca27cfe",
   "metadata": {},
   "source": [
    "Write a function contains_duplicate that takes a string and returns True if the\n",
    "string contains any duplicate characters, and False otherwise. The function should be case insensitive, i.e., uppercase and lowercase characters should be counted as the same.    "
   ]
  },
  {
   "cell_type": "code",
   "execution_count": 21,
   "id": "9b6591d3",
   "metadata": {},
   "outputs": [],
   "source": [
    "def contains_duplicate(text):\n",
    "    \n",
    "    flag = False\n",
    "    \n",
    "    for letter in text:\n",
    "        \n",
    "        repeats = char_at(letter, text)\n",
    "        \n",
    "        if len(repeats) > 1 :\n",
    "            \n",
    "            flag = True\n",
    "            break\n",
    "\n",
    "    return flag"
   ]
  },
  {
   "cell_type": "code",
   "execution_count": 22,
   "id": "fb1e5d35",
   "metadata": {},
   "outputs": [
    {
     "data": {
      "text/plain": [
       "False"
      ]
     },
     "execution_count": 22,
     "metadata": {},
     "output_type": "execute_result"
    }
   ],
   "source": [
    " contains_duplicate(\"abcdefg\")\n"
   ]
  },
  {
   "cell_type": "code",
   "execution_count": 23,
   "id": "ca8add2b",
   "metadata": {},
   "outputs": [
    {
     "data": {
      "text/plain": [
       "False"
      ]
     },
     "execution_count": 23,
     "metadata": {},
     "output_type": "execute_result"
    }
   ],
   "source": [
    "contains_duplicate(\"ambidextrously\")"
   ]
  },
  {
   "cell_type": "code",
   "execution_count": 24,
   "id": "0383448f",
   "metadata": {},
   "outputs": [
    {
     "data": {
      "text/plain": [
       "True"
      ]
     },
     "execution_count": 24,
     "metadata": {},
     "output_type": "execute_result"
    }
   ],
   "source": [
    "contains_duplicate(\"Double-dating\")\n"
   ]
  },
  {
   "cell_type": "code",
   "execution_count": 25,
   "id": "c4733f18",
   "metadata": {},
   "outputs": [
    {
     "data": {
      "text/plain": [
       "True"
      ]
     },
     "execution_count": 25,
     "metadata": {},
     "output_type": "execute_result"
    }
   ],
   "source": [
    "contains_duplicate(\"cs1010s\")"
   ]
  },
  {
   "cell_type": "markdown",
   "id": "bc27b028",
   "metadata": {},
   "source": [
    "Write a function duplicate_within that takes in a string and an integer i, and returns True if the there exists any duplicated characters in the string that are at most i characters apart, and False otherwise.The function should be case insensitive, i.e.,\n",
    "uppercase and lowercase characters should be counted as the same.\n"
   ]
  },
  {
   "cell_type": "code",
   "execution_count": 26,
   "id": "90b283ba",
   "metadata": {},
   "outputs": [],
   "source": [
    "def duplicate_within(text, num):\n",
    "    \n",
    "    flag = False\n",
    "    \n",
    "    for letter in text:\n",
    "        \n",
    "        repeats = char_at(letter, text)\n",
    "        \n",
    "        if len(repeats) > 1:\n",
    "        \n",
    "        \n",
    "            for i in range(len(repeats) - 1):\n",
    "                    \n",
    "                    value = repeats[i+1] - repeats[i]\n",
    "                    if value == num:\n",
    "                        \n",
    "                        return True\n",
    "            \n",
    "    return False"
   ]
  },
  {
   "cell_type": "code",
   "execution_count": 27,
   "id": "7d72b44f",
   "metadata": {},
   "outputs": [
    {
     "data": {
      "text/plain": [
       "False"
      ]
     },
     "execution_count": 27,
     "metadata": {},
     "output_type": "execute_result"
    }
   ],
   "source": [
    "duplicate_within(\"Double-dating\", 6)"
   ]
  },
  {
   "cell_type": "code",
   "execution_count": 28,
   "id": "91be1e62",
   "metadata": {},
   "outputs": [
    {
     "data": {
      "text/plain": [
       "True"
      ]
     },
     "execution_count": 28,
     "metadata": {},
     "output_type": "execute_result"
    }
   ],
   "source": [
    "duplicate_within(\"Double-dating\", 7)"
   ]
  },
  {
   "cell_type": "code",
   "execution_count": 29,
   "id": "9d072b8d",
   "metadata": {},
   "outputs": [
    {
     "data": {
      "text/plain": [
       "True"
      ]
     },
     "execution_count": 29,
     "metadata": {},
     "output_type": "execute_result"
    }
   ],
   "source": [
    "duplicate_within(\"ballooning\", 1)\n"
   ]
  },
  {
   "cell_type": "code",
   "execution_count": 30,
   "id": "db6f12fc",
   "metadata": {},
   "outputs": [
    {
     "data": {
      "text/plain": [
       "False"
      ]
     },
     "execution_count": 30,
     "metadata": {},
     "output_type": "execute_result"
    }
   ],
   "source": [
    "duplicate_within(\"ballooning\", 0)"
   ]
  },
  {
   "cell_type": "code",
   "execution_count": 31,
   "id": "7ad1a822",
   "metadata": {},
   "outputs": [
    {
     "data": {
      "text/plain": [
       "False"
      ]
     },
     "execution_count": 31,
     "metadata": {},
     "output_type": "execute_result"
    }
   ],
   "source": [
    "duplicate_within(\"ambidextrously\", 1)\n"
   ]
  }
 ],
 "metadata": {
  "kernelspec": {
   "display_name": "Python 3 (ipykernel)",
   "language": "python",
   "name": "python3"
  },
  "language_info": {
   "codemirror_mode": {
    "name": "ipython",
    "version": 3
   },
   "file_extension": ".py",
   "mimetype": "text/x-python",
   "name": "python",
   "nbconvert_exporter": "python",
   "pygments_lexer": "ipython3",
   "version": "3.11.4"
  }
 },
 "nbformat": 4,
 "nbformat_minor": 5
}
