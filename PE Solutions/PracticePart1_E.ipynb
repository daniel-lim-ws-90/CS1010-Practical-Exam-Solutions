{
 "cells": [
  {
   "cell_type": "markdown",
   "id": "24a860ed",
   "metadata": {},
   "source": [
    "### 7 Jun 2019, 6 Nov 2019, 9 Nov 2019, 16 Apr 2020"
   ]
  },
  {
   "cell_type": "markdown",
   "id": "da19a5bf",
   "metadata": {},
   "source": [
    "Write a function min_no_of_turns(L) to return the minimal number of turns to finish the game as an integer. The input L is a tuple of collection of the integers provided in the beginning of the game.\n"
   ]
  },
  {
   "cell_type": "code",
   "execution_count": 1,
   "id": "4e39b9c6",
   "metadata": {},
   "outputs": [],
   "source": [
    "def min_no_of_turns(order):\n",
    "    \n",
    "    keyList = []\n",
    "    count = 0\n",
    "    length = len(order)\n",
    "    \n",
    "    current = 0\n",
    "    future = 1\n",
    "    \n",
    "    for elt in order:\n",
    "        \n",
    "        keyList.append(elt)\n",
    "    \n",
    "    keyList.sort()\n",
    "    \n",
    "    while future < length:\n",
    "        \n",
    "        if keyList[current] == keyList[future] :\n",
    "            \n",
    "            count += 1\n",
    "            future += 1\n",
    "            \n",
    "            \n",
    "        elif keyList[current] + 1 == keyList[future] :\n",
    "            \n",
    "            current = future\n",
    "            future += 1\n",
    "            \n",
    "        \n",
    "        else:\n",
    "            \n",
    "            count += 1\n",
    "            current = future\n",
    "            future += 1\n",
    "            \n",
    "   \n",
    "    if current == 0:\n",
    "        \n",
    "        count += 1\n",
    "    \n",
    "    if future == length and current == length - 1:\n",
    "        \n",
    "        count += 1\n",
    "    \n",
    "    \n",
    "    return count\n",
    "        "
   ]
  },
  {
   "cell_type": "code",
   "execution_count": 2,
   "id": "6ce6a1cf",
   "metadata": {
    "scrolled": true
   },
   "outputs": [
    {
     "data": {
      "text/plain": [
       "1000000"
      ]
     },
     "execution_count": 2,
     "metadata": {},
     "output_type": "execute_result"
    },
    {
     "data": {
      "text/plain": [
       "1000000"
      ]
     },
     "execution_count": 2,
     "metadata": {},
     "output_type": "execute_result"
    }
   ],
   "source": [
    "min_no_of_turns ([0 for i in range(1000000)])"
   ]
  },
  {
   "cell_type": "code",
   "execution_count": 3,
   "id": "24140aa7",
   "metadata": {},
   "outputs": [
    {
     "data": {
      "text/plain": [
       "3"
      ]
     },
     "execution_count": 3,
     "metadata": {},
     "output_type": "execute_result"
    },
    {
     "data": {
      "text/plain": [
       "3"
      ]
     },
     "execution_count": 3,
     "metadata": {},
     "output_type": "execute_result"
    }
   ],
   "source": [
    "min_no_of_turns ((1, 8, 3, 6, 5, 7, 2, 1))"
   ]
  },
  {
   "cell_type": "code",
   "execution_count": 4,
   "id": "6a279db8",
   "metadata": {
    "scrolled": true
   },
   "outputs": [
    {
     "data": {
      "text/plain": [
       "2"
      ]
     },
     "execution_count": 4,
     "metadata": {},
     "output_type": "execute_result"
    },
    {
     "data": {
      "text/plain": [
       "2"
      ]
     },
     "execution_count": 4,
     "metadata": {},
     "output_type": "execute_result"
    }
   ],
   "source": [
    "min_no_of_turns ((1, 8, 3, 6, 5, 7, 2, 1, 4))"
   ]
  },
  {
   "cell_type": "code",
   "execution_count": 5,
   "id": "8c7574db",
   "metadata": {},
   "outputs": [
    {
     "data": {
      "text/plain": [
       "5"
      ]
     },
     "execution_count": 5,
     "metadata": {},
     "output_type": "execute_result"
    },
    {
     "data": {
      "text/plain": [
       "5"
      ]
     },
     "execution_count": 5,
     "metadata": {},
     "output_type": "execute_result"
    }
   ],
   "source": [
    "tup3 = (6,5,4,3,2,1,11,12,13,14,15,16,6,5,16,16)\n",
    "min_no_of_turns (tup3)\n"
   ]
  },
  {
   "cell_type": "code",
   "execution_count": 6,
   "id": "69a4f7c9",
   "metadata": {
    "scrolled": true
   },
   "outputs": [
    {
     "data": {
      "text/plain": [
       "1"
      ]
     },
     "execution_count": 6,
     "metadata": {},
     "output_type": "execute_result"
    },
    {
     "data": {
      "text/plain": [
       "1"
      ]
     },
     "execution_count": 6,
     "metadata": {},
     "output_type": "execute_result"
    }
   ],
   "source": [
    "min_no_of_turns ([i for i in range(1000000)])"
   ]
  },
  {
   "cell_type": "markdown",
   "id": "2c87321d",
   "metadata": {},
   "source": [
    "Give a sequence seq, namely, a string, a list or a tuple (excluding dictionaries and sets), write a function isElementUnique(seq) to check if all the elements inside seq are unique (no duplicate)."
   ]
  },
  {
   "cell_type": "code",
   "execution_count": 7,
   "id": "b1b9f0e5",
   "metadata": {},
   "outputs": [],
   "source": [
    "def isElementUnique(x):\n",
    "    \n",
    "    flag = True\n",
    "    \n",
    "    if isinstance(x, str) == True:\n",
    "        \n",
    "        stringDictionary = {}\n",
    "        for elt in x:\n",
    "            if stringDictionary.get(elt) == None:\n",
    "                 stringDictionary[elt] = '1'\n",
    "            else:\n",
    "                flag = False\n",
    "                break\n",
    "        return flag\n",
    "    \n",
    "    else:   \n",
    "        \n",
    "            dictionary = {}\n",
    "\n",
    "            for elt in x:\n",
    "\n",
    "                if dictionary.get(elt) == None:\n",
    "\n",
    "                    dictionary[elt] = '1'\n",
    "\n",
    "                else:\n",
    "\n",
    "                    flag = False\n",
    "                    break\n",
    "\n",
    "            return flag"
   ]
  },
  {
   "cell_type": "code",
   "execution_count": 8,
   "id": "c7decf68",
   "metadata": {},
   "outputs": [
    {
     "name": "stdout",
     "output_type": "stream",
     "text": [
      "False\n",
      "False\n"
     ]
    }
   ],
   "source": [
    " print(isElementUnique('minions'))"
   ]
  },
  {
   "cell_type": "code",
   "execution_count": 9,
   "id": "05323b25",
   "metadata": {},
   "outputs": [
    {
     "name": "stdout",
     "output_type": "stream",
     "text": [
      "True\n",
      "True\n"
     ]
    }
   ],
   "source": [
    "print(isElementUnique('abcdefghijklmnopqrstuvwxyz'))"
   ]
  },
  {
   "cell_type": "code",
   "execution_count": 10,
   "id": "e54116af",
   "metadata": {},
   "outputs": [
    {
     "name": "stdout",
     "output_type": "stream",
     "text": [
      "True\n",
      "True\n"
     ]
    }
   ],
   "source": [
    "print(isElementUnique([1,2,3,4,5,6,7]))"
   ]
  },
  {
   "cell_type": "code",
   "execution_count": 11,
   "id": "b56ab783",
   "metadata": {},
   "outputs": [
    {
     "name": "stdout",
     "output_type": "stream",
     "text": [
      "False\n",
      "False\n"
     ]
    }
   ],
   "source": [
    "print(isElementUnique(['a', 'b', 3 , True, 999, 'a']))"
   ]
  },
  {
   "cell_type": "code",
   "execution_count": 12,
   "id": "eff0ef1c",
   "metadata": {},
   "outputs": [
    {
     "name": "stdout",
     "output_type": "stream",
     "text": [
      "False\n",
      "False\n"
     ]
    }
   ],
   "source": [
    "print(isElementUnique((1, 2, 999, 4, 0, 6, (1,2,), 999)))"
   ]
  },
  {
   "cell_type": "code",
   "execution_count": 13,
   "id": "6d70996e",
   "metadata": {},
   "outputs": [
    {
     "name": "stdout",
     "output_type": "stream",
     "text": [
      "True\n",
      "True\n"
     ]
    }
   ],
   "source": [
    "print(isElementUnique(['aaa', 'bbb', (1,1), 1]))"
   ]
  },
  {
   "cell_type": "markdown",
   "id": "1ea948f4",
   "metadata": {},
   "source": [
    "Write a function\tsuperFibonacciSeqR(t2,n) to\treturn\tthe\tlist\tof\tthe\tfirst\tn terms\tof\tan\tSFS\twith\tits\tsecond\tterm as\tt2 with\tproper recursions for\tn\t> 0. No\titeration\tis\tallowed\tin\tthis\tpart."
   ]
  },
  {
   "cell_type": "code",
   "execution_count": 14,
   "id": "2d6e789b",
   "metadata": {},
   "outputs": [],
   "source": [
    "def superFibonacciSeqR1(t2,n,result):\n",
    "    \n",
    "    if n == 1:\n",
    "        #result.append(1)\n",
    "        return 1\n",
    "    elif n == 2:\n",
    "        #result.append(t2)\n",
    "        return t2\n",
    "    elif n == 3:\n",
    "        result.append(t2+1)\n",
    "        return t2 + 1\n",
    "    else:\n",
    "        x = 2*superFibonacciSeqR1(t2,n-1,result)\n",
    "        result.append(x)\n",
    "        return x\n",
    "    \n",
    "   "
   ]
  },
  {
   "cell_type": "code",
   "execution_count": 15,
   "id": "bfb0f3fe",
   "metadata": {},
   "outputs": [],
   "source": [
    "def superFibonacciSeqR(t2,n):\n",
    "    \n",
    "    result = []\n",
    "    superFibonacciSeqR1(t2,n,result)\n",
    "    result.insert(0,t2)\n",
    "    result.insert(0,1)\n",
    "    return result"
   ]
  },
  {
   "cell_type": "code",
   "execution_count": 16,
   "id": "578ca2df",
   "metadata": {},
   "outputs": [
    {
     "data": {
      "text/plain": [
       "[1, 10, 11, 22, 44, 88, 176, 352, 704, 1408]"
      ]
     },
     "execution_count": 16,
     "metadata": {},
     "output_type": "execute_result"
    },
    {
     "data": {
      "text/plain": [
       "[1, 10, 11, 22, 44, 88, 176, 352, 704, 1408]"
      ]
     },
     "execution_count": 16,
     "metadata": {},
     "output_type": "execute_result"
    }
   ],
   "source": [
    " superFibonacciSeqR(10,10)"
   ]
  },
  {
   "cell_type": "code",
   "execution_count": 17,
   "id": "7319a106",
   "metadata": {},
   "outputs": [],
   "source": [
    "sfs1 = superFibonacciSeqR(11,994)"
   ]
  },
  {
   "cell_type": "code",
   "execution_count": 18,
   "id": "e1f0e2a4",
   "metadata": {},
   "outputs": [
    {
     "name": "stdout",
     "output_type": "stream",
     "text": [
      "251134829809281403347287120873437924350329252743484439244628997274301027607406903709343370034928716748655001465051518787153237176334136103968388536906997846967216432222442913720806436056149323637764551144212026757427701748454658614667942436236181162060262417445778332054541324179358384066497007845376\n",
      "251134829809281403347287120873437924350329252743484439244628997274301027607406903709343370034928716748655001465051518787153237176334136103968388536906997846967216432222442913720806436056149323637764551144212026757427701748454658614667942436236181162060262417445778332054541324179358384066497007845376\n"
     ]
    }
   ],
   "source": [
    "print(sfs1[-1])"
   ]
  },
  {
   "cell_type": "code",
   "execution_count": 19,
   "id": "952833df",
   "metadata": {},
   "outputs": [],
   "source": [
    "def superFibonacciSeqI1(t2,bound,result):\n",
    "    \n",
    "    result.append(1)\n",
    "    result.append(t2)\n",
    "    x = t2 + 1\n",
    "    \n",
    "    while x <= bound:\n",
    "        result.append(x)\n",
    "        x *= 2"
   ]
  },
  {
   "cell_type": "code",
   "execution_count": 20,
   "id": "2b4157c6",
   "metadata": {},
   "outputs": [],
   "source": [
    "def superFibonacciSeqI(t2,bound):\n",
    "    \n",
    "    result = []\n",
    "    superFibonacciSeqI1(t2,bound,result)\n",
    "    return result"
   ]
  },
  {
   "cell_type": "code",
   "execution_count": 21,
   "id": "5f4f4af8",
   "metadata": {},
   "outputs": [
    {
     "data": {
      "text/plain": [
       "[1, 4, 5, 10, 20, 40, 80]"
      ]
     },
     "execution_count": 21,
     "metadata": {},
     "output_type": "execute_result"
    },
    {
     "data": {
      "text/plain": [
       "[1, 4, 5, 10, 20, 40, 80]"
      ]
     },
     "execution_count": 21,
     "metadata": {},
     "output_type": "execute_result"
    }
   ],
   "source": [
    "superFibonacciSeqI(4,100)"
   ]
  },
  {
   "cell_type": "code",
   "execution_count": 22,
   "id": "9224ccdd",
   "metadata": {
    "scrolled": true
   },
   "outputs": [
    {
     "data": {
      "text/plain": [
       "[1, 4, 5, 10, 20, 40, 80, 160]"
      ]
     },
     "execution_count": 22,
     "metadata": {},
     "output_type": "execute_result"
    },
    {
     "data": {
      "text/plain": [
       "[1, 4, 5, 10, 20, 40, 80, 160]"
      ]
     },
     "execution_count": 22,
     "metadata": {},
     "output_type": "execute_result"
    }
   ],
   "source": [
    "superFibonacciSeqI(4,160)"
   ]
  },
  {
   "cell_type": "code",
   "execution_count": 23,
   "id": "cb288a73",
   "metadata": {},
   "outputs": [
    {
     "name": "stdout",
     "output_type": "stream",
     "text": [
      "14352\n",
      "14352\n"
     ]
    }
   ],
   "source": [
    "longSFS = superFibonacciSeqI(20,10**4321)\n",
    "print(len(longSFS))\n"
   ]
  },
  {
   "cell_type": "code",
   "execution_count": 24,
   "id": "898ad392",
   "metadata": {},
   "outputs": [],
   "source": [
    "def getPartition(array, result, n, length):\n",
    "    \n",
    "    if len(array) == n:\n",
    "        array.sort()\n",
    "        array.insert(0,0)\n",
    "        array.append(length)\n",
    "        if array not in result:\n",
    "            result.append(array)\n",
    "        return\n",
    "    else:\n",
    "        for elt in array:\n",
    "            copyArray = array.copy()\n",
    "            copyArray.remove(elt)\n",
    "            getPartition(copyArray, result, n, length)\n",
    "    "
   ]
  },
  {
   "cell_type": "code",
   "execution_count": 25,
   "id": "845ffaf8",
   "metadata": {},
   "outputs": [],
   "source": [
    "def getOpResult(array,leftdigits):\n",
    "    \n",
    "    numbers = []\n",
    "    length = len(array)\n",
    "    for i in range(1,length):\n",
    "        x = array[i-1]\n",
    "        y = array[i]\n",
    "        numbers.append(int(leftdigits[x:y]))\n",
    "        \n",
    "    return numbers"
   ]
  },
  {
   "cell_type": "code",
   "execution_count": 26,
   "id": "d32cb1bb",
   "metadata": {},
   "outputs": [],
   "source": [
    "def opList(n,opString,result,op,final):\n",
    "    \n",
    "    stringArray = []\n",
    "    \n",
    "    if n == 0:\n",
    "        \n",
    "        final.append(result)\n",
    "        return\n",
    "    \n",
    "    else:\n",
    "        \n",
    "        copyResult = result.copy()\n",
    "        if op != None:\n",
    "            copyResult.append(op)\n",
    "        \n",
    "        for elt in opString:\n",
    "            \n",
    "            opList(n-1,opString,copyResult,elt,final)\n",
    "        \n",
    "        "
   ]
  },
  {
   "cell_type": "code",
   "execution_count": 27,
   "id": "d97bb281",
   "metadata": {},
   "outputs": [
    {
     "name": "stdout",
     "output_type": "stream",
     "text": [
      "[['+', '+', '+'], ['+', '+', '+'], ['+', '+', '-'], ['+', '+', '-'], ['+', '-', '+'], ['+', '-', '+'], ['+', '-', '-'], ['+', '-', '-'], ['-', '+', '+'], ['-', '+', '+'], ['-', '+', '-'], ['-', '+', '-'], ['-', '-', '+'], ['-', '-', '+'], ['-', '-', '-'], ['-', '-', '-']]\n",
      "[['+', '+', '+'], ['+', '+', '+'], ['+', '+', '-'], ['+', '+', '-'], ['+', '-', '+'], ['+', '-', '+'], ['+', '-', '-'], ['+', '-', '-'], ['-', '+', '+'], ['-', '+', '+'], ['-', '+', '-'], ['-', '+', '-'], ['-', '-', '+'], ['-', '-', '+'], ['-', '-', '-'], ['-', '-', '-']]\n"
     ]
    }
   ],
   "source": [
    "final = []\n",
    "opList(4,'+-',[],None,final)\n",
    "print(final)"
   ]
  },
  {
   "cell_type": "code",
   "execution_count": 28,
   "id": "f0b7454d",
   "metadata": {},
   "outputs": [],
   "source": [
    "def opArray(array, opArray):\n",
    "    \n",
    "    length = len(array)\n",
    "    result = 0\n",
    "    \n",
    "    for i in range(0,length):\n",
    "        \n",
    "        if opArray[i] == '+':\n",
    "            \n",
    "            result += array[i]\n",
    "        \n",
    "        elif opArray[i] == '-':\n",
    "            \n",
    "            result -= array[i]\n",
    "        \n",
    "        elif opArray[i] == '*' and i != 0:\n",
    "            \n",
    "            result *= array[i]\n",
    "        \n",
    "        elif opArray[i] == '*' and i == 0:\n",
    "            \n",
    "            result += array[0]\n",
    "    \n",
    "    return result    "
   ]
  },
  {
   "cell_type": "code",
   "execution_count": 29,
   "id": "24281d49",
   "metadata": {},
   "outputs": [],
   "source": [
    "def stringBuilder(array1, array2):\n",
    "    \n",
    "    result = []\n",
    "    \n",
    "    length = len(array1)\n",
    "    \n",
    "    for i in range(length):\n",
    "        \n",
    "        if i == 0 and array2[i] == '*':\n",
    "            result.append('+')\n",
    "            result.append(array1[i])\n",
    "        else:\n",
    "            result.append(array2[i])\n",
    "            result.append(array1[i]) \n",
    "            \n",
    "    \n",
    "    return result"
   ]
  },
  {
   "cell_type": "code",
   "execution_count": 30,
   "id": "4c56b421",
   "metadata": {},
   "outputs": [],
   "source": [
    "def sumTo(leftdigits, op, n):\n",
    "    \n",
    "    length = len(leftdigits)\n",
    "    array = []\n",
    "    final= []\n",
    "    \n",
    "    for i in range (1,length):\n",
    "        array.append(i)\n",
    "        \n",
    "    for i in range(1,length):\n",
    "        \n",
    "        result = []\n",
    "        getPartition(array, result, i,length)\n",
    "        for elt in result:\n",
    "            partition = getOpResult(elt,leftdigits)\n",
    "            operations = []\n",
    "            opList(len(partition)+1,op,[],None,operations)\n",
    "            for opSeq in operations:\n",
    "                if opArray(partition, opSeq) == n:\n",
    "                    \n",
    "                    finalString = stringBuilder(partition, opSeq)\n",
    "                    myfinalString = ' '.join(map(str,finalString))\n",
    "                    if myfinalString not in final:\n",
    "                        final.append(myfinalString)\n",
    "                   \n",
    "    \n",
    "    return final"
   ]
  },
  {
   "cell_type": "code",
   "execution_count": 31,
   "id": "f3121ec9",
   "metadata": {},
   "outputs": [
    {
     "data": {
      "text/plain": [
       "['+ 1 + 99']"
      ]
     },
     "execution_count": 31,
     "metadata": {},
     "output_type": "execute_result"
    },
    {
     "data": {
      "text/plain": [
       "['+ 1 + 99']"
      ]
     },
     "execution_count": 31,
     "metadata": {},
     "output_type": "execute_result"
    }
   ],
   "source": [
    " sumTo('199','+-',100)"
   ]
  },
  {
   "cell_type": "code",
   "execution_count": 32,
   "id": "f8a22c71",
   "metadata": {},
   "outputs": [
    {
     "data": {
      "text/plain": [
       "['+ 123 - 45 - 67 + 89',\n",
       " '+ 123 + 45 - 67 + 8 - 9',\n",
       " '+ 123 + 4 - 5 + 67 - 89',\n",
       " '+ 123 - 4 - 5 - 6 - 7 + 8 - 9',\n",
       " '+ 12 + 3 - 4 + 5 + 67 + 8 + 9',\n",
       " '+ 12 + 3 + 4 + 5 - 6 - 7 + 89',\n",
       " '+ 12 - 3 - 4 + 5 - 6 + 7 + 89',\n",
       " '+ 1 + 23 - 4 + 56 + 7 + 8 + 9',\n",
       " '+ 1 + 23 - 4 + 5 + 6 + 78 - 9',\n",
       " '+ 1 + 2 + 34 - 5 + 67 - 8 + 9',\n",
       " '+ 1 + 2 + 3 - 4 + 5 + 6 + 78 + 9',\n",
       " '- 1 + 2 - 3 + 4 + 5 + 6 + 78 + 9']"
      ]
     },
     "execution_count": 32,
     "metadata": {},
     "output_type": "execute_result"
    },
    {
     "data": {
      "text/plain": [
       "['+ 123 - 45 - 67 + 89',\n",
       " '+ 123 + 45 - 67 + 8 - 9',\n",
       " '+ 123 + 4 - 5 + 67 - 89',\n",
       " '+ 123 - 4 - 5 - 6 - 7 + 8 - 9',\n",
       " '+ 12 + 3 - 4 + 5 + 67 + 8 + 9',\n",
       " '+ 12 + 3 + 4 + 5 - 6 - 7 + 89',\n",
       " '+ 12 - 3 - 4 + 5 - 6 + 7 + 89',\n",
       " '+ 1 + 23 - 4 + 56 + 7 + 8 + 9',\n",
       " '+ 1 + 23 - 4 + 5 + 6 + 78 - 9',\n",
       " '+ 1 + 2 + 34 - 5 + 67 - 8 + 9',\n",
       " '+ 1 + 2 + 3 - 4 + 5 + 6 + 78 + 9',\n",
       " '- 1 + 2 - 3 + 4 + 5 + 6 + 78 + 9']"
      ]
     },
     "execution_count": 32,
     "metadata": {},
     "output_type": "execute_result"
    }
   ],
   "source": [
    "sumTo('123456789','+-',100)"
   ]
  },
  {
   "cell_type": "code",
   "execution_count": 33,
   "id": "907974b6",
   "metadata": {},
   "outputs": [
    {
     "data": {
      "text/plain": [
       "['+ 111 - 11 * 1',\n",
       " '+ 111 * 1 - 11',\n",
       " '- 11 + 111 * 1',\n",
       " '- 11 * 1 + 111',\n",
       " '+ 1 * 111 - 11',\n",
       " '- 1 * 11 + 111']"
      ]
     },
     "execution_count": 33,
     "metadata": {},
     "output_type": "execute_result"
    },
    {
     "data": {
      "text/plain": [
       "['+ 111 - 11 * 1',\n",
       " '+ 111 * 1 - 11',\n",
       " '- 11 + 111 * 1',\n",
       " '- 11 * 1 + 111',\n",
       " '+ 1 * 111 - 11',\n",
       " '- 1 * 11 + 111']"
      ]
     },
     "execution_count": 33,
     "metadata": {},
     "output_type": "execute_result"
    }
   ],
   "source": [
    "sumTo('111111','+-*',100)"
   ]
  },
  {
   "cell_type": "markdown",
   "id": "4f514e13",
   "metadata": {},
   "source": [
    "Given a string s, write a function extractParenthesesI(s)to extract all the parentheses and return a string of parentheses using iterations only. You do not have to care if the string s is a correct arithmetic expression or not. "
   ]
  },
  {
   "cell_type": "code",
   "execution_count": 34,
   "id": "980bc782",
   "metadata": {},
   "outputs": [],
   "source": [
    "def extractParenthesesI(pString):\n",
    "    \n",
    "    result = ''\n",
    "    \n",
    "    for elt in pString:  \n",
    "        \n",
    "        if elt == '(':\n",
    "            \n",
    "            result += elt\n",
    "        \n",
    "        elif elt == ')':\n",
    "            \n",
    "            result += elt\n",
    "    \n",
    "    return result"
   ]
  },
  {
   "cell_type": "code",
   "execution_count": 35,
   "id": "66f47d59",
   "metadata": {},
   "outputs": [
    {
     "name": "stdout",
     "output_type": "stream",
     "text": [
      "()(())\n",
      "()(())\n"
     ]
    }
   ],
   "source": [
    "print(extractParenthesesI('(1+Y)*(3+(X-5))'))"
   ]
  },
  {
   "cell_type": "code",
   "execution_count": 36,
   "id": "2594ef60",
   "metadata": {
    "scrolled": false
   },
   "outputs": [],
   "source": [
    "def extractParenthesesR(pString):\n",
    "    \n",
    "    if len(pString) == 0:\n",
    "        \n",
    "        return ''\n",
    "    \n",
    "    elif pString[0] == '(':\n",
    "        \n",
    "        return  '(' + extractParenthesesR(pString[1:]) \n",
    "    \n",
    "    elif pString[0] == ')':\n",
    "    \n",
    "        return  ')' + extractParenthesesR(pString[1:]) \n",
    "    \n",
    "    else:\n",
    "        \n",
    "        return extractParenthesesR(pString[1:])\n",
    "        \n",
    "        \n",
    "    "
   ]
  },
  {
   "cell_type": "code",
   "execution_count": 37,
   "id": "82275426",
   "metadata": {},
   "outputs": [
    {
     "name": "stdout",
     "output_type": "stream",
     "text": [
      "()(())\n",
      "()(())\n"
     ]
    }
   ],
   "source": [
    "print(extractParenthesesR('(1+Y)*(3+(X-5))'))"
   ]
  },
  {
   "cell_type": "markdown",
   "id": "04988816",
   "metadata": {},
   "source": [
    "Follow the normal mathematic conventions, write a function cbp(s) (cbp = check balanced parentheses) to check if an expression has the correct parentheses balanced."
   ]
  },
  {
   "cell_type": "code",
   "execution_count": 38,
   "id": "615df56a",
   "metadata": {},
   "outputs": [],
   "source": [
    "def cbp(pString):\n",
    "    \n",
    "    checkP = []\n",
    "    \n",
    "    for elt in pString:\n",
    "        \n",
    "        if elt == '(':\n",
    "            check = []\n",
    "            check.append(elt)\n",
    "            check.append(False)\n",
    "            checkP.append(check)\n",
    "        elif elt == ')':\n",
    "            check = []\n",
    "            check.append(elt)\n",
    "            check.append(False)\n",
    "            checkP.append(check)\n",
    "            \n",
    "    length = len(checkP)\n",
    "    \n",
    "    for i in range(length):\n",
    "        \n",
    "        if checkP[i][0] == '(':\n",
    "            \n",
    "            flag = False\n",
    "        \n",
    "            for j in range(i,length):\n",
    "            \n",
    "                if checkP[j][0] == ')' and flag == False and checkP[j][1] == False:\n",
    "                    \n",
    "                    flag = True\n",
    "                    checkP[j][1] = True\n",
    "                    checkP[i][1] = True\n",
    "        \n",
    "    for elt in checkP:\n",
    "        \n",
    "        if elt[1] == False:\n",
    "            return False\n",
    "    \n",
    "    return True"
   ]
  },
  {
   "cell_type": "code",
   "execution_count": 39,
   "id": "b0d4a59d",
   "metadata": {},
   "outputs": [
    {
     "name": "stdout",
     "output_type": "stream",
     "text": [
      "True\n",
      "True\n"
     ]
    }
   ],
   "source": [
    "print(cbp('(1+2)*(3+(4-5))'))"
   ]
  },
  {
   "cell_type": "code",
   "execution_count": 40,
   "id": "73034cd7",
   "metadata": {},
   "outputs": [
    {
     "name": "stdout",
     "output_type": "stream",
     "text": [
      "False\n",
      "False\n"
     ]
    }
   ],
   "source": [
    "print(cbp('(1+2)*(3+(4-5)))'))"
   ]
  },
  {
   "cell_type": "code",
   "execution_count": 41,
   "id": "021d0c9e",
   "metadata": {},
   "outputs": [
    {
     "name": "stdout",
     "output_type": "stream",
     "text": [
      "False\n",
      "False\n"
     ]
    }
   ],
   "source": [
    "print(cbp('(1+2)-Y*X+(3+(4-Z)'))"
   ]
  },
  {
   "cell_type": "markdown",
   "id": "79f3b5c7",
   "metadata": {},
   "source": [
    "Now, in your packet, you have $m and you want to enjoy the most expensive burger you can buy from our café! Write a function buyMaxBurger(priceList,m) with a given pricelist as above and an integer m, return a tuple that contains the most expensive burger that you can make and the change you left after buying the burger with $m. If you order the ingredient by their prices in ascending order, that each price is at least doubled as the previous price. Namely, the price for ‘P’ is at least 6 because the previous price for ‘V’ is 3. However, you cannot assume the dictionary given is sorted."
   ]
  },
  {
   "cell_type": "code",
   "execution_count": 42,
   "id": "1a344e8c",
   "metadata": {},
   "outputs": [],
   "source": [
    "priceList0 = {'C':1,'V':3,'P':11,'A':31}\n",
    "priceList1 = {'C':1,'W':2,'I':4,'T':9,'O':20,'V':41,'S':85}"
   ]
  },
  {
   "cell_type": "code",
   "execution_count": 43,
   "id": "8d79ce02",
   "metadata": {},
   "outputs": [],
   "source": [
    "def buyMaxBurger(priceList,m):\n",
    "    \n",
    "    if m == 0:\n",
    "        return ('',0)\n",
    "    \n",
    "    result = ''\n",
    "    valueArray = []\n",
    "    \n",
    "    for item in priceList.items():\n",
    "        \n",
    "        valueArray.append(item[1])\n",
    "    \n",
    "    valueArray.sort()\n",
    "    valueDict = {}\n",
    "    length = len(valueArray)\n",
    "    expense = m\n",
    "    startIndex = length-1\n",
    "    \n",
    "        \n",
    "    for elt in priceList.items():\n",
    "        \n",
    "        valueDict[elt[1]] = elt[0]\n",
    "                 \n",
    "                \n",
    "    for i in range(length):\n",
    "        \n",
    "        if valueArray[i] > m:\n",
    "            \n",
    "            startIndex = i-1\n",
    "            break\n",
    "    \n",
    "    while startIndex > -1:\n",
    "        \n",
    "        if expense - valueArray[startIndex]  > 0:\n",
    "            expense -= valueArray[startIndex]\n",
    "            result += valueDict[valueArray[startIndex]]\n",
    "        \n",
    "        startIndex -= 1\n",
    "    \n",
    "    return ('B'+result+'B',expense)\n",
    "            "
   ]
  },
  {
   "cell_type": "code",
   "execution_count": 44,
   "id": "0bb4135c",
   "metadata": {},
   "outputs": [
    {
     "name": "stdout",
     "output_type": "stream",
     "text": [
      "('BPVCB', 11)\n",
      "('BPVCB', 11)\n"
     ]
    }
   ],
   "source": [
    "print(buyMaxBurger(priceList0,26))"
   ]
  },
  {
   "cell_type": "code",
   "execution_count": 45,
   "id": "4fd076cc",
   "metadata": {},
   "outputs": [
    {
     "name": "stdout",
     "output_type": "stream",
     "text": [
      "('BVTIB', 1)\n",
      "('BVTIB', 1)\n"
     ]
    }
   ],
   "source": [
    "print(buyMaxBurger(priceList1,55))"
   ]
  }
 ],
 "metadata": {
  "kernelspec": {
   "display_name": "Python 3 (ipykernel)",
   "language": "python",
   "name": "python3"
  },
  "language_info": {
   "codemirror_mode": {
    "name": "ipython",
    "version": 3
   },
   "file_extension": ".py",
   "mimetype": "text/x-python",
   "name": "python",
   "nbconvert_exporter": "python",
   "pygments_lexer": "ipython3",
   "version": "3.11.4"
  }
 },
 "nbformat": 4,
 "nbformat_minor": 5
}
