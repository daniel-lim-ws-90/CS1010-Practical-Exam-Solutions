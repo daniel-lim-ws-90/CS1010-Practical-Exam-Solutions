{
 "cells": [
  {
   "cell_type": "markdown",
   "id": "6726fda6",
   "metadata": {},
   "source": [
    "### 10 Jun 2017, 9 Jun 2018, 16 June 2018, 6 June 2020"
   ]
  },
  {
   "cell_type": "markdown",
   "id": "cbabe597",
   "metadata": {},
   "source": [
    "Write a function factors that returns a list of the factors for a positive integer n > 1. The factors should be ordered in ascending order."
   ]
  },
  {
   "cell_type": "code",
   "execution_count": 1,
   "id": "49a7f82f",
   "metadata": {},
   "outputs": [],
   "source": [
    " def factors(n):\n",
    "        \n",
    "    result = [1]\n",
    "        \n",
    "    for i in range(2, n+1):\n",
    "        \n",
    "        if n % i == 0:\n",
    "            \n",
    "            result.append(i)\n",
    "        \n",
    "    return result   "
   ]
  },
  {
   "cell_type": "code",
   "execution_count": 2,
   "id": "a3892072",
   "metadata": {},
   "outputs": [
    {
     "data": {
      "text/plain": [
       "[1, 2]"
      ]
     },
     "execution_count": 2,
     "metadata": {},
     "output_type": "execute_result"
    }
   ],
   "source": [
    "factors(2)\n"
   ]
  },
  {
   "cell_type": "code",
   "execution_count": 3,
   "id": "f4e11d69",
   "metadata": {},
   "outputs": [
    {
     "data": {
      "text/plain": [
       "[1, 13]"
      ]
     },
     "execution_count": 3,
     "metadata": {},
     "output_type": "execute_result"
    }
   ],
   "source": [
    "factors(13)\n"
   ]
  },
  {
   "cell_type": "code",
   "execution_count": 4,
   "id": "b908738a",
   "metadata": {},
   "outputs": [
    {
     "data": {
      "text/plain": [
       "[1, 2, 3, 6, 9, 18]"
      ]
     },
     "execution_count": 4,
     "metadata": {},
     "output_type": "execute_result"
    }
   ],
   "source": [
    "factors(18)\n"
   ]
  },
  {
   "cell_type": "markdown",
   "id": "41157475",
   "metadata": {},
   "source": [
    "Write a function repetitions that given a string, returns the maximum number of repeated substrings within the string. How this works should be clear from the following examples."
   ]
  },
  {
   "cell_type": "code",
   "execution_count": 5,
   "id": "622f1684",
   "metadata": {},
   "outputs": [],
   "source": [
    "def repetitions(word):\n",
    "    \n",
    "    current = [word[0]]\n",
    "    currentIndex = 0\n",
    "    currentLength = len(current)\n",
    "    \n",
    "    \n",
    "    wordLength = len(word)\n",
    "    wordIndex = 0\n",
    "    \n",
    "    count = 0\n",
    "    \n",
    "    \n",
    "    while wordIndex < wordLength:\n",
    "        \n",
    "        \n",
    "        if word[wordIndex] != current[currentIndex]:\n",
    "            \n",
    "            count = 1\n",
    "                \n",
    "            current.clear()\n",
    "            \n",
    "            for i in range(wordIndex+1):\n",
    "                \n",
    "                current.append(word[i])\n",
    "            \n",
    "            currentLength = len(current)\n",
    "            currentIndex = 0\n",
    "            wordIndex += 1\n",
    "        \n",
    "        else:\n",
    "                  \n",
    "            if currentIndex == currentLength - 1:\n",
    "                \n",
    "                currentIndex = 0\n",
    "                count += 1\n",
    "                wordIndex += 1\n",
    "                \n",
    "            \n",
    "            else:\n",
    "                \n",
    "               \n",
    "                currentIndex += 1\n",
    "                wordIndex += 1\n",
    "                               \n",
    "    return count   \n",
    "    "
   ]
  },
  {
   "cell_type": "code",
   "execution_count": 6,
   "id": "a10710b3",
   "metadata": {},
   "outputs": [
    {
     "data": {
      "text/plain": [
       "5"
      ]
     },
     "execution_count": 6,
     "metadata": {},
     "output_type": "execute_result"
    }
   ],
   "source": [
    " repetitions(\"aaaaa\")\n"
   ]
  },
  {
   "cell_type": "code",
   "execution_count": 7,
   "id": "efa3ba74",
   "metadata": {},
   "outputs": [
    {
     "data": {
      "text/plain": [
       "3"
      ]
     },
     "execution_count": 7,
     "metadata": {},
     "output_type": "execute_result"
    }
   ],
   "source": [
    " repetitions(\"ababab\")"
   ]
  },
  {
   "cell_type": "code",
   "execution_count": 8,
   "id": "433c6de0",
   "metadata": {},
   "outputs": [
    {
     "data": {
      "text/plain": [
       "1"
      ]
     },
     "execution_count": 8,
     "metadata": {},
     "output_type": "execute_result"
    }
   ],
   "source": [
    "repetitions(\"abababc\")\n"
   ]
  },
  {
   "cell_type": "code",
   "execution_count": 9,
   "id": "6f2bbe60",
   "metadata": {},
   "outputs": [
    {
     "data": {
      "text/plain": [
       "2"
      ]
     },
     "execution_count": 9,
     "metadata": {},
     "output_type": "execute_result"
    }
   ],
   "source": [
    " repetitions(\"abadbabcabadbabc\")"
   ]
  },
  {
   "cell_type": "markdown",
   "id": "2f8aa489",
   "metadata": {},
   "source": [
    "Write a function digit product that takes in a non-negative integer n and returns the product of all the digits of the integer."
   ]
  },
  {
   "cell_type": "code",
   "execution_count": 10,
   "id": "c0c0f0ef",
   "metadata": {},
   "outputs": [],
   "source": [
    "def digit_product(n):\n",
    "    \n",
    "    numString = str(n)\n",
    "    product = 1\n",
    "    \n",
    "    for character in numString:\n",
    "        \n",
    "        product *= int(character)\n",
    "        \n",
    "    \n",
    "    return product\n",
    "        "
   ]
  },
  {
   "cell_type": "code",
   "execution_count": 11,
   "id": "f622ccad",
   "metadata": {},
   "outputs": [
    {
     "data": {
      "text/plain": [
       "1"
      ]
     },
     "execution_count": 11,
     "metadata": {},
     "output_type": "execute_result"
    }
   ],
   "source": [
    "digit_product(1111)"
   ]
  },
  {
   "cell_type": "code",
   "execution_count": 12,
   "id": "f01d48f6",
   "metadata": {},
   "outputs": [
    {
     "data": {
      "text/plain": [
       "6"
      ]
     },
     "execution_count": 12,
     "metadata": {},
     "output_type": "execute_result"
    }
   ],
   "source": [
    "digit_product(123)\n"
   ]
  },
  {
   "cell_type": "code",
   "execution_count": 13,
   "id": "80243f94",
   "metadata": {},
   "outputs": [
    {
     "data": {
      "text/plain": [
       "0"
      ]
     },
     "execution_count": 13,
     "metadata": {},
     "output_type": "execute_result"
    }
   ],
   "source": [
    "digit_product(123041)\n"
   ]
  },
  {
   "cell_type": "code",
   "execution_count": 14,
   "id": "597049dc",
   "metadata": {},
   "outputs": [],
   "source": [
    "def numArray(num,length,final):\n",
    "    \n",
    "    if len(num) == length:\n",
    "        \n",
    "        array = []\n",
    "        for character in num:\n",
    "            array.append(character)\n",
    "        final.append(array)\n",
    "    \n",
    "    else:\n",
    "        \n",
    "        for i in range(len(num)):\n",
    "            \n",
    "            numCopy = num.copy()\n",
    "            numCopy.pop(i)\n",
    "            numArray(numCopy,length,final)\n",
    "            "
   ]
  },
  {
   "cell_type": "code",
   "execution_count": 15,
   "id": "2eecece7",
   "metadata": {},
   "outputs": [],
   "source": [
    "def max_digit_product(n,length):\n",
    "    \n",
    "    numString = str(n)\n",
    "    start = []\n",
    "    final = []\n",
    "    maxNum = 0\n",
    "    \n",
    "    \n",
    "    for character in numString:\n",
    "        start.append(character)\n",
    "    \n",
    "    numArray(start,length,final)\n",
    "    \n",
    "    for array in final:\n",
    "        \n",
    "        product = 1\n",
    "        \n",
    "        for num in array:\n",
    "            \n",
    "            product *= int(num)\n",
    "        \n",
    "        maxNum = max(maxNum,product)\n",
    "    \n",
    "    return maxNum"
   ]
  },
  {
   "cell_type": "code",
   "execution_count": 16,
   "id": "220657e1",
   "metadata": {},
   "outputs": [
    {
     "data": {
      "text/plain": [
       "3"
      ]
     },
     "execution_count": 16,
     "metadata": {},
     "output_type": "execute_result"
    }
   ],
   "source": [
    "max_digit_product(11123,1)"
   ]
  },
  {
   "cell_type": "code",
   "execution_count": 17,
   "id": "1baa9d5a",
   "metadata": {},
   "outputs": [
    {
     "data": {
      "text/plain": [
       "6"
      ]
     },
     "execution_count": 17,
     "metadata": {},
     "output_type": "execute_result"
    }
   ],
   "source": [
    "max_digit_product(112311,2)\n"
   ]
  },
  {
   "cell_type": "code",
   "execution_count": 18,
   "id": "9fd81696",
   "metadata": {},
   "outputs": [
    {
     "data": {
      "text/plain": [
       "1"
      ]
     },
     "execution_count": 18,
     "metadata": {},
     "output_type": "execute_result"
    }
   ],
   "source": [
    "max_digit_product(1111111,5)"
   ]
  },
  {
   "cell_type": "code",
   "execution_count": 19,
   "id": "6c7ae398",
   "metadata": {},
   "outputs": [
    {
     "data": {
      "text/plain": [
       "72"
      ]
     },
     "execution_count": 19,
     "metadata": {},
     "output_type": "execute_result"
    }
   ],
   "source": [
    "max_digit_product(189113451,2)\n"
   ]
  },
  {
   "cell_type": "markdown",
   "id": "bbfb605c",
   "metadata": {},
   "source": [
    "Write a function pythagoras that takes in 3 points, which are pairs and return True if the 3 points make up a right angle triangle."
   ]
  },
  {
   "cell_type": "code",
   "execution_count": 20,
   "id": "210dbb65",
   "metadata": {},
   "outputs": [],
   "source": [
    "def  pythagoras(coord1,coord2,coord3):\n",
    "    \n",
    "    xval1 = (coord1[0] - coord2[0])**2\n",
    "    xval2 = (coord2[0] - coord3[0])**2\n",
    "    xval3 = (coord1[0] - coord3[0])**2\n",
    "    \n",
    "    yval1 = (coord1[1] - coord2[1])**2\n",
    "    yval2 = (coord2[1] - coord3[1])**2\n",
    "    yval3 = (coord1[1] - coord3[1])**2\n",
    "    \n",
    "    if xval1 + yval1 + xval2 + yval2 == xval3 + yval3:\n",
    "        \n",
    "        return True\n",
    "    \n",
    "    elif xval2 + yval2 + xval3 + yval3 == xval1 + yval1:\n",
    "        \n",
    "        return True\n",
    "    \n",
    "    elif xval1 + yval1 + xval3 + yval3 == xval2 + yval2:\n",
    "        \n",
    "        return True\n",
    "    \n",
    "    else: \n",
    "        \n",
    "        return False"
   ]
  },
  {
   "cell_type": "code",
   "execution_count": 21,
   "id": "a91de561",
   "metadata": {},
   "outputs": [
    {
     "data": {
      "text/plain": [
       "False"
      ]
     },
     "execution_count": 21,
     "metadata": {},
     "output_type": "execute_result"
    }
   ],
   "source": [
    "pythagoras((0,0),(1,2),(1,1))"
   ]
  },
  {
   "cell_type": "code",
   "execution_count": 22,
   "id": "c68231ef",
   "metadata": {},
   "outputs": [
    {
     "data": {
      "text/plain": [
       "True"
      ]
     },
     "execution_count": 22,
     "metadata": {},
     "output_type": "execute_result"
    }
   ],
   "source": [
    "pythagoras((0,0),(1,0),(0,1))"
   ]
  },
  {
   "cell_type": "code",
   "execution_count": 23,
   "id": "5e0b26d9",
   "metadata": {},
   "outputs": [
    {
     "data": {
      "text/plain": [
       "True"
      ]
     },
     "execution_count": 23,
     "metadata": {},
     "output_type": "execute_result"
    }
   ],
   "source": [
    "pythagoras((0,0),(2,0),(0,2))"
   ]
  },
  {
   "cell_type": "markdown",
   "id": "d71fccef",
   "metadata": {},
   "source": [
    "Write a function count triangles that takes in a list of points and returns the number of right angled triangles that can be formed with the points in the list. You may assume that all the points are distinct."
   ]
  },
  {
   "cell_type": "code",
   "execution_count": 24,
   "id": "096ef69c",
   "metadata": {},
   "outputs": [],
   "source": [
    "def get3(pointList, final):\n",
    "    \n",
    "    if len(pointList) == 3:\n",
    "        \n",
    "        final.append(pointList)\n",
    "        return\n",
    "    \n",
    "    else:\n",
    "        \n",
    "        for item in pointList:\n",
    "            \n",
    "            copyList = pointList.copy()\n",
    "            copyList.remove(item)\n",
    "            get3(copyList, final)"
   ]
  },
  {
   "cell_type": "code",
   "execution_count": 25,
   "id": "ab9adfb8",
   "metadata": {},
   "outputs": [],
   "source": [
    "def count_triangles(pointTuple):\n",
    "    \n",
    "    pointList = []\n",
    "    \n",
    "    final = []\n",
    "    \n",
    "    count = 0\n",
    "    \n",
    "    for item in pointTuple:\n",
    "        \n",
    "        pointList.append(item)\n",
    "    \n",
    "    get3(pointList, final)\n",
    "    #print(final)\n",
    "    \n",
    "    for item in final:\n",
    "        \n",
    "        if pythagoras(item[0],item[1],item[2]) == True:\n",
    "            #print(item)\n",
    "            count += 1\n",
    "    \n",
    "    return count"
   ]
  },
  {
   "cell_type": "code",
   "execution_count": 26,
   "id": "25db54d7",
   "metadata": {},
   "outputs": [
    {
     "data": {
      "text/plain": [
       "1"
      ]
     },
     "execution_count": 26,
     "metadata": {},
     "output_type": "execute_result"
    }
   ],
   "source": [
    "count_triangles(((0,0),(1,0),(0,1)))"
   ]
  },
  {
   "cell_type": "code",
   "execution_count": 27,
   "id": "398dc144",
   "metadata": {},
   "outputs": [
    {
     "data": {
      "text/plain": [
       "0"
      ]
     },
     "execution_count": 27,
     "metadata": {},
     "output_type": "execute_result"
    }
   ],
   "source": [
    "count_triangles(((0,0),(1,1),(2,1)))"
   ]
  },
  {
   "cell_type": "code",
   "execution_count": 28,
   "id": "98b78d09",
   "metadata": {},
   "outputs": [
    {
     "data": {
      "text/plain": [
       "2"
      ]
     },
     "execution_count": 28,
     "metadata": {},
     "output_type": "execute_result"
    }
   ],
   "source": [
    "count_triangles(((0,0),(1,0),(0,1),(-1,-2)))"
   ]
  },
  {
   "cell_type": "code",
   "execution_count": 29,
   "id": "4e04c1ef",
   "metadata": {},
   "outputs": [
    {
     "data": {
      "text/plain": [
       "4"
      ]
     },
     "execution_count": 29,
     "metadata": {},
     "output_type": "execute_result"
    }
   ],
   "source": [
    "count_triangles(((0,0),(1,0),(0,1),(1,1)))"
   ]
  },
  {
   "cell_type": "markdown",
   "id": "11ad5827",
   "metadata": {},
   "source": [
    "Your first task is to write a function ET numbers that takes in two parameters: number and mapping. The function must return the ‘ET number’ representation of number (which is a decimal integer) based on the mapping passed to it."
   ]
  },
  {
   "cell_type": "code",
   "execution_count": 30,
   "id": "cf478835",
   "metadata": {},
   "outputs": [],
   "source": [
    "def ET_number(target, inputTuple):\n",
    "    \n",
    "    length = len(inputTuple)\n",
    "    refDic = {}\n",
    "    result = \"\"\n",
    "    refTarget = target\n",
    "    \n",
    "    for i in range(length):\n",
    "        \n",
    "        refDic[i] = inputTuple[i]\n",
    "    \n",
    "    \n",
    "    while refTarget > 0:\n",
    "        \n",
    "        modulo = refTarget%length\n",
    "        result = refDic[modulo] + result\n",
    "        refTarget = refTarget - modulo\n",
    "        refTarget = refTarget/length\n",
    "    \n",
    "    return result"
   ]
  },
  {
   "cell_type": "code",
   "execution_count": 31,
   "id": "ba68e7f1",
   "metadata": {},
   "outputs": [
    {
     "data": {
      "text/plain": [
       "'5'"
      ]
     },
     "execution_count": 31,
     "metadata": {},
     "output_type": "execute_result"
    }
   ],
   "source": [
    "ET_number(5, (\"0\",\"1\",\"2\",\"3\",\"4\",\"5\",\"6\",\"7\",\"8\",\"9\"))\n"
   ]
  },
  {
   "cell_type": "code",
   "execution_count": 32,
   "id": "dcbf1725",
   "metadata": {},
   "outputs": [
    {
     "data": {
      "text/plain": [
       "'79'"
      ]
     },
     "execution_count": 32,
     "metadata": {},
     "output_type": "execute_result"
    }
   ],
   "source": [
    "ET_number(20, (\"9\",\"8\",\"7\",\"6\",\"5\",\"4\",\"3\",\"2\",\"1\",\"0\"))"
   ]
  },
  {
   "cell_type": "code",
   "execution_count": 33,
   "id": "f1148b5c",
   "metadata": {},
   "outputs": [
    {
     "data": {
      "text/plain": [
       "'14'"
      ]
     },
     "execution_count": 33,
     "metadata": {},
     "output_type": "execute_result"
    }
   ],
   "source": [
    "ET_number(10, (\"0\",\"1\",\"2\",\"3\",\"4\",\"5\"))"
   ]
  },
  {
   "cell_type": "code",
   "execution_count": 34,
   "id": "4d49c018",
   "metadata": {},
   "outputs": [
    {
     "data": {
      "text/plain": [
       "'440'"
      ]
     },
     "execution_count": 34,
     "metadata": {},
     "output_type": "execute_result"
    }
   ],
   "source": [
    "ET_number(6, (\"0\",\"4\"))\n"
   ]
  },
  {
   "cell_type": "code",
   "execution_count": 35,
   "id": "1d8c3adc",
   "metadata": {},
   "outputs": [
    {
     "data": {
      "text/plain": [
       "'010'"
      ]
     },
     "execution_count": 35,
     "metadata": {},
     "output_type": "execute_result"
    }
   ],
   "source": [
    "ET_number(5, (\"1\",\"0\"))\n"
   ]
  },
  {
   "cell_type": "code",
   "execution_count": 36,
   "id": "dc16fcf1",
   "metadata": {},
   "outputs": [
    {
     "data": {
      "text/plain": [
       "'bab'"
      ]
     },
     "execution_count": 36,
     "metadata": {},
     "output_type": "execute_result"
    }
   ],
   "source": [
    "ET_number(10, (\"a\",\"b\",\"c\"))"
   ]
  },
  {
   "cell_type": "markdown",
   "id": "4cb8d42c",
   "metadata": {},
   "source": [
    "Your second task is to write the function max ET number that takes a tuple of ET numbersand their corresponding mapping and returns the ET number with the highest value. You can assume that each ET number in ET numbers is of some non-negative value when converted into a decimal integer."
   ]
  },
  {
   "cell_type": "code",
   "execution_count": 37,
   "id": "d6f4eb44",
   "metadata": {},
   "outputs": [],
   "source": [
    "def max_ET_number(tuple1,tuple2):\n",
    "    \n",
    "    refDic = {}\n",
    "    length = len(tuple2)\n",
    "    count = 1\n",
    "    maxValue = 0\n",
    "    maxElt = \"\"\n",
    "    \n",
    "    for i in range(length):\n",
    "        \n",
    "        refDic[tuple2[i]] = i \n",
    "    \n",
    "    #print(refDic)\n",
    "    for elt in tuple1: \n",
    "        \n",
    "        value = 0\n",
    "            \n",
    "        for i in range(len(elt)):\n",
    "            \n",
    "                \n",
    "            value = value + ((refDic[elt[i]])*((length)**(len(elt)-1-i)))\n",
    "                \n",
    "        \n",
    "        if value > maxValue:\n",
    "            \n",
    "            maxValue = value\n",
    "            maxElt = elt\n",
    "    \n",
    "    return maxElt"
   ]
  },
  {
   "cell_type": "code",
   "execution_count": 38,
   "id": "9170b576",
   "metadata": {},
   "outputs": [
    {
     "data": {
      "text/plain": [
       "'5'"
      ]
     },
     "execution_count": 38,
     "metadata": {},
     "output_type": "execute_result"
    }
   ],
   "source": [
    "max_ET_number( (\"0\",\"1\",\"2\",\"3\",\"4\",\"5\"), (\"0\",\"1\",\"2\",\"3\",\"4\",\"5\",\"6\",\"7\",\"8\",\"9\"))\n"
   ]
  },
  {
   "cell_type": "code",
   "execution_count": 39,
   "id": "64644c8d",
   "metadata": {},
   "outputs": [
    {
     "data": {
      "text/plain": [
       "'42'"
      ]
     },
     "execution_count": 39,
     "metadata": {},
     "output_type": "execute_result"
    }
   ],
   "source": [
    "max_ET_number((\"12\",\"34\",\"42\",\"58\"), (\"0\",\"1\",\"8\",\"3\",\"5\",\"4\",\"6\",\"7\",\"2\",\"9\"))\n"
   ]
  },
  {
   "cell_type": "code",
   "execution_count": 40,
   "id": "cf58c5d0",
   "metadata": {},
   "outputs": [
    {
     "data": {
      "text/plain": [
       "'19'"
      ]
     },
     "execution_count": 40,
     "metadata": {},
     "output_type": "execute_result"
    }
   ],
   "source": [
    "max_ET_number((\"19\",\"20\",\"21\"), (\"0\",\"2\",\"1\",\"3\",\"4\",\"5\",\"6\",\"7\",\"8\",\"9\"))"
   ]
  },
  {
   "cell_type": "code",
   "execution_count": 41,
   "id": "6bf7a06a",
   "metadata": {},
   "outputs": [
    {
     "data": {
      "text/plain": [
       "'14'"
      ]
     },
     "execution_count": 41,
     "metadata": {},
     "output_type": "execute_result"
    }
   ],
   "source": [
    "max_ET_number((\"14\",\"15\"),(\"0\",\"1\",\"2\",\"3\",\"5\",\"4\"))\n"
   ]
  },
  {
   "cell_type": "code",
   "execution_count": 42,
   "id": "b1c73556",
   "metadata": {},
   "outputs": [
    {
     "data": {
      "text/plain": [
       "'770'"
      ]
     },
     "execution_count": 42,
     "metadata": {},
     "output_type": "execute_result"
    }
   ],
   "source": [
    "max_ET_number((\"707\",\"700\",\"770\"),(\"0\",\"7\"))\n"
   ]
  },
  {
   "cell_type": "code",
   "execution_count": 43,
   "id": "4b76947c",
   "metadata": {},
   "outputs": [
    {
     "data": {
      "text/plain": [
       "'4040'"
      ]
     },
     "execution_count": 43,
     "metadata": {},
     "output_type": "execute_result"
    }
   ],
   "source": [
    "max_ET_number((\"0\",\"4\",\"40\",\"44\",\"4004\",\"4040\"),(\"0\",\"4\"))"
   ]
  },
  {
   "cell_type": "code",
   "execution_count": 44,
   "id": "aace6801",
   "metadata": {},
   "outputs": [
    {
     "data": {
      "text/plain": [
       "'413'"
      ]
     },
     "execution_count": 44,
     "metadata": {},
     "output_type": "execute_result"
    }
   ],
   "source": [
    "max_ET_number((\"317\",\"311\",\"713\",\"413\"),(\"7\",\"1\",\"3\",\"4\"))"
   ]
  },
  {
   "cell_type": "code",
   "execution_count": 45,
   "id": "a2a9f4d0",
   "metadata": {},
   "outputs": [
    {
     "data": {
      "text/plain": [
       "'cb'"
      ]
     },
     "execution_count": 45,
     "metadata": {},
     "output_type": "execute_result"
    }
   ],
   "source": [
    "max_ET_number((\"aba\", \"abc\", \"ca\", \"cb\"), (\"a\", \"b\", \"c\"))\n"
   ]
  }
 ],
 "metadata": {
  "kernelspec": {
   "display_name": "Python 3 (ipykernel)",
   "language": "python",
   "name": "python3"
  },
  "language_info": {
   "codemirror_mode": {
    "name": "ipython",
    "version": 3
   },
   "file_extension": ".py",
   "mimetype": "text/x-python",
   "name": "python",
   "nbconvert_exporter": "python",
   "pygments_lexer": "ipython3",
   "version": "3.11.4"
  }
 },
 "nbformat": 4,
 "nbformat_minor": 5
}
