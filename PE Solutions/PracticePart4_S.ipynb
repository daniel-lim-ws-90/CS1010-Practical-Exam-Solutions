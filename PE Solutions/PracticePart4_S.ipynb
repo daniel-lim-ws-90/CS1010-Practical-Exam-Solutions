{
 "cells": [
  {
   "cell_type": "markdown",
   "id": "8bd7bc90",
   "metadata": {},
   "source": [
    "### 17 Nov 2018, 11 Nov 2020,  17 Apr 2021, 13 Nov 2021\n"
   ]
  },
  {
   "cell_type": "markdown",
   "id": "446d6ef8",
   "metadata": {},
   "source": [
    "Floyd’s triangle is a right-angled triangular array of natural numbers, used in computer science education. It is named after Robert Floyd. It is defined by filling the rows of the triangle with consecutive numbers, starting with a 1 in the top left corner."
   ]
  },
  {
   "cell_type": "markdown",
   "id": "f862d43e",
   "metadata": {},
   "source": [
    "Implement the function floyd_row(n) which takes in a positive integer n and returns a\n",
    "tuple of integers that represent the nth row of the Floyd’s triangle."
   ]
  },
  {
   "cell_type": "code",
   "execution_count": 1,
   "id": "d6a1f325",
   "metadata": {},
   "outputs": [],
   "source": [
    "def floyd_row(n):\n",
    "    \n",
    "    if n == 1:\n",
    "        return [1]\n",
    "    else:\n",
    "        newRow = []\n",
    "        lastRow = floyd_row(n-1)\n",
    "        for i in range(len(lastRow)):\n",
    "            newRow.append(lastRow[i] + n-1)\n",
    "            if i == len(lastRow)-1:\n",
    "                newRow.append(newRow[i]+1)\n",
    "        \n",
    "        return tuple(newRow)\n",
    "            \n",
    "    "
   ]
  },
  {
   "cell_type": "code",
   "execution_count": 2,
   "id": "2003137c",
   "metadata": {},
   "outputs": [
    {
     "data": {
      "text/plain": [
       "(2, 3)"
      ]
     },
     "execution_count": 2,
     "metadata": {},
     "output_type": "execute_result"
    }
   ],
   "source": [
    "floyd_row(2)"
   ]
  },
  {
   "cell_type": "code",
   "execution_count": 3,
   "id": "f2d7f279",
   "metadata": {},
   "outputs": [
    {
     "data": {
      "text/plain": [
       "(11, 12, 13, 14, 15)"
      ]
     },
     "execution_count": 3,
     "metadata": {},
     "output_type": "execute_result"
    }
   ],
   "source": [
    "floyd_row(5)\n"
   ]
  },
  {
   "cell_type": "markdown",
   "id": "da04b241",
   "metadata": {},
   "source": [
    "Implement the function floyd_sum(n) which takes in a positive integer n and returns the sum of all the numbers in the Floyd’s triangle until and including row n. You should solve it computationally taking at least O(n) time, i.e., not simply using a formula.\n"
   ]
  },
  {
   "cell_type": "code",
   "execution_count": 4,
   "id": "38bd37d0",
   "metadata": {},
   "outputs": [],
   "source": [
    "def sumRows(array):\n",
    "    \n",
    "    count = 0 \n",
    "    \n",
    "    for num in array:\n",
    "        \n",
    "        count += num\n",
    "    \n",
    "    return count\n",
    "            "
   ]
  },
  {
   "cell_type": "code",
   "execution_count": 5,
   "id": "a48ef5ba",
   "metadata": {},
   "outputs": [],
   "source": [
    "def floyd_sum(n):\n",
    "    \n",
    "    count = 0\n",
    "    final = 0\n",
    "    \n",
    "    for i in range(n+1):\n",
    "        \n",
    "        count = count + i\n",
    "    \n",
    "    for j in range(count+1):\n",
    "        \n",
    "        final = final + j\n",
    "        \n",
    "    return final"
   ]
  },
  {
   "cell_type": "code",
   "execution_count": 6,
   "id": "dc321073",
   "metadata": {},
   "outputs": [
    {
     "data": {
      "text/plain": [
       "1"
      ]
     },
     "execution_count": 6,
     "metadata": {},
     "output_type": "execute_result"
    }
   ],
   "source": [
    "floyd_sum(1)"
   ]
  },
  {
   "cell_type": "code",
   "execution_count": 7,
   "id": "87c53f01",
   "metadata": {},
   "outputs": [
    {
     "data": {
      "text/plain": [
       "6"
      ]
     },
     "execution_count": 7,
     "metadata": {},
     "output_type": "execute_result"
    }
   ],
   "source": [
    "floyd_sum(2)"
   ]
  },
  {
   "cell_type": "code",
   "execution_count": 8,
   "id": "2c16481d",
   "metadata": {},
   "outputs": [
    {
     "data": {
      "text/plain": [
       "120"
      ]
     },
     "execution_count": 8,
     "metadata": {},
     "output_type": "execute_result"
    }
   ],
   "source": [
    "floyd_sum(5)"
   ]
  },
  {
   "cell_type": "markdown",
   "id": "0c6d8236",
   "metadata": {},
   "source": [
    "You have been asked to babysit your 5-year-old nephew for the weekend and he likes to play with blocks. The blocks come in two forms: (i) cubes; and (ii) 2-cube cubiods (equivalent to 2 cubes glued together). He wants to build pyramids, which has n layers. The bottom layer has length n and each subsequent layer above is 1 cube shorter. At the very top is a cube."
   ]
  },
  {
   "cell_type": "code",
   "execution_count": 9,
   "id": "ed1ee0d3",
   "metadata": {},
   "outputs": [],
   "source": [
    "def bottomRow(n):\n",
    "    if n == 1:\n",
    "        return 1\n",
    "    elif n == 2:\n",
    "        return 2\n",
    "    else:\n",
    "        return (bottomRow(n-1) + bottomRow(n-2))"
   ]
  },
  {
   "cell_type": "code",
   "execution_count": 10,
   "id": "7d89f1a8",
   "metadata": {},
   "outputs": [],
   "source": [
    "def pyramids(n):\n",
    "    \n",
    "    if n == 1:\n",
    "        return 1\n",
    "    elif n == 2:\n",
    "        return 2\n",
    "    else:\n",
    "        return bottomRow(n)*pyramids(n-1)"
   ]
  },
  {
   "cell_type": "code",
   "execution_count": 11,
   "id": "982e1afd",
   "metadata": {},
   "outputs": [
    {
     "data": {
      "text/plain": [
       "6"
      ]
     },
     "execution_count": 11,
     "metadata": {},
     "output_type": "execute_result"
    }
   ],
   "source": [
    "pyramids(3)"
   ]
  },
  {
   "cell_type": "code",
   "execution_count": 12,
   "id": "4c965c58",
   "metadata": {},
   "outputs": [
    {
     "data": {
      "text/plain": [
       "30"
      ]
     },
     "execution_count": 12,
     "metadata": {},
     "output_type": "execute_result"
    }
   ],
   "source": [
    "pyramids(4)"
   ]
  },
  {
   "cell_type": "code",
   "execution_count": 13,
   "id": "d78d62e0",
   "metadata": {},
   "outputs": [],
   "source": [
    "def new1(curr):\n",
    "    \n",
    "    if curr%2 == 0:\n",
    "        \n",
    "        return (curr/2) + 1 + curr\n",
    "    \n",
    "    else:\n",
    "        \n",
    "        return (curr-1)/2 + 1 + curr"
   ]
  },
  {
   "cell_type": "code",
   "execution_count": 14,
   "id": "0b0ab17f",
   "metadata": {},
   "outputs": [],
   "source": [
    "def new2(curr, dest):\n",
    "    \n",
    "    x = dest - curr\n",
    "    \n",
    "    if x%2 == 0:\n",
    "        \n",
    "        return curr + x/2 + 1\n",
    "    \n",
    "    else:\n",
    "        \n",
    "        return curr + (x-1)/2 + 1\n",
    "    "
   ]
  },
  {
   "cell_type": "code",
   "execution_count": 15,
   "id": "eea862d1",
   "metadata": {},
   "outputs": [],
   "source": [
    "def nextjump(curr, dest):\n",
    "    \n",
    "    if abs(curr - dest) == 0:\n",
    "        \n",
    "        return 0\n",
    "    \n",
    "    elif new2(curr, dest) == dest:\n",
    "        \n",
    "        return nextjump(new2(curr,dest), dest) + 1\n",
    "    \n",
    "    elif new1(curr) == dest:\n",
    "        \n",
    "        return nextjump(new1(curr), dest) + 1\n",
    "    \n",
    "    elif new1(curr) < dest and new2(curr,dest) > dest:\n",
    "        \n",
    "        return nextjump(new1(curr), dest) + 1\n",
    "    \n",
    "    elif new1(curr) > dest and new2(curr,dest) < dest:\n",
    "        \n",
    "        return nextjump(new2(curr,dest), dest) + 1\n",
    "    \n",
    "    else:\n",
    "        \n",
    "        min1 = nextjump(new1(curr), dest) + 1\n",
    "        min2 = nextjump(new2(curr,dest), dest) + 1\n",
    "        return min(min1,min2)\n",
    "\n",
    "#must put in more conditional checks. Cannot allow tree to expand indefinately"
   ]
  },
  {
   "cell_type": "code",
   "execution_count": 16,
   "id": "74073926",
   "metadata": {},
   "outputs": [],
   "source": [
    "def jump(n):\n",
    "    \n",
    "    return nextjump(0, n)\n",
    "    "
   ]
  },
  {
   "cell_type": "code",
   "execution_count": 17,
   "id": "ee3ce8c2",
   "metadata": {},
   "outputs": [
    {
     "name": "stdout",
     "output_type": "stream",
     "text": [
      "1 1\n",
      "2 1\n",
      "3 2\n",
      "4 2\n",
      "5 2\n",
      "6 2\n",
      "7 2\n",
      "8 2\n",
      "9 3\n",
      "10 2\n",
      "11 3\n",
      "12 3\n",
      "13 3\n",
      "14 3\n",
      "15 3\n",
      "16 3\n",
      "17 4\n",
      "18 3\n",
      "19 4\n",
      "20 4\n"
     ]
    }
   ],
   "source": [
    "for i in range(1,21):\n",
    "    \n",
    "    print(i,jump(i))"
   ]
  },
  {
   "cell_type": "markdown",
   "id": "378ee6c8",
   "metadata": {},
   "source": [
    "Implement the function num_walls that takes as input size and returns the number of walls in the honeycomb of the input size"
   ]
  },
  {
   "cell_type": "code",
   "execution_count": 18,
   "id": "97d8f1b6",
   "metadata": {
    "scrolled": true
   },
   "outputs": [],
   "source": [
    "def num_walls(n):\n",
    "    \n",
    "    if n == 0:\n",
    "        \n",
    "        return 0\n",
    "    \n",
    "    elif n == 1:\n",
    "        \n",
    "        return 6\n",
    "    \n",
    "    else:\n",
    "        \n",
    "        return num_walls(n-1) + 4 + 4 + 4 + 6*(n-2)+1"
   ]
  },
  {
   "cell_type": "code",
   "execution_count": 19,
   "id": "e39fb153",
   "metadata": {},
   "outputs": [
    {
     "name": "stdout",
     "output_type": "stream",
     "text": [
      "0\n",
      "6\n",
      "19\n",
      "38\n",
      "63\n",
      "94\n",
      "131\n",
      "174\n",
      "223\n",
      "278\n",
      "339\n",
      "406\n",
      "479\n",
      "558\n",
      "643\n",
      "734\n",
      "831\n",
      "934\n",
      "1043\n",
      "1158\n",
      "1279\n"
     ]
    }
   ],
   "source": [
    "for i in range(21):\n",
    "    print(num_walls(i))"
   ]
  },
  {
   "cell_type": "code",
   "execution_count": 20,
   "id": "93bd29f7",
   "metadata": {},
   "outputs": [
    {
     "data": {
      "text/plain": [
       "7699"
      ]
     },
     "execution_count": 20,
     "metadata": {},
     "output_type": "execute_result"
    }
   ],
   "source": [
    "num_walls(50)\n"
   ]
  }
 ],
 "metadata": {
  "kernelspec": {
   "display_name": "Python 3 (ipykernel)",
   "language": "python",
   "name": "python3"
  },
  "language_info": {
   "codemirror_mode": {
    "name": "ipython",
    "version": 3
   },
   "file_extension": ".py",
   "mimetype": "text/x-python",
   "name": "python",
   "nbconvert_exporter": "python",
   "pygments_lexer": "ipython3",
   "version": "3.11.4"
  }
 },
 "nbformat": 4,
 "nbformat_minor": 5
}
