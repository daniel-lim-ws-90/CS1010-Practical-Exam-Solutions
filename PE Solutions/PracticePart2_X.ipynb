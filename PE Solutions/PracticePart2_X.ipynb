{
 "cells": [
  {
   "cell_type": "markdown",
   "id": "d633a7f8",
   "metadata": {},
   "source": [
    "### 5 Jun 2021, 4 Jun 2016 "
   ]
  },
  {
   "cell_type": "markdown",
   "id": "8be59199",
   "metadata": {},
   "source": [
    "Given a list of lists, called lst, we are interested to compute another list of lists, called result lst. Base on the above idea, you write a function called better sum to return result lst as required. That is, you will have a faster codes to produce the same output as that of naive sum"
   ]
  },
  {
   "cell_type": "markdown",
   "id": "9fbc2cc2",
   "metadata": {},
   "source": [
    "What is the time complexity of naive sum with input of a list of lists? Ans: O(m*n*(m+1)*(n+1))."
   ]
  },
  {
   "cell_type": "code",
   "execution_count": 107,
   "id": "a98bbe4d",
   "metadata": {},
   "outputs": [],
   "source": [
    "def better_sum(twoDList):\n",
    "    \n",
    "    ColumnSum = []\n",
    "    \n",
    "    columnLength = len(twoDList) #go down rows\n",
    "    rowLength = len(twoDList[0]) #go accross columns\n",
    "    \n",
    "    for elt in twoDList:\n",
    "       \n",
    "        ColumnSum.append(elt.copy())\n",
    "    \n",
    "    for i in range(columnLength):\n",
    "        \n",
    "        for j in range(1,rowLength):  \n",
    "            \n",
    "            ColumnSum[i][j] += ColumnSum[i][j-1] \n",
    "                     \n",
    "                \n",
    "    for i in range(1,columnLength):\n",
    "        \n",
    "        for j in range(rowLength):\n",
    "            \n",
    "            ColumnSum[i][j] += ColumnSum[i-1][j]\n",
    "\n",
    "    \n",
    "    return ColumnSum"
   ]
  },
  {
   "cell_type": "code",
   "execution_count": 108,
   "id": "c5a8b854",
   "metadata": {},
   "outputs": [],
   "source": [
    "lst = [ [1, 2, 3, 4, 5, 6, 7, 8],\n",
    "[9, 0, 1, 2, 3, 4, 5, 6],\n",
    "[7, 8, 9, 0, 1, 2, 3, 4],\n",
    "[5, 6, 7, 8, 9, 0, 1, 2],\n",
    "[3, 4, 5, 6, 7, 8, 9, 0] ]\n"
   ]
  },
  {
   "cell_type": "code",
   "execution_count": 109,
   "id": "7ff3290c",
   "metadata": {
    "scrolled": true
   },
   "outputs": [
    {
     "data": {
      "text/plain": [
       "[[1, 3, 6, 10, 15, 21, 28, 36],\n",
       " [10, 12, 16, 22, 30, 40, 52, 66],\n",
       " [17, 27, 40, 46, 55, 67, 82, 100],\n",
       " [22, 38, 58, 72, 90, 102, 118, 138],\n",
       " [25, 45, 70, 90, 115, 135, 160, 180]]"
      ]
     },
     "execution_count": 109,
     "metadata": {},
     "output_type": "execute_result"
    }
   ],
   "source": [
    "better_sum(lst)\n"
   ]
  },
  {
   "cell_type": "code",
   "execution_count": 110,
   "id": "1714575d",
   "metadata": {},
   "outputs": [],
   "source": [
    "def dp_sum(twoDList):\n",
    "    \n",
    "    dpSum = []\n",
    "    \n",
    "    columnLength = len(twoDList)\n",
    "    rowLength = len(twoDList[0])\n",
    "    \n",
    "    for elt in twoDList:\n",
    "       \n",
    "        dpSum.append(elt.copy())\n",
    "    \n",
    "    for i in range(1,columnLength):\n",
    "        \n",
    "        dpSum[i][0] += dpSum[i-1][0]\n",
    "    \n",
    "    for j in range(1,rowLength):\n",
    "        \n",
    "        dpSum[0][j] += dpSum[0][j-1]\n",
    "    \n",
    "    \n",
    "    for i in range(1,columnLength):\n",
    "        \n",
    "        for j in range(1,rowLength):\n",
    "            \n",
    "            dpSum[i][j] =  dpSum[i-1][j] + dpSum[i][j-1] - dpSum[i-1][j-1] + dpSum[i][j]\n",
    "            \n",
    "    return dpSum"
   ]
  },
  {
   "cell_type": "code",
   "execution_count": 111,
   "id": "e076e221",
   "metadata": {},
   "outputs": [
    {
     "data": {
      "text/plain": [
       "[[1, 3, 6, 10, 15, 21, 28, 36],\n",
       " [10, 12, 16, 22, 30, 40, 52, 66],\n",
       " [17, 27, 40, 46, 55, 67, 82, 100],\n",
       " [22, 38, 58, 72, 90, 102, 118, 138],\n",
       " [25, 45, 70, 90, 115, 135, 160, 180]]"
      ]
     },
     "execution_count": 111,
     "metadata": {},
     "output_type": "execute_result"
    }
   ],
   "source": [
    "dp_sum(lst)"
   ]
  },
  {
   "cell_type": "markdown",
   "id": "3e219c5a",
   "metadata": {},
   "source": [
    "There is no difference in time complexity. dp_sum is slightly better because it saves going through another double loop"
   ]
  },
  {
   "cell_type": "markdown",
   "id": "ca7275d8",
   "metadata": {},
   "source": [
    "That is, we can write an O(1) time function search rect sum with inputs of result lst, ii, jj, i, j."
   ]
  },
  {
   "cell_type": "code",
   "execution_count": 112,
   "id": "30ea35bc",
   "metadata": {},
   "outputs": [],
   "source": [
    "def search_rect_sum(result_lst, ii, jj, i,j):\n",
    "    \n",
    "    a = 0\n",
    "    b = 0\n",
    "    c = 0\n",
    "    \n",
    "    if ii > 0 and jj > 0:\n",
    "        \n",
    "        a = result_lst[ii-1][j]\n",
    "        b = result_lst[i][jj-1]\n",
    "        c = result_lst[ii-1][jj-1]\n",
    "        \n",
    "        return result_lst[i][j] - a - b + c\n",
    "    \n",
    "    elif ii > 0 and jj == 0:\n",
    "        \n",
    "        return result_lst[i][j]- result_lst[ii-1][j]\n",
    "    \n",
    "    elif ii == 0 and jj > 0:\n",
    "        \n",
    "        return result_lst[i][j]- result_lst[i][jj-1]\n",
    "    \n",
    "    else:\n",
    "        \n",
    "        return result_lst[i][j]\n",
    "        "
   ]
  },
  {
   "cell_type": "code",
   "execution_count": 113,
   "id": "f404553b",
   "metadata": {},
   "outputs": [
    {
     "name": "stdout",
     "output_type": "stream",
     "text": [
      "12\n"
     ]
    }
   ],
   "source": [
    "result_lst = dp_sum(lst)\n",
    "print(search_rect_sum(result_lst, 3, 6, 4,7))"
   ]
  },
  {
   "cell_type": "code",
   "execution_count": 114,
   "id": "b5c91941",
   "metadata": {},
   "outputs": [
    {
     "name": "stdout",
     "output_type": "stream",
     "text": [
      "180\n"
     ]
    }
   ],
   "source": [
    "print(search_rect_sum(result_lst, 0, 0, 4,7))"
   ]
  },
  {
   "cell_type": "code",
   "execution_count": 115,
   "id": "b6dcb5cf",
   "metadata": {},
   "outputs": [
    {
     "name": "stdout",
     "output_type": "stream",
     "text": [
      "90\n"
     ]
    }
   ],
   "source": [
    "print(search_rect_sum(result_lst, 1, 0, 3, 6))"
   ]
  },
  {
   "cell_type": "code",
   "execution_count": 116,
   "id": "c7460c6e",
   "metadata": {},
   "outputs": [
    {
     "name": "stdout",
     "output_type": "stream",
     "text": [
      "69\n"
     ]
    }
   ],
   "source": [
    "print(search_rect_sum(result_lst, 1, 1, 3, 6))\n"
   ]
  },
  {
   "cell_type": "code",
   "execution_count": 117,
   "id": "27d23e97",
   "metadata": {},
   "outputs": [
    {
     "name": "stdout",
     "output_type": "stream",
     "text": [
      "24\n"
     ]
    }
   ],
   "source": [
    "print(search_rect_sum(result_lst, 2, 3, 3, 6))"
   ]
  },
  {
   "cell_type": "markdown",
   "id": "7762a3a0",
   "metadata": {},
   "source": [
    "Write a function contains that takes in two positive integers a and b and returns True if a contains the digits for b in the same sequence. Or, False otherwise. You may assume that neither a nor b contains the digit 0."
   ]
  },
  {
   "cell_type": "code",
   "execution_count": 3,
   "id": "16c8b24a",
   "metadata": {},
   "outputs": [],
   "source": [
    "def checkStart(a,b):\n",
    "    \n",
    "    aLength = len(a)\n",
    "    bLength = len(b)\n",
    "    \n",
    "    for i in range(bLength):\n",
    "        \n",
    "        if a[i] != b[i]:\n",
    "            \n",
    "            return False\n",
    "    \n",
    "    return True\n",
    "\n",
    "\n"
   ]
  },
  {
   "cell_type": "code",
   "execution_count": 7,
   "id": "be3baa18",
   "metadata": {},
   "outputs": [],
   "source": [
    "def contains(a,b):\n",
    "    \n",
    "    a = str(a)\n",
    "    b = str(b)\n",
    "    \n",
    "    difference = len(a) - len(b) + 1 \n",
    "    \n",
    "    for i in range(0,difference):\n",
    "        \n",
    "        if checkStart(a[i:],b) == True:\n",
    "            \n",
    "            return True\n",
    "    \n",
    "    return False"
   ]
  },
  {
   "cell_type": "code",
   "execution_count": 8,
   "id": "405f1bd1",
   "metadata": {},
   "outputs": [
    {
     "data": {
      "text/plain": [
       "True"
      ]
     },
     "execution_count": 8,
     "metadata": {},
     "output_type": "execute_result"
    }
   ],
   "source": [
    "contains(123,123)"
   ]
  },
  {
   "cell_type": "code",
   "execution_count": 9,
   "id": "1a8fd0b2",
   "metadata": {},
   "outputs": [
    {
     "data": {
      "text/plain": [
       "True"
      ]
     },
     "execution_count": 9,
     "metadata": {},
     "output_type": "execute_result"
    }
   ],
   "source": [
    " contains(1234,123)"
   ]
  },
  {
   "cell_type": "code",
   "execution_count": 10,
   "id": "8068e679",
   "metadata": {},
   "outputs": [
    {
     "data": {
      "text/plain": [
       "True"
      ]
     },
     "execution_count": 10,
     "metadata": {},
     "output_type": "execute_result"
    }
   ],
   "source": [
    "contains(4123,123)"
   ]
  },
  {
   "cell_type": "code",
   "execution_count": 11,
   "id": "e8e38398",
   "metadata": {},
   "outputs": [
    {
     "data": {
      "text/plain": [
       "True"
      ]
     },
     "execution_count": 11,
     "metadata": {},
     "output_type": "execute_result"
    }
   ],
   "source": [
    " contains(123555,123)\n"
   ]
  },
  {
   "cell_type": "code",
   "execution_count": 12,
   "id": "cd80a7c7",
   "metadata": {},
   "outputs": [
    {
     "data": {
      "text/plain": [
       "True"
      ]
     },
     "execution_count": 12,
     "metadata": {},
     "output_type": "execute_result"
    }
   ],
   "source": [
    "contains(123555,23)"
   ]
  },
  {
   "cell_type": "code",
   "execution_count": 13,
   "id": "5d478e4b",
   "metadata": {},
   "outputs": [
    {
     "data": {
      "text/plain": [
       "False"
      ]
     },
     "execution_count": 13,
     "metadata": {},
     "output_type": "execute_result"
    }
   ],
   "source": [
    "contains(1243555,123)\n"
   ]
  },
  {
   "cell_type": "markdown",
   "id": "be8cf158",
   "metadata": {},
   "source": [
    "Write a function count longest streak that takes in a positive number a and returns the maximum length of a sequence of the same digit within the number a. You may assume that a does not contain the digit 0."
   ]
  },
  {
   "cell_type": "code",
   "execution_count": 43,
   "id": "8d7673c8",
   "metadata": {},
   "outputs": [],
   "source": [
    "def count_longest_streak(number):\n",
    "    \n",
    "    number = str(number)\n",
    "    numDict = {}\n",
    "    numSort = []\n",
    "    numLength = len(number)\n",
    "    numDict[number[0]] = 1\n",
    "    last = number[0]\n",
    "    count = 1\n",
    "    \n",
    "    for i in range(1,numLength):\n",
    "        \n",
    "        \n",
    "        if number[i] != last:\n",
    "            \n",
    "            last = number[i]\n",
    "            numSort.append(count)\n",
    "            count = 1\n",
    "        \n",
    "        elif number[i] == last and i == numLength-1:\n",
    "            \n",
    "            numSort.append(count+1)\n",
    "        \n",
    "        else:\n",
    "            \n",
    "            count += 1\n",
    "        \n",
    "    \n",
    "    \n",
    "    numSort.sort()\n",
    "    \n",
    "    return numSort[-1]"
   ]
  },
  {
   "cell_type": "code",
   "execution_count": 44,
   "id": "cf9e8702",
   "metadata": {},
   "outputs": [
    {
     "data": {
      "text/plain": [
       "1"
      ]
     },
     "execution_count": 44,
     "metadata": {},
     "output_type": "execute_result"
    }
   ],
   "source": [
    "count_longest_streak(123456789)"
   ]
  },
  {
   "cell_type": "code",
   "execution_count": 45,
   "id": "fff9821f",
   "metadata": {},
   "outputs": [
    {
     "data": {
      "text/plain": [
       "4"
      ]
     },
     "execution_count": 45,
     "metadata": {},
     "output_type": "execute_result"
    }
   ],
   "source": [
    "count_longest_streak(111123456789)"
   ]
  },
  {
   "cell_type": "code",
   "execution_count": 46,
   "id": "3c7fc0b2",
   "metadata": {},
   "outputs": [
    {
     "data": {
      "text/plain": [
       "4"
      ]
     },
     "execution_count": 46,
     "metadata": {},
     "output_type": "execute_result"
    }
   ],
   "source": [
    " count_longest_streak(123444456789)"
   ]
  },
  {
   "cell_type": "code",
   "execution_count": 47,
   "id": "09c1b786",
   "metadata": {},
   "outputs": [
    {
     "data": {
      "text/plain": [
       "5"
      ]
     },
     "execution_count": 47,
     "metadata": {},
     "output_type": "execute_result"
    }
   ],
   "source": [
    "count_longest_streak(11112211111)\n"
   ]
  },
  {
   "cell_type": "code",
   "execution_count": null,
   "id": "76592e50",
   "metadata": {},
   "outputs": [],
   "source": []
  }
 ],
 "metadata": {
  "kernelspec": {
   "display_name": "Python 3 (ipykernel)",
   "language": "python",
   "name": "python3"
  },
  "language_info": {
   "codemirror_mode": {
    "name": "ipython",
    "version": 3
   },
   "file_extension": ".py",
   "mimetype": "text/x-python",
   "name": "python",
   "nbconvert_exporter": "python",
   "pygments_lexer": "ipython3",
   "version": "3.11.4"
  }
 },
 "nbformat": 4,
 "nbformat_minor": 5
}
