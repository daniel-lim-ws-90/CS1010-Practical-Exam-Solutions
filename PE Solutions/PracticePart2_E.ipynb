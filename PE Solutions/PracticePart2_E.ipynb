{
 "cells": [
  {
   "cell_type": "markdown",
   "id": "9796fcb9",
   "metadata": {},
   "source": [
    "### 16 Nov  2020 E, 20 Feb 2021 E, 9 April 2021 E, 20 Feb 2022 E"
   ]
  },
  {
   "cell_type": "markdown",
   "id": "6db0a352",
   "metadata": {},
   "source": [
    "We know this famous painter Piet Mondrian whose paintings are partitioned into rectangles of colours like red, blue and yellow. We would like to draw something similar with white, yellow and red. Partition the painting into vertical strips of width A1, A2, A3, . . . , An and horizontal strips of height B1, B2, B3, . . . , Bn centimetres for some positive integer n > 0. These stripes\n",
    "split the painting into n × n rectangles. The intersection of vertical stripe i and horizontal stripe j has colour number (i + j − 2) mod 3 for all 1 ≤ i, j ≤ n. To prepare the painting, we want to know how much paint we need for each colour. We will measure it by the area of each colour in square centimetres.\n"
   ]
  },
  {
   "cell_type": "code",
   "execution_count": 1,
   "id": "e907e1a9",
   "metadata": {},
   "outputs": [],
   "source": [
    "def calculate_areas(w_list, h_list):\n",
    "    \n",
    "    n = len(w_list)\n",
    "    whiteArea = 0\n",
    "    redArea = 0\n",
    "    yellowArea = 0\n",
    "    \n",
    "    widthSum1 = 0\n",
    "    widthSum2 = 0\n",
    "    widthSum3 = 0\n",
    "    \n",
    "    heightSum1 = 0\n",
    "    heightSum2 = 0\n",
    "    heightSum3 = 0\n",
    "    \n",
    "    for i in range(0,n,3):\n",
    "        \n",
    "        widthSum1 += w_list[i]\n",
    "        heightSum1 += h_list[i]\n",
    "    \n",
    "    for i in range(1,n,3):\n",
    "        \n",
    "        widthSum2 += w_list[i]\n",
    "        heightSum2 += h_list[i]\n",
    "    \n",
    "    for i in range(2,n,3):\n",
    "        \n",
    "        widthSum3 += w_list[i]\n",
    "        heightSum3 += h_list[i]\n",
    "        \n",
    "    whiteArea = heightSum1*widthSum1 + heightSum2*widthSum3 + heightSum3*widthSum2\n",
    "    redArea = heightSum1*widthSum3 + heightSum2*widthSum2 + heightSum3*widthSum1\n",
    "    yellowArea = heightSum1*widthSum2 + heightSum2*widthSum1 + heightSum3*widthSum3\n",
    "    \n",
    "    return (whiteArea, yellowArea, redArea)"
   ]
  },
  {
   "cell_type": "code",
   "execution_count": 2,
   "id": "5fa6edd9",
   "metadata": {},
   "outputs": [
    {
     "data": {
      "text/plain": [
       "(197, 155, 131)"
      ]
     },
     "execution_count": 2,
     "metadata": {},
     "output_type": "execute_result"
    }
   ],
   "source": [
    "l1 = [6,2,4,5,1,1,4]\n",
    "l2 = [2,5,1,4,2,3,4]\n",
    "calculate_areas(l1,l2)"
   ]
  },
  {
   "cell_type": "code",
   "execution_count": 3,
   "id": "6fed2d68",
   "metadata": {},
   "outputs": [
    {
     "data": {
      "text/plain": [
       "(8333166668611088889, 8333166665277822222, 8333166668611088889)"
      ]
     },
     "execution_count": 3,
     "metadata": {},
     "output_type": "execute_result"
    }
   ],
   "source": [
    "l4 = [i for i in range(100000)]\n",
    "calculate_areas(l4,l4)"
   ]
  },
  {
   "cell_type": "code",
   "execution_count": 4,
   "id": "fa861af4",
   "metadata": {},
   "outputs": [
    {
     "data": {
      "text/plain": [
       "(8333166669722177778, 8333166666388911111, 8333166666388911111)"
      ]
     },
     "execution_count": 4,
     "metadata": {},
     "output_type": "execute_result"
    }
   ],
   "source": [
    "l4 = [i for i in range(100000)]\n",
    "calculate_areas(l4,l4[::-1])\n"
   ]
  },
  {
   "cell_type": "markdown",
   "id": "ef5efb68",
   "metadata": {},
   "source": [
    "In some culture, some digits are considered to be bad luck. For instance, the digit 4 is considered bad luck in the far east. When a digit is considered bad luck, some people do not want them to appear in any number such as phone numbers or license plate numbers. Write the function auspicious_number(n, bad) that returns how many auspicious numbers are there with exactly n digits and do not contain any numbers given in the list (list) of integer (int) bad .\n"
   ]
  },
  {
   "cell_type": "code",
   "execution_count": 5,
   "id": "ccf5c053",
   "metadata": {},
   "outputs": [],
   "source": [
    "def auspicious_number(n, bad):\n",
    "    \n",
    "    good = []\n",
    "    \n",
    "    for num in range(0,10):\n",
    "        \n",
    "        if num not in bad:\n",
    "            good.append(num)\n",
    "    \n",
    "    total = 1\n",
    "    \n",
    "    for i in range(n-1):\n",
    "        \n",
    "        total = total*len(good)\n",
    "    \n",
    "    if 0 in bad:\n",
    "        \n",
    "        return total*(len(good)-1)\n",
    "    \n",
    "    else:\n",
    "    \n",
    "        return total*(len(good)-1)\n",
    "        \n",
    "        "
   ]
  },
  {
   "cell_type": "code",
   "execution_count": 6,
   "id": "322c4208",
   "metadata": {},
   "outputs": [
    {
     "data": {
      "text/plain": [
       "648"
      ]
     },
     "execution_count": 6,
     "metadata": {},
     "output_type": "execute_result"
    }
   ],
   "source": [
    "auspicious_number(3, [4])\n"
   ]
  },
  {
   "cell_type": "code",
   "execution_count": 7,
   "id": "836b51fe",
   "metadata": {},
   "outputs": [
    {
     "data": {
      "text/plain": [
       "72"
      ]
     },
     "execution_count": 7,
     "metadata": {},
     "output_type": "execute_result"
    }
   ],
   "source": [
    "auspicious_number(2, [4])"
   ]
  },
  {
   "cell_type": "code",
   "execution_count": 8,
   "id": "cb659fcc",
   "metadata": {},
   "outputs": [
    {
     "data": {
      "text/plain": [
       "56"
      ]
     },
     "execution_count": 8,
     "metadata": {},
     "output_type": "execute_result"
    }
   ],
   "source": [
    "auspicious_number(2, [1, 3])"
   ]
  },
  {
   "cell_type": "code",
   "execution_count": 9,
   "id": "01cebb8b",
   "metadata": {},
   "outputs": [
    {
     "data": {
      "text/plain": [
       "448"
      ]
     },
     "execution_count": 9,
     "metadata": {},
     "output_type": "execute_result"
    }
   ],
   "source": [
    "auspicious_number(3, [1, 3])"
   ]
  },
  {
   "cell_type": "code",
   "execution_count": 10,
   "id": "5ae211d8",
   "metadata": {},
   "outputs": [
    {
     "data": {
      "text/plain": [
       "458113351761787849810187670902774464624095575112"
      ]
     },
     "execution_count": 10,
     "metadata": {},
     "output_type": "execute_result"
    }
   ],
   "source": [
    "auspicious_number(50, [4])"
   ]
  },
  {
   "cell_type": "markdown",
   "id": "3d398406",
   "metadata": {},
   "source": [
    "Given two height h1 and h2, write function magicPotionTreatement to return string of potion processes to take h1 to h2. Potion A increases height by 1 and Potion B halves height if height is even number."
   ]
  },
  {
   "cell_type": "code",
   "execution_count": 11,
   "id": "b9f859a2",
   "metadata": {},
   "outputs": [],
   "source": [
    "def recursiveTreatement (h1,h2,letters):\n",
    "    \n",
    "    if h1 == h2:\n",
    "        \n",
    "        return\n",
    "    \n",
    "    elif h1 == h2 -1:\n",
    "        \n",
    "        letters.append('A')\n",
    "        return\n",
    "    \n",
    "    elif h1 > 2*h2 and h1%2 == 0:\n",
    "        \n",
    "        letters.append('B')\n",
    "        recursiveTreatement (h1/2,h2,letters)\n",
    "    \n",
    "    elif h1 > 2*h2 and h1%2 == 1:\n",
    "        \n",
    "        letters.append('A')\n",
    "        letters.append('B')\n",
    "        recursiveTreatement ((h1+1)/2,h2,letters)\n",
    "        \n",
    "    elif h1 > h2 and h1 < 2*h2 and h1%2 == 0:\n",
    "        \n",
    "        letters.append('B')\n",
    "        recursiveTreatement (h1/2,h2,letters)\n",
    "        \n",
    "    elif h1 > h2 and h1 < 2*h2 and h1%2 == 1: \n",
    "        \n",
    "        letters.append('A')\n",
    "        letters.append('B')\n",
    "        recursiveTreatement ((h1+1)/2,h2,letters)\n",
    "    \n",
    "    else:\n",
    "        \n",
    "        letters.append('A')\n",
    "        recursiveTreatement (h1+1,h2,letters)"
   ]
  },
  {
   "cell_type": "code",
   "execution_count": 12,
   "id": "1ba4c9fa",
   "metadata": {},
   "outputs": [],
   "source": [
    "def magicPotionTreatment(h1, h2):\n",
    "    \n",
    "    letters = []\n",
    "    recursiveTreatement (h1,h2,letters)\n",
    "    \n",
    "    return ''.join(letters)"
   ]
  },
  {
   "cell_type": "code",
   "execution_count": 13,
   "id": "372cff62",
   "metadata": {},
   "outputs": [
    {
     "data": {
      "text/plain": [
       "'ABBABBBA'"
      ]
     },
     "execution_count": 13,
     "metadata": {},
     "output_type": "execute_result"
    }
   ],
   "source": [
    "magicPotionTreatment(123,5)"
   ]
  },
  {
   "cell_type": "code",
   "execution_count": 14,
   "id": "61b964af",
   "metadata": {},
   "outputs": [
    {
     "data": {
      "text/plain": [
       "'BA'"
      ]
     },
     "execution_count": 14,
     "metadata": {},
     "output_type": "execute_result"
    }
   ],
   "source": [
    "magicPotionTreatment(4,3)"
   ]
  },
  {
   "cell_type": "code",
   "execution_count": 15,
   "id": "6d0ca835",
   "metadata": {},
   "outputs": [
    {
     "data": {
      "text/plain": [
       "'ABABAB'"
      ]
     },
     "execution_count": 15,
     "metadata": {},
     "output_type": "execute_result"
    }
   ],
   "source": [
    "magicPotionTreatment(9,2)"
   ]
  },
  {
   "cell_type": "code",
   "execution_count": 16,
   "id": "7bac3a34",
   "metadata": {
    "scrolled": true
   },
   "outputs": [
    {
     "name": "stdout",
     "output_type": "stream",
     "text": [
      "357\n"
     ]
    }
   ],
   "source": [
    "print(len(magicPotionTreatment(10**100+17,11)))"
   ]
  },
  {
   "cell_type": "code",
   "execution_count": 17,
   "id": "eba8291b",
   "metadata": {},
   "outputs": [
    {
     "data": {
      "text/plain": [
       "'ABABABABABABABABABABABABABABABABABABABABABABABABABAB'"
      ]
     },
     "execution_count": 17,
     "metadata": {},
     "output_type": "execute_result"
    }
   ],
   "source": [
    "magicPotionTreatment(134217729,3)"
   ]
  },
  {
   "cell_type": "markdown",
   "id": "3f3da792",
   "metadata": {},
   "source": [
    "Write an iterative version of the function per_cipher_i(s,n) to encrypt a string s with an interval n as mentioned above. In this task, you cannot use any recursion. "
   ]
  },
  {
   "cell_type": "code",
   "execution_count": 18,
   "id": "0bb29bcf",
   "metadata": {},
   "outputs": [],
   "source": [
    "def per_cipher_i(iString,num):\n",
    "    \n",
    "    length = len(iString)\n",
    "    final = []\n",
    "    \n",
    "    for i in range(0, length-length%num, num):\n",
    "        \n",
    "        result = ''\n",
    "        \n",
    "        for j in range(num):\n",
    "            \n",
    "            result += iString[i+num-j-1]\n",
    "        \n",
    "        final.append(result)\n",
    "    \n",
    "    end = '' \n",
    "    \n",
    "    if(length%num != 0):\n",
    "        \n",
    "        for i in range(length%num):\n",
    "\n",
    "            end += iString[-1-i]\n",
    "\n",
    "        final.append(end)\n",
    "    \n",
    "    finalResult = ''\n",
    "    \n",
    "    for x in final:\n",
    "        \n",
    "        finalResult += x\n",
    "    \n",
    "    return finalResult"
   ]
  },
  {
   "cell_type": "code",
   "execution_count": 19,
   "id": "e5921864",
   "metadata": {},
   "outputs": [
    {
     "name": "stdout",
     "output_type": "stream",
     "text": [
      "32165498701\n"
     ]
    }
   ],
   "source": [
    "print(per_cipher_i('12345678910',3))"
   ]
  },
  {
   "cell_type": "code",
   "execution_count": 20,
   "id": "89d35a08",
   "metadata": {},
   "outputs": [
    {
     "name": "stdout",
     "output_type": "stream",
     "text": [
      "12345678910\n"
     ]
    }
   ],
   "source": [
    "print(per_cipher_i(per_cipher_i('12345678910',3),3))"
   ]
  },
  {
   "cell_type": "code",
   "execution_count": 21,
   "id": "923335e8",
   "metadata": {},
   "outputs": [
    {
     "name": "stdout",
     "output_type": "stream",
     "text": [
      "traP EPs si 1 desoppu eb ot ysae\n"
     ]
    }
   ],
   "source": [
    " print(per_cipher_i('PE Part 1 is supposed to be easy',7)) "
   ]
  },
  {
   "cell_type": "markdown",
   "id": "1f0d09d4",
   "metadata": {},
   "source": [
    "Write a recursion version of the function per_cipher_r(s,n)with the same functionality in Part 1 Task 1. However, you cannot use any loops or list comprehension in this task."
   ]
  },
  {
   "cell_type": "code",
   "execution_count": 22,
   "id": "5ebff0ec",
   "metadata": {},
   "outputs": [],
   "source": [
    "def per_cipher_r(s,num):\n",
    "    \n",
    "    if len(s) < num:\n",
    "        \n",
    "        return s[-1::-1]\n",
    "    \n",
    "    else:\n",
    "        \n",
    "        return  s[num-1:0:-1] + s[0] + per_cipher_r(s[num:],num) "
   ]
  },
  {
   "cell_type": "code",
   "execution_count": 23,
   "id": "ad22747b",
   "metadata": {},
   "outputs": [
    {
     "name": "stdout",
     "output_type": "stream",
     "text": [
      "32165498701\n"
     ]
    }
   ],
   "source": [
    "print(per_cipher_r('12345678910',3))"
   ]
  },
  {
   "cell_type": "code",
   "execution_count": 24,
   "id": "b3b6ec35",
   "metadata": {},
   "outputs": [
    {
     "name": "stdout",
     "output_type": "stream",
     "text": [
      "12345678910\n"
     ]
    }
   ],
   "source": [
    "print(per_cipher_r(per_cipher_i('12345678910',3),3))"
   ]
  },
  {
   "cell_type": "code",
   "execution_count": 25,
   "id": "ef7ee6fd",
   "metadata": {},
   "outputs": [
    {
     "name": "stdout",
     "output_type": "stream",
     "text": [
      "traP EPs si 1 desoppu eb ot ysae\n"
     ]
    }
   ],
   "source": [
    "print(per_cipher_r('PE Part 1 is supposed to be easy',7)) "
   ]
  },
  {
   "cell_type": "markdown",
   "id": "de596436",
   "metadata": {},
   "source": [
    "Write a function sum_of_3(L,n) to return True if there exists 3 numbers in L with their sum equals to n, and return False otherwise. "
   ]
  },
  {
   "cell_type": "code",
   "execution_count": 26,
   "id": "36a594ac",
   "metadata": {},
   "outputs": [],
   "source": [
    "def sum_of_3(array,target):\n",
    "    \n",
    "    refDict = {}\n",
    "    \n",
    "    for elt in array:\n",
    "        \n",
    "        refDict[elt] = True\n",
    "    \n",
    "    length = len(array)\n",
    "    \n",
    "    for i in range(length):\n",
    "        \n",
    "        for j in range(i+1,length):\n",
    "            \n",
    "            twoSum = array[i] + array[j]\n",
    "            \n",
    "            if refDict.get(target-twoSum) != None:\n",
    "                \n",
    "                return True\n",
    "                \n",
    "    return False"
   ]
  },
  {
   "cell_type": "code",
   "execution_count": 27,
   "id": "14620444",
   "metadata": {},
   "outputs": [
    {
     "name": "stdout",
     "output_type": "stream",
     "text": [
      "True\n"
     ]
    }
   ],
   "source": [
    "print(sum_of_3(tuple(range(1,1000)),2500)) "
   ]
  },
  {
   "cell_type": "code",
   "execution_count": 28,
   "id": "1fe6d5cf",
   "metadata": {},
   "outputs": [
    {
     "name": "stdout",
     "output_type": "stream",
     "text": [
      "False\n"
     ]
    }
   ],
   "source": [
    "print(sum_of_3(tuple(range(1,1000)),2998)) "
   ]
  },
  {
   "cell_type": "code",
   "execution_count": 29,
   "id": "d4e5d1ec",
   "metadata": {},
   "outputs": [
    {
     "name": "stdout",
     "output_type": "stream",
     "text": [
      "True\n"
     ]
    }
   ],
   "source": [
    " print(sum_of_3(tuple(range(1,4000)),11994))"
   ]
  },
  {
   "cell_type": "code",
   "execution_count": 30,
   "id": "fad46914",
   "metadata": {},
   "outputs": [
    {
     "name": "stdout",
     "output_type": "stream",
     "text": [
      "True\n"
     ]
    }
   ],
   "source": [
    "print(sum_of_3(tuple(range(1,4000)),11995))"
   ]
  },
  {
   "cell_type": "markdown",
   "id": "08437244",
   "metadata": {},
   "source": [
    "The child dna is digit product of his parent. Write a function child_DNA(d) to return the child DNA from the parent."
   ]
  },
  {
   "cell_type": "code",
   "execution_count": 31,
   "id": "30ca55a5",
   "metadata": {},
   "outputs": [],
   "source": [
    "def child_DNA(dna):\n",
    "    \n",
    "    dnaString = str(dna)\n",
    "    \n",
    "    result = 1\n",
    "    \n",
    "    for elt in dnaString:\n",
    "    \n",
    "        result = result*int(elt)\n",
    "    \n",
    "    return result"
   ]
  },
  {
   "cell_type": "code",
   "execution_count": 32,
   "id": "1205187e",
   "metadata": {},
   "outputs": [
    {
     "name": "stdout",
     "output_type": "stream",
     "text": [
      "24\n"
     ]
    }
   ],
   "source": [
    " print(child_DNA(262))"
   ]
  },
  {
   "cell_type": "code",
   "execution_count": 33,
   "id": "33609fb7",
   "metadata": {},
   "outputs": [
    {
     "name": "stdout",
     "output_type": "stream",
     "text": [
      "3024\n"
     ]
    }
   ],
   "source": [
    "print(child_DNA(987161))"
   ]
  },
  {
   "cell_type": "code",
   "execution_count": 34,
   "id": "953addee",
   "metadata": {},
   "outputs": [],
   "source": [
    "def parent_mutated_DNA(dna):\n",
    "    \n",
    "    target = child_DNA(dna)\n",
    "    result = ''\n",
    "    \n",
    "    if target < 10 :\n",
    "        \n",
    "        return target\n",
    "    \n",
    "    while target > 1:\n",
    "        \n",
    "        for i in range(9,1,-1):\n",
    "            \n",
    "            if target % i == 0:\n",
    "                result =  str(i) + result\n",
    "                target = int(target/i)\n",
    "                break\n",
    "    \n",
    "    return result"
   ]
  },
  {
   "cell_type": "code",
   "execution_count": 35,
   "id": "cef9b239",
   "metadata": {},
   "outputs": [
    {
     "name": "stdout",
     "output_type": "stream",
     "text": [
      "38\n"
     ]
    }
   ],
   "source": [
    "print(parent_mutated_DNA(262))"
   ]
  },
  {
   "cell_type": "code",
   "execution_count": 36,
   "id": "831f22c9",
   "metadata": {},
   "outputs": [
    {
     "name": "stdout",
     "output_type": "stream",
     "text": [
      "6\n"
     ]
    }
   ],
   "source": [
    "print(parent_mutated_DNA(12131))"
   ]
  },
  {
   "cell_type": "markdown",
   "id": "04837ee0",
   "metadata": {},
   "source": [
    "Implement a function isMartian(d) to return True if there exists a possible parent for the creature with DNA d, or False otherwise."
   ]
  },
  {
   "cell_type": "code",
   "execution_count": 37,
   "id": "b9cb7bf6",
   "metadata": {},
   "outputs": [],
   "source": [
    "def isMartian(d):\n",
    "    \n",
    "    target = d\n",
    "    \n",
    "    while target > 1:\n",
    "        \n",
    "        flag = False\n",
    "        \n",
    "        for i in range(9,1,-1):\n",
    "            \n",
    "            if target % i == 0:\n",
    "                flag = True\n",
    "                target = int(target/i)\n",
    "                break\n",
    "        \n",
    "        if flag == False:\n",
    "            \n",
    "            return False\n",
    "    \n",
    "    return True"
   ]
  },
  {
   "cell_type": "code",
   "execution_count": 38,
   "id": "015857e9",
   "metadata": {},
   "outputs": [
    {
     "name": "stdout",
     "output_type": "stream",
     "text": [
      "True\n"
     ]
    }
   ],
   "source": [
    " print(isMartian(3024))"
   ]
  },
  {
   "cell_type": "code",
   "execution_count": 39,
   "id": "637e9b43",
   "metadata": {},
   "outputs": [
    {
     "name": "stdout",
     "output_type": "stream",
     "text": [
      "False\n"
     ]
    }
   ],
   "source": [
    " print(isMartian(16632))"
   ]
  }
 ],
 "metadata": {
  "kernelspec": {
   "display_name": "Python 3 (ipykernel)",
   "language": "python",
   "name": "python3"
  },
  "language_info": {
   "codemirror_mode": {
    "name": "ipython",
    "version": 3
   },
   "file_extension": ".py",
   "mimetype": "text/x-python",
   "name": "python",
   "nbconvert_exporter": "python",
   "pygments_lexer": "ipython3",
   "version": "3.11.4"
  }
 },
 "nbformat": 4,
 "nbformat_minor": 5
}
