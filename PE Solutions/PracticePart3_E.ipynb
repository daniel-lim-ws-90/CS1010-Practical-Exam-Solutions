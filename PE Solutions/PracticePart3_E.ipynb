{
 "cells": [
  {
   "cell_type": "markdown",
   "id": "be002965",
   "metadata": {},
   "source": [
    "### 23 Oct 2023, 3 Aug 2023 , 3 May 2023"
   ]
  },
  {
   "cell_type": "markdown",
   "id": "c5e01ea2",
   "metadata": {},
   "source": [
    "You will be given a list of strings as a database of some DNAs of Monocells. Given a child DNA, write a function \n",
    "find_parents(child_dna,dna_database) to return a list of possible pairs of parents that can produce that child Monocell where each pair is expressed as a tuple. Note that the orders of the parents matter in each tuple. The child’s DNA must be the one of the first parent followed by the second one in a tuple. "
   ]
  },
  {
   "cell_type": "code",
   "execution_count": 1,
   "id": "ae625fe7",
   "metadata": {},
   "outputs": [],
   "source": [
    "def checkSubset(parent, child):\n",
    "   \n",
    "    plength = len(parent)\n",
    "    \n",
    "    for i in range(plength):\n",
    "        \n",
    "        if child[i] != parent[i]:\n",
    "            \n",
    "            return None\n",
    "        \n",
    "    return (parent, child[plength:])\n",
    "        "
   ]
  },
  {
   "cell_type": "code",
   "execution_count": 2,
   "id": "60df4c0c",
   "metadata": {},
   "outputs": [
    {
     "data": {
      "text/plain": [
       "('ab', 'b')"
      ]
     },
     "execution_count": 2,
     "metadata": {},
     "output_type": "execute_result"
    }
   ],
   "source": [
    "checkSubset('ab', 'abb')"
   ]
  },
  {
   "cell_type": "code",
   "execution_count": 3,
   "id": "4963f0b9",
   "metadata": {},
   "outputs": [],
   "source": [
    "def find_parents(child_dna,dna_database):\n",
    "    \n",
    "    subsetResult = {}\n",
    "    indexResult = {}\n",
    "    result = []\n",
    "    databaseLength = len(dna_database)\n",
    "    \n",
    "    for elt in dna_database:\n",
    "        \n",
    "        check =  checkSubset(elt,child_dna)\n",
    "        \n",
    "        if check != None and check[0] != check[1]:\n",
    "            \n",
    "            subsetResult[check[0]] = check[1]\n",
    "        \n",
    "    for i in range(databaseLength):\n",
    "        \n",
    "        indexResult[dna_database[i]] = i\n",
    "        \n",
    "    for parent1 in subsetResult.keys():\n",
    "        \n",
    "        parent2 = subsetResult.get(parent1)\n",
    "        \n",
    "        if indexResult.get(parent2) != None:\n",
    "            \n",
    "            result.append((parent1,parent2))\n",
    "    \n",
    "    return result"
   ]
  },
  {
   "cell_type": "code",
   "execution_count": 4,
   "id": "c8908c12",
   "metadata": {},
   "outputs": [
    {
     "data": {
      "text/plain": [
       "[('ACG', 'TA'), ('A', 'CGTA'), ('ACGT', 'A')]"
      ]
     },
     "execution_count": 4,
     "metadata": {},
     "output_type": "execute_result"
    }
   ],
   "source": [
    "find_parents('ACGTA',['ACT','TA','CGTA','ACG','A','ACGT'])"
   ]
  },
  {
   "cell_type": "code",
   "execution_count": 5,
   "id": "9cff7a6c",
   "metadata": {},
   "outputs": [
    {
     "name": "stdout",
     "output_type": "stream",
     "text": [
      "[('ATGAT', 'G')]\n"
     ]
    }
   ],
   "source": [
    "print(find_parents('ATGATG',['ATGAT','ACT','GAT','ATG','G']))\n"
   ]
  },
  {
   "cell_type": "code",
   "execution_count": 6,
   "id": "aaf1763e",
   "metadata": {},
   "outputs": [],
   "source": [
    "from itertools import product\n",
    "w10 = [''.join(x) for x in product(list('ACGT'),repeat=10)]"
   ]
  },
  {
   "cell_type": "code",
   "execution_count": 7,
   "id": "8c073da3",
   "metadata": {},
   "outputs": [
    {
     "name": "stdout",
     "output_type": "stream",
     "text": [
      "[('ACGTTTTTTA', 'ATATTTATGG')]\n"
     ]
    }
   ],
   "source": [
    "print(find_parents('ACGTTTTTTAATATTTATGG',w10))"
   ]
  },
  {
   "cell_type": "markdown",
   "id": "01f208e3",
   "metadata": {},
   "source": [
    "Write a function three_little_pigs_defence(seq) to take in a sequence of actions seq and return the final string of what is left over after all events happened with len(seq)≥ 0. Your return string should have the correct order according to the events. "
   ]
  },
  {
   "cell_type": "code",
   "execution_count": 8,
   "id": "2f6b417f",
   "metadata": {},
   "outputs": [],
   "source": [
    "def three_little_pigs_defence(stringInput):\n",
    "    \n",
    "    length = len(stringInput)\n",
    "    \n",
    "    if stringInput[0] == 'H':\n",
    "        \n",
    "        return three_little_pigs_defence(stringInput[1:])\n",
    "    \n",
    "    for i in range(1,length):\n",
    "        \n",
    "        if stringInput[i] == 'H' and stringInput[i-1] != 'B':\n",
    "            \n",
    "            result = stringInput[:i-1] + stringInput[i+1:]\n",
    "            \n",
    "            return three_little_pigs_defence(result)\n",
    "        \n",
    "        elif stringInput[i] == 'H' and stringInput[i-1] == 'B':\n",
    "            \n",
    "            result = stringInput[:i] + stringInput[i+1:]\n",
    "            \n",
    "            return three_little_pigs_defence(result)\n",
    "    \n",
    "    return stringInput"
   ]
  },
  {
   "cell_type": "code",
   "execution_count": 9,
   "id": "1bd1b146",
   "metadata": {},
   "outputs": [
    {
     "data": {
      "text/plain": [
       "'SBW'"
      ]
     },
     "execution_count": 9,
     "metadata": {},
     "output_type": "execute_result"
    }
   ],
   "source": [
    "three_little_pigs_defence('SBWHHW')"
   ]
  },
  {
   "cell_type": "code",
   "execution_count": 10,
   "id": "c58e95c9",
   "metadata": {},
   "outputs": [
    {
     "name": "stdout",
     "output_type": "stream",
     "text": [
      "WB\n"
     ]
    }
   ],
   "source": [
    "print(three_little_pigs_defence('SHHWSHB'))"
   ]
  },
  {
   "cell_type": "code",
   "execution_count": 11,
   "id": "2841f0b1",
   "metadata": {},
   "outputs": [
    {
     "data": {
      "text/plain": [
       "'BSS'"
      ]
     },
     "execution_count": 11,
     "metadata": {},
     "output_type": "execute_result"
    }
   ],
   "source": [
    "three_little_pigs_defence('BSHHSWHS')"
   ]
  },
  {
   "cell_type": "markdown",
   "id": "66961d92",
   "metadata": {},
   "source": [
    "Write a Python function 𝑝𝑟𝑒𝑓𝑖𝑥(𝑎𝑆𝑡𝑟𝑖𝑛𝑔, 𝑘𝑒𝑦𝑠) that takes in a text string and a list of keys, and returns the longest key in the list that matches the beginning of 𝑎𝑆𝑡𝑟𝑖𝑛𝑔. It returns the Boolean value False otherwise"
   ]
  },
  {
   "cell_type": "code",
   "execution_count": 12,
   "id": "805c84e1",
   "metadata": {},
   "outputs": [
    {
     "name": "stdout",
     "output_type": "stream",
     "text": [
      "A\n"
     ]
    }
   ],
   "source": [
    "x = 'ACGTTTTTTAATATTTATGG'\n",
    "print(x[:1])"
   ]
  },
  {
   "cell_type": "code",
   "execution_count": 13,
   "id": "5d98b8f3",
   "metadata": {},
   "outputs": [],
   "source": [
    "def prefix(aString,keys):\n",
    "    \n",
    "    prefixDict = {}\n",
    "    stringLength = len(aString)\n",
    "    current = ''\n",
    "    currentLength = 0\n",
    "    \n",
    "    for i in range(stringLength):\n",
    "        \n",
    "        prefixDict[aString[:i+1]] = i+1\n",
    "    \n",
    "    for elt in keys:\n",
    "        \n",
    "        if prefixDict.get(elt) != None and prefixDict.get(elt) > currentLength:\n",
    "            \n",
    "            current = elt\n",
    "            currentLength = prefixDict.get(elt)\n",
    "    \n",
    "    if currentLength == 0:\n",
    "        \n",
    "        return False\n",
    "    \n",
    "    else:\n",
    "        \n",
    "        return current\n",
    "    \n",
    "    "
   ]
  },
  {
   "cell_type": "code",
   "execution_count": 14,
   "id": "d5c00ff7",
   "metadata": {},
   "outputs": [
    {
     "data": {
      "text/plain": [
       "'th'"
      ]
     },
     "execution_count": 14,
     "metadata": {},
     "output_type": "execute_result"
    }
   ],
   "source": [
    "prefix('thout',['t','a','th']) "
   ]
  },
  {
   "cell_type": "code",
   "execution_count": 15,
   "id": "b8205907",
   "metadata": {},
   "outputs": [
    {
     "data": {
      "text/plain": [
       "False"
      ]
     },
     "execution_count": 15,
     "metadata": {},
     "output_type": "execute_result"
    }
   ],
   "source": [
    "prefix('Thas', ['t','a','th'])"
   ]
  },
  {
   "cell_type": "code",
   "execution_count": 16,
   "id": "dd4f2102",
   "metadata": {},
   "outputs": [
    {
     "data": {
      "text/plain": [
       "'t'"
      ]
     },
     "execution_count": 16,
     "metadata": {},
     "output_type": "execute_result"
    }
   ],
   "source": [
    "prefix('ttas',['t','a','th']) "
   ]
  },
  {
   "cell_type": "markdown",
   "id": "3e255d21",
   "metadata": {},
   "source": [
    "Write a Python function 𝒕𝒓𝒂𝒏𝒔(𝒂𝑺𝒕𝒓𝒊𝒏𝒈, 𝒅𝒊𝒄𝒕𝒊𝒐𝒏𝒂𝒓𝒚) that uses 𝑑𝑖𝑐𝑡𝑖𝑜𝑛𝑎𝑟𝑦 to translate 𝑎𝑆𝑡𝑟𝑖𝑛𝑔. The function returns the translated string"
   ]
  },
  {
   "cell_type": "code",
   "execution_count": 17,
   "id": "ec7363ad",
   "metadata": {},
   "outputs": [
    {
     "name": "stdout",
     "output_type": "stream",
     "text": [
      "GTTTTTTAATATTTATGG\n"
     ]
    }
   ],
   "source": [
    "x = 'ACGTTTTTTAATATTTATGG'\n",
    "print(x[2:])"
   ]
  },
  {
   "cell_type": "code",
   "execution_count": 18,
   "id": "c2a63612",
   "metadata": {},
   "outputs": [],
   "source": [
    "def trans(aString,dictionary):\n",
    "    \n",
    "    result = ''\n",
    "    stringLength = len(aString)\n",
    "    i = 0\n",
    "    #currentString = aString\n",
    "    \n",
    "        \n",
    "    while i < stringLength:\n",
    "        \n",
    "        currentString = aString[i:]\n",
    "        currentStringLength = len(currentString)\n",
    "        currentAlphabet = aString[i]\n",
    "        currentPrefix = ''\n",
    "        prefixDict = {}\n",
    "        currentPrefixLength = 0\n",
    "        flag = False\n",
    "        \n",
    "        for j in range(currentStringLength):\n",
    "            \n",
    "            analyze = currentString[:j+1]\n",
    "            prefixDict[analyze] = j+1\n",
    "       \n",
    "        for elt in dictionary.keys():\n",
    "        \n",
    "            if prefixDict.get(elt) != None and prefixDict.get(elt) > currentPrefixLength:\n",
    "                flag = True\n",
    "                currentPrefix = elt\n",
    "                currentPrefixLength = prefixDict.get(elt)       \n",
    "        \n",
    "        \n",
    "        if flag == True:\n",
    "            \n",
    "            result += dictionary.get(currentPrefix)\n",
    "            i += len(currentPrefix)\n",
    "            \n",
    "            \n",
    "        else:\n",
    "            \n",
    "            result += currentAlphabet\n",
    "            i += 1\n",
    "            \n",
    "            \n",
    "    return result"
   ]
  },
  {
   "cell_type": "code",
   "execution_count": 19,
   "id": "6f832ea6",
   "metadata": {},
   "outputs": [
    {
     "data": {
      "text/plain": [
       "'Wizhouse Thaise Breaizh!'"
      ]
     },
     "execution_count": 19,
     "metadata": {},
     "output_type": "execute_result"
    }
   ],
   "source": [
    "tmap = { 'th' : 'zh', 'a' : 'ai', 't' : 'se' }\n",
    "trans('Without That Breath!',tmap)"
   ]
  },
  {
   "cell_type": "code",
   "execution_count": 20,
   "id": "b5e52e76",
   "metadata": {},
   "outputs": [
    {
     "data": {
      "text/plain": [
       "\"zhaise's nose zhe saimezh\""
      ]
     },
     "execution_count": 20,
     "metadata": {},
     "output_type": "execute_result"
    }
   ],
   "source": [
    "trans(\"that's not the sameth\",tmap) "
   ]
  },
  {
   "cell_type": "code",
   "execution_count": 21,
   "id": "c8d9d9a1",
   "metadata": {},
   "outputs": [],
   "source": [
    "def transR(aString,dictionary):        \n",
    "        \n",
    "        currentString = aString\n",
    "        currentStringLength = len(currentString)\n",
    "        \n",
    "        if currentStringLength == 0:\n",
    "            \n",
    "            return ''\n",
    "        \n",
    "        \n",
    "        currentAlphabet = aString[0]\n",
    "        currentPrefix = ''\n",
    "        prefixDict = {}\n",
    "        currentPrefixLength = 0\n",
    "        flag = False\n",
    "        \n",
    "        for j in range(currentStringLength):\n",
    "            \n",
    "            analyze = currentString[:j+1]\n",
    "            prefixDict[analyze] = j+1\n",
    "       \n",
    "        for elt in dictionary.keys():\n",
    "        \n",
    "            if prefixDict.get(elt) != None and prefixDict.get(elt) > currentPrefixLength:\n",
    "                flag = True\n",
    "                currentPrefix = elt\n",
    "                currentPrefixLength = prefixDict.get(elt)       \n",
    "        \n",
    "        \n",
    "        if flag == True:\n",
    "            \n",
    "            return dictionary.get(currentPrefix) + transR(aString[len(currentPrefix):],dictionary)\n",
    "            \n",
    "            \n",
    "        else:\n",
    "            \n",
    "            return currentAlphabet + transR(aString[1:],dictionary)\n",
    "           \n",
    "     "
   ]
  },
  {
   "cell_type": "code",
   "execution_count": 22,
   "id": "da86ec24",
   "metadata": {},
   "outputs": [
    {
     "data": {
      "text/plain": [
       "'Wizhouse Thaise Breaizh!'"
      ]
     },
     "execution_count": 22,
     "metadata": {},
     "output_type": "execute_result"
    }
   ],
   "source": [
    "transR('Without That Breath!',tmap)"
   ]
  },
  {
   "cell_type": "code",
   "execution_count": 23,
   "id": "b4ee10b1",
   "metadata": {},
   "outputs": [
    {
     "data": {
      "text/plain": [
       "\"zhaise's nose zhe saimezh\""
      ]
     },
     "execution_count": 23,
     "metadata": {},
     "output_type": "execute_result"
    }
   ],
   "source": [
    "transR(\"that's not the sameth\",tmap)"
   ]
  },
  {
   "cell_type": "markdown",
   "id": "c87a7154",
   "metadata": {},
   "source": [
    "Write the function teleport(x) to return the integer of the cell that a white wizard can teleport to from cell x."
   ]
  },
  {
   "cell_type": "code",
   "execution_count": 24,
   "id": "b9a681ad",
   "metadata": {},
   "outputs": [],
   "source": [
    "def teleport(x):\n",
    "    \n",
    "    return (3*x**3 + 7)%100"
   ]
  },
  {
   "cell_type": "code",
   "execution_count": 25,
   "id": "6f3521a9",
   "metadata": {},
   "outputs": [
    {
     "data": {
      "text/plain": [
       "82"
      ]
     },
     "execution_count": 25,
     "metadata": {},
     "output_type": "execute_result"
    }
   ],
   "source": [
    "teleport(45)"
   ]
  },
  {
   "cell_type": "code",
   "execution_count": 26,
   "id": "91278b89",
   "metadata": {},
   "outputs": [
    {
     "data": {
      "text/plain": [
       "11"
      ]
     },
     "execution_count": 26,
     "metadata": {},
     "output_type": "execute_result"
    }
   ],
   "source": [
    "teleport(82)"
   ]
  },
  {
   "cell_type": "code",
   "execution_count": 27,
   "id": "2e639cea",
   "metadata": {},
   "outputs": [
    {
     "data": {
      "text/plain": [
       "0"
      ]
     },
     "execution_count": 27,
     "metadata": {},
     "output_type": "execute_result"
    }
   ],
   "source": [
    "teleport(11)"
   ]
  },
  {
   "cell_type": "markdown",
   "id": "9bfb4eb7",
   "metadata": {},
   "source": [
    "If a white wizard starts from cell x, how many times does he need to teleport to cell 0? Write a function number_of_teleport(x) to return the integer of number of teleports he needs to exit the castle if he starts from cell x. For example, if a white wizard starts at cell 45"
   ]
  },
  {
   "cell_type": "code",
   "execution_count": 28,
   "id": "bd8591e0",
   "metadata": {},
   "outputs": [],
   "source": [
    "def number_of_teleport(x):\n",
    "    \n",
    "    numDict = {}\n",
    "    result = x\n",
    "    numDict[result] = True\n",
    "    count = 0\n",
    "    \n",
    "    while result != 0:\n",
    "        \n",
    "        result = teleport(result)\n",
    "        count += 1\n",
    "        \n",
    "        if numDict.get(result) == None:\n",
    "            \n",
    "            numDict[result] = True\n",
    "        \n",
    "        else:\n",
    "            \n",
    "            return \"Trapped\" \n",
    "    \n",
    "    return count"
   ]
  },
  {
   "cell_type": "code",
   "execution_count": 29,
   "id": "3a78e1b9",
   "metadata": {},
   "outputs": [
    {
     "data": {
      "text/plain": [
       "3"
      ]
     },
     "execution_count": 29,
     "metadata": {},
     "output_type": "execute_result"
    }
   ],
   "source": [
    "number_of_teleport(45)"
   ]
  },
  {
   "cell_type": "code",
   "execution_count": 30,
   "id": "af055b6c",
   "metadata": {},
   "outputs": [
    {
     "data": {
      "text/plain": [
       "5"
      ]
     },
     "execution_count": 30,
     "metadata": {},
     "output_type": "execute_result"
    }
   ],
   "source": [
    "number_of_teleport(17)"
   ]
  },
  {
   "cell_type": "code",
   "execution_count": 31,
   "id": "587250a5",
   "metadata": {},
   "outputs": [
    {
     "data": {
      "text/plain": [
       "4"
      ]
     },
     "execution_count": 31,
     "metadata": {},
     "output_type": "execute_result"
    }
   ],
   "source": [
    "number_of_teleport(96)"
   ]
  },
  {
   "cell_type": "code",
   "execution_count": 32,
   "id": "4fd39066",
   "metadata": {},
   "outputs": [
    {
     "data": {
      "text/plain": [
       "'Trapped'"
      ]
     },
     "execution_count": 32,
     "metadata": {},
     "output_type": "execute_result"
    }
   ],
   "source": [
    "number_of_teleport(83)"
   ]
  },
  {
   "cell_type": "code",
   "execution_count": 33,
   "id": "60c61479",
   "metadata": {},
   "outputs": [
    {
     "data": {
      "text/plain": [
       "'Trapped'"
      ]
     },
     "execution_count": 33,
     "metadata": {},
     "output_type": "execute_result"
    }
   ],
   "source": [
    "number_of_teleport(39)"
   ]
  },
  {
   "cell_type": "code",
   "execution_count": 34,
   "id": "ce57571a",
   "metadata": {
    "scrolled": true
   },
   "outputs": [
    {
     "data": {
      "text/plain": [
       "6"
      ]
     },
     "execution_count": 34,
     "metadata": {},
     "output_type": "execute_result"
    }
   ],
   "source": [
    "number_of_teleport(40)"
   ]
  }
 ],
 "metadata": {
  "kernelspec": {
   "display_name": "Python 3 (ipykernel)",
   "language": "python",
   "name": "python3"
  },
  "language_info": {
   "codemirror_mode": {
    "name": "ipython",
    "version": 3
   },
   "file_extension": ".py",
   "mimetype": "text/x-python",
   "name": "python",
   "nbconvert_exporter": "python",
   "pygments_lexer": "ipython3",
   "version": "3.11.4"
  }
 },
 "nbformat": 4,
 "nbformat_minor": 5
}
