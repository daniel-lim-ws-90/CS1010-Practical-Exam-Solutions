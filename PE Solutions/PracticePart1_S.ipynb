{
 "cells": [
  {
   "cell_type": "markdown",
   "id": "384dc83f",
   "metadata": {},
   "source": [
    "### 16 April 2016, 16 Nov 2013, 18 April 2015, 22 November 2013"
   ]
  },
  {
   "cell_type": "markdown",
   "id": "9e690803",
   "metadata": {},
   "source": [
    "Write a function letter_count that takes in number of words (strings) and returns a dictionary with the frequency counts of the various letters. Upper and lower-case characters are considered to be different characters."
   ]
  },
  {
   "cell_type": "code",
   "execution_count": 1,
   "id": "1132d1eb",
   "metadata": {},
   "outputs": [],
   "source": [
    "def letter_count(*words):\n",
    "    \n",
    "    letterDict = {}\n",
    "    \n",
    "    for word in words:\n",
    "        \n",
    "        for letter in word:\n",
    "\n",
    "            if (ord(letter) < 91 and ord(letter) > 64) or (ord(letter) < 123 and ord(letter) > 96):\n",
    "\n",
    "                if letterDict.get(letter) == None:\n",
    "\n",
    "                    letterDict[letter] = 1\n",
    "\n",
    "                else:\n",
    "\n",
    "                    letterDict[letter] += 1\n",
    "\n",
    "    \n",
    "    return letterDict\n",
    "\n",
    "\n"
   ]
  },
  {
   "cell_type": "code",
   "execution_count": 2,
   "id": "79b8194d",
   "metadata": {},
   "outputs": [
    {
     "data": {
      "text/plain": [
       "{'t': 2, 'h': 2, 'i': 2, 's': 2}"
      ]
     },
     "execution_count": 2,
     "metadata": {},
     "output_type": "execute_result"
    }
   ],
   "source": [
    "letter_count(\"this\",\"this\")"
   ]
  },
  {
   "cell_type": "code",
   "execution_count": 3,
   "id": "f8453b72",
   "metadata": {},
   "outputs": [
    {
     "data": {
      "text/plain": [
       "{'b': 3, 'a': 7, 'n': 2}"
      ]
     },
     "execution_count": 3,
     "metadata": {},
     "output_type": "execute_result"
    }
   ],
   "source": [
    "letter_count(\"baa\", \"baa\",\"banana\")\n"
   ]
  },
  {
   "cell_type": "code",
   "execution_count": 4,
   "id": "f3042c2f",
   "metadata": {},
   "outputs": [
    {
     "data": {
      "text/plain": [
       "{'t': 1, 'h': 1, 'i': 2, 's': 2, 'a': 2, 'g': 1, 'o': 2, 'd': 2, 'y': 1}"
      ]
     },
     "execution_count": 4,
     "metadata": {},
     "output_type": "execute_result"
    }
   ],
   "source": [
    "letter_count(\"this\",\"is\",\"a\",\"good\",\"day\")"
   ]
  },
  {
   "cell_type": "markdown",
   "id": "bf2e8f60",
   "metadata": {},
   "source": [
    "Write a function most_frequent that takes in number of words (strings) and returns a list of the most frequently-occurring letters in the words. Upper and lower-case characters are considered to be different characters."
   ]
  },
  {
   "cell_type": "code",
   "execution_count": 5,
   "id": "3b6b36d3",
   "metadata": {},
   "outputs": [],
   "source": [
    "def most_frequent(*words):\n",
    "    \n",
    "    letterDict = {}\n",
    "    maxFrequency = 0\n",
    "    frequentLetterList = []\n",
    "    \n",
    "    for word in words:\n",
    "        \n",
    "        for letter in word:\n",
    "\n",
    "            if (ord(letter) < 91 and ord(letter) > 64) or (ord(letter) < 123 and ord(letter) > 96):\n",
    "\n",
    "                if letterDict.get(letter) == None:\n",
    "\n",
    "                    letterDict[letter] = 1\n",
    "\n",
    "                else:\n",
    "\n",
    "                    letterDict[letter] += 1\n",
    "\n",
    "    \n",
    "    for item in letterDict.items():\n",
    "        \n",
    "        if item[1] > maxFrequency:\n",
    "            \n",
    "            frequentLetterList.clear()\n",
    "            maxFrequency = item[1]\n",
    "            frequentLetterList.append(item[0])\n",
    "        \n",
    "        elif item[1] == maxFrequency:\n",
    "            \n",
    "            frequentLetterList.append(item[0])\n",
    "    \n",
    "    frequentLetterList.sort()\n",
    "    \n",
    "    return frequentLetterList"
   ]
  },
  {
   "cell_type": "code",
   "execution_count": 6,
   "id": "f54c352a",
   "metadata": {},
   "outputs": [
    {
     "data": {
      "text/plain": [
       "['i', 'o', 's']"
      ]
     },
     "execution_count": 6,
     "metadata": {},
     "output_type": "execute_result"
    }
   ],
   "source": [
    "most_frequent(\"this\",\"is\",\"a\",\"good\")\n"
   ]
  },
  {
   "cell_type": "code",
   "execution_count": 7,
   "id": "58d30245",
   "metadata": {},
   "outputs": [
    {
     "data": {
      "text/plain": [
       "['a', 'd', 'i', 'o', 's']"
      ]
     },
     "execution_count": 7,
     "metadata": {},
     "output_type": "execute_result"
    }
   ],
   "source": [
    "most_frequent(\"this\",\"is\",\"a\",\"good\",\"day\")"
   ]
  },
  {
   "cell_type": "code",
   "execution_count": 8,
   "id": "55f3461c",
   "metadata": {},
   "outputs": [
    {
     "data": {
      "text/plain": [
       "['a']"
      ]
     },
     "execution_count": 8,
     "metadata": {},
     "output_type": "execute_result"
    }
   ],
   "source": [
    "most_frequent(\"baa\", \"baa\",\"banana\")"
   ]
  },
  {
   "cell_type": "markdown",
   "id": "5a85dc5b",
   "metadata": {},
   "source": [
    "In this exercise, you are to write a program ngram.py to find the most frequent letter bigram in an English text and report its frequency. The text comprises English words in lower case with no punctuation. All neighbouring words are separated by exactly one space."
   ]
  },
  {
   "cell_type": "code",
   "execution_count": 9,
   "id": "1872a334",
   "metadata": {},
   "outputs": [],
   "source": [
    "def frequent_bigram(sentence):\n",
    "    \n",
    "    sentenceArray = sentence.split()\n",
    "    letterDict = {}\n",
    "    maxFrequency = 0\n",
    "    frequentLetterList = []\n",
    "    \n",
    "    for word in sentenceArray:\n",
    "        \n",
    "        wordLength = len(word)-1\n",
    "        \n",
    "        for i in range(wordLength):\n",
    "\n",
    "            if (ord(word[i]) < 123 and ord(word[i]) > 96) and (ord(word[i+1]) < 123 and ord(word[i+1]) > 96):\n",
    "\n",
    "                if letterDict.get(word[i]+word[i+1]) == None:\n",
    "\n",
    "                    letterDict[word[i]+word[i+1]] = 1\n",
    "\n",
    "                else:\n",
    "\n",
    "                    letterDict[word[i]+word[i+1]] += 1\n",
    "\n",
    "    \n",
    "    for item in letterDict.items():\n",
    "        \n",
    "        if item[1] > maxFrequency:\n",
    "            \n",
    "            frequentLetterList.clear()\n",
    "            maxFrequency = item[1]\n",
    "            frequentLetterList.append(item[0])\n",
    "        \n",
    "        elif item[1] == maxFrequency:\n",
    "            \n",
    "            frequentLetterList.append(item[0])\n",
    "    \n",
    "    result = frequentLetterList.pop()\n",
    "    \n",
    "    return (result, maxFrequency)"
   ]
  },
  {
   "cell_type": "code",
   "execution_count": 10,
   "id": "6f0ed35d",
   "metadata": {},
   "outputs": [
    {
     "data": {
      "text/plain": [
       "('nd', 3)"
      ]
     },
     "execution_count": 10,
     "metadata": {},
     "output_type": "execute_result"
    }
   ],
   "source": [
    "frequent_bigram(\"a friend in need is a friend indeed\")"
   ]
  },
  {
   "cell_type": "code",
   "execution_count": 11,
   "id": "c344c5d7",
   "metadata": {},
   "outputs": [
    {
     "data": {
      "text/plain": [
       "('is', 4)"
      ]
     },
     "execution_count": 11,
     "metadata": {},
     "output_type": "execute_result"
    }
   ],
   "source": [
    "frequent_bigram(\"mississippi is missing\")"
   ]
  },
  {
   "cell_type": "markdown",
   "id": "64ad2aaa",
   "metadata": {},
   "source": [
    "An anagram is a type of word play, the result of rearranging the letters of a word or phrase to produce a new word or phrase, using all the original letters exactly once; for example Torchwood can be rearranged into Doctor Who. Write a function are_anagrams that takes two strings as inputs and returns True if the string are anagrams of each other, otherwise it returns False. You may assume there are no spaces in the strings."
   ]
  },
  {
   "cell_type": "code",
   "execution_count": 12,
   "id": "8c2213ce",
   "metadata": {},
   "outputs": [],
   "source": [
    "def are_anagrams(word1,word2):\n",
    "    \n",
    "    array1 = list(word1)\n",
    "    array2 = list(word2)\n",
    "    flag = True\n",
    "    \n",
    "    \n",
    "    if len(array1) != len(array2):\n",
    "        \n",
    "        return False\n",
    "    \n",
    "    arrayLength = len(array1)\n",
    "    \n",
    "    array1.sort()\n",
    "    array2.sort()\n",
    "    \n",
    "    for i in range(arrayLength):\n",
    "        \n",
    "        if array1[i] != array2[i]:\n",
    "            \n",
    "            flag = False\n",
    "            break\n",
    "     \n",
    "    return flag"
   ]
  },
  {
   "cell_type": "code",
   "execution_count": 13,
   "id": "4d4f384b",
   "metadata": {},
   "outputs": [
    {
     "data": {
      "text/plain": [
       "True"
      ]
     },
     "execution_count": 13,
     "metadata": {},
     "output_type": "execute_result"
    }
   ],
   "source": [
    "are_anagrams('dictionary', 'indicatory')"
   ]
  },
  {
   "cell_type": "code",
   "execution_count": 14,
   "id": "601bae0b",
   "metadata": {},
   "outputs": [
    {
     "data": {
      "text/plain": [
       "True"
      ]
     },
     "execution_count": 14,
     "metadata": {},
     "output_type": "execute_result"
    }
   ],
   "source": [
    "are_anagrams('listen', 'silent')\n"
   ]
  },
  {
   "cell_type": "code",
   "execution_count": 15,
   "id": "216c0e18",
   "metadata": {},
   "outputs": [
    {
     "data": {
      "text/plain": [
       "False"
      ]
     },
     "execution_count": 15,
     "metadata": {},
     "output_type": "execute_result"
    }
   ],
   "source": [
    " are_anagrams('melon', 'watermelon')"
   ]
  },
  {
   "cell_type": "markdown",
   "id": "3ad2de21",
   "metadata": {},
   "source": [
    "Write a function has_anagrams that takes as input a list of strings, and returns True if the list contains at least two strings which are anagrams of each other. You may wish to make use of the function are_anagrams from before."
   ]
  },
  {
   "cell_type": "code",
   "execution_count": 16,
   "id": "6d1adc9f",
   "metadata": {},
   "outputs": [],
   "source": [
    "def generate_2_Set(wordList, finalSet):\n",
    "    \n",
    "    if len(wordList) == 2 and wordList not in finalSet:\n",
    "        finalSet.append(wordList)\n",
    "       \n",
    "    \n",
    "    else:\n",
    "        \n",
    "        for i in range(len(wordList)):\n",
    "            \n",
    "            wordListCopy = wordList.copy()\n",
    "            wordListCopy.pop(i)\n",
    "            generate_2_Set(wordListCopy, finalSet)\n",
    "            \n",
    "            "
   ]
  },
  {
   "cell_type": "code",
   "execution_count": 17,
   "id": "5f8d649b",
   "metadata": {},
   "outputs": [],
   "source": [
    " def has_anagrams(wordList):\n",
    "        \n",
    "        flag = False\n",
    "        finalSet = []\n",
    "        generate_2_Set(wordList, finalSet)\n",
    "        \n",
    "        for item in finalSet:\n",
    "            \n",
    "            if are_anagrams(item[0], item[1]) == True:\n",
    "                flag = True\n",
    "                break\n",
    "        \n",
    "        return flag"
   ]
  },
  {
   "cell_type": "code",
   "execution_count": 18,
   "id": "32af6b59",
   "metadata": {},
   "outputs": [
    {
     "data": {
      "text/plain": [
       "True"
      ]
     },
     "execution_count": 18,
     "metadata": {},
     "output_type": "execute_result"
    }
   ],
   "source": [
    "has_anagrams(['apple', 'banana', 'pear', 'reap'])\n"
   ]
  },
  {
   "cell_type": "code",
   "execution_count": 19,
   "id": "02bf9030",
   "metadata": {},
   "outputs": [
    {
     "data": {
      "text/plain": [
       "False"
      ]
     },
     "execution_count": 19,
     "metadata": {},
     "output_type": "execute_result"
    }
   ],
   "source": [
    "has_anagrams(['apple', 'banana', 'pear', 'papaya'])"
   ]
  },
  {
   "cell_type": "markdown",
   "id": "41f07a08",
   "metadata": {},
   "source": [
    "Write a function find_anagrams that takes as input a list of strings, and returns a list of anagrams found in the input"
   ]
  },
  {
   "cell_type": "code",
   "execution_count": 20,
   "id": "419e12f4",
   "metadata": {},
   "outputs": [],
   "source": [
    "def remove_node(word, possibleSet, anagramFamily):\n",
    "    \n",
    "    if len(possibleSet) == 0:\n",
    "        \n",
    "        return\n",
    "    \n",
    "    anagramFamily.append(word)\n",
    "    \n",
    "    for item in possibleSet:\n",
    "        \n",
    "        if word == item[0] and are_anagrams(item[0],item[1]):\n",
    "            item = item.copy()\n",
    "            possibleSet.remove(item)\n",
    "            remove_node(item[1], possibleSet, anagramFamily)\n",
    "            \n",
    "        elif word == item[1] and are_anagrams(item[0],item[1]):\n",
    "            item = item.copy()\n",
    "            possibleSet.remove(item)\n",
    "            remove_node(item[0], possibleSet, anagramFamily)\n",
    "\n",
    "        elif are_anagrams(item[0],item[1]) == 0:\n",
    "            \n",
    "            possibleSet.remove(item)\n",
    "        \n",
    "        \n",
    "    "
   ]
  },
  {
   "cell_type": "code",
   "execution_count": 21,
   "id": "54de8087",
   "metadata": {},
   "outputs": [],
   "source": [
    "def find_anagrams(wordList):\n",
    "    \n",
    "    possibleSet = []\n",
    "    finalSet = []\n",
    "    generate_2_Set(wordList, possibleSet)\n",
    "\n",
    "    while len(possibleSet) > 0:    \n",
    "        anagramFamily = []\n",
    "        word = possibleSet[0][0]\n",
    "        remove_node(word, possibleSet, anagramFamily)\n",
    "        if len(anagramFamily) > 1:\n",
    "            finalSet.append(anagramFamily)\n",
    "    \n",
    "    return finalSet"
   ]
  },
  {
   "cell_type": "code",
   "execution_count": 22,
   "id": "8a1be085",
   "metadata": {},
   "outputs": [
    {
     "data": {
      "text/plain": [
       "[['pear', 'reap'], ['rugged', 'grudge'], ['recasts', 'casters', 'actress']]"
      ]
     },
     "execution_count": 22,
     "metadata": {},
     "output_type": "execute_result"
    }
   ],
   "source": [
    "find_anagrams(['actress', 'grudge', 'recasts', 'rugged',\n",
    "'casters', 'apple', 'pear', 'reap'])\n",
    "    \n",
    "\n",
    "                \n",
    "    "
   ]
  },
  {
   "cell_type": "markdown",
   "id": "452a0b03",
   "metadata": {},
   "source": [
    "MasterMind Game : After making a guess, the codemaker will inform the codebreaker how many pegs of the guess are correct in both colour and position, i.e., the number of exact matches. Implement a function correct_pegs(code, guess) which takes as inputs two strings, the code and the guess, and returns the number of characters in the guess that match the code in both colour and position."
   ]
  },
  {
   "cell_type": "code",
   "execution_count": 23,
   "id": "622dac79",
   "metadata": {},
   "outputs": [],
   "source": [
    "def correct_pegs(code, guess): \n",
    "    \n",
    "    count = 0\n",
    "    \n",
    "    \n",
    "    for i in range(len(code)):\n",
    "        \n",
    "        if code[i] == guess[i]:\n",
    "            count += 1\n",
    "    \n",
    "    return count"
   ]
  },
  {
   "cell_type": "code",
   "execution_count": 24,
   "id": "e5b8073f",
   "metadata": {},
   "outputs": [
    {
     "data": {
      "text/plain": [
       "2"
      ]
     },
     "execution_count": 24,
     "metadata": {},
     "output_type": "execute_result"
    }
   ],
   "source": [
    "correct_pegs(\"rrbk\", \"rkbb\")"
   ]
  },
  {
   "cell_type": "markdown",
   "id": "75b17b79",
   "metadata": {},
   "source": [
    "In addition to the number of correct pegs, the codemaker will also inform the number of correct colour code peg placed in the wrong position. We call this the number of partial matches. If there are duplicated colours in the guess, the number of partial matches should correspond to the number of pegs that are in the wrong position without double counting.\n",
    "\n",
    "For example, if the code is \"wwbbb\" and the guess is \"bbwww\", the number of partial matches is 4. The first two ‘b’s in the guess are in the wrong position, and so are the next two ‘w’s. The last ‘w’ does not match any in the code because the first two ‘w’s in the code is already matched in the guess.\n",
    "\n",
    "Implement a function check_guess(code, guess) that takes as inputs two strings, the code and the guess, and returns a tuple of 2 elements, the first being the number of exact matches and the second element the number of partial matches.\n"
   ]
  },
  {
   "cell_type": "code",
   "execution_count": 25,
   "id": "28f12935",
   "metadata": {},
   "outputs": [],
   "source": [
    "def check_guess(code, guess):\n",
    "    \n",
    "    correct_letters = correct_pegs(code, guess)\n",
    "\n",
    "    codeDict = {}\n",
    "    guessDict = {}\n",
    "    \n",
    "    commonCount = 0\n",
    "    \n",
    "    for letter in code:\n",
    "        \n",
    "        if codeDict.get(letter) == None:\n",
    "            \n",
    "            codeDict[letter] = 1\n",
    "        \n",
    "        else:\n",
    "            \n",
    "            codeDict[letter] += 1\n",
    "            \n",
    "    \n",
    "    for letter in guess:\n",
    "        \n",
    "        if guessDict.get(letter) == None:\n",
    "            \n",
    "            guessDict[letter] = 1\n",
    "        \n",
    "        else:\n",
    "            \n",
    "            guessDict[letter] += 1\n",
    "        \n",
    "     \n",
    "    for key in codeDict.keys():\n",
    "        \n",
    "        if guessDict.get(key) != None:\n",
    "            \n",
    "            commonCount += min(guessDict[key], codeDict[key])\n",
    "    \n",
    "    return (correct_letters, commonCount-correct_letters)"
   ]
  },
  {
   "cell_type": "code",
   "execution_count": 26,
   "id": "d946790f",
   "metadata": {},
   "outputs": [
    {
     "data": {
      "text/plain": [
       "(0, 4)"
      ]
     },
     "execution_count": 26,
     "metadata": {},
     "output_type": "execute_result"
    }
   ],
   "source": [
    "check_guess(\"wwbbb\", \"bbwww\")"
   ]
  },
  {
   "cell_type": "code",
   "execution_count": 27,
   "id": "ff9b0040",
   "metadata": {},
   "outputs": [
    {
     "data": {
      "text/plain": [
       "(2, 2)"
      ]
     },
     "execution_count": 27,
     "metadata": {},
     "output_type": "execute_result"
    }
   ],
   "source": [
    "check_guess(\"rrbbyy\", \"rcbyrg\")"
   ]
  },
  {
   "cell_type": "code",
   "execution_count": 28,
   "id": "4570326b",
   "metadata": {},
   "outputs": [
    {
     "data": {
      "text/plain": [
       "(1, 0)"
      ]
     },
     "execution_count": 28,
     "metadata": {},
     "output_type": "execute_result"
    }
   ],
   "source": [
    "check_guess(\"rbyg\", \"bbbb\")"
   ]
  },
  {
   "cell_type": "markdown",
   "id": "61a7fab0",
   "metadata": {},
   "source": [
    "Write a function odd position digits that takes in a positive integer and returns an integer consisting of only the odd-position (counting from the front) digits"
   ]
  },
  {
   "cell_type": "code",
   "execution_count": 29,
   "id": "5dce1595",
   "metadata": {},
   "outputs": [],
   "source": [
    "def odd_position_digits(num):\n",
    "    \n",
    "    \n",
    "    num_string = str(num)\n",
    "    \n",
    "    \n",
    "    num_array = []\n",
    "    \n",
    "    \n",
    "    final = 0\n",
    "    \n",
    "    for i in range(len(num_string)):\n",
    "        \n",
    "        if i%2 == 0:\n",
    "\n",
    "            num_array.append(num_string[i])\n",
    "            \n",
    "    \n",
    "    \n",
    "    length = len(num_array)\n",
    "    \n",
    "    for i in range(length):\n",
    "        \n",
    "        val = int(num_array[i])\n",
    "        \n",
    "        final = final + val*(10**(length-i-1))\n",
    "        \n",
    "    return final"
   ]
  },
  {
   "cell_type": "code",
   "execution_count": 30,
   "id": "c3acfe11",
   "metadata": {},
   "outputs": [
    {
     "data": {
      "text/plain": [
       "13579"
      ]
     },
     "execution_count": 30,
     "metadata": {},
     "output_type": "execute_result"
    }
   ],
   "source": [
    "odd_position_digits(123456789)"
   ]
  },
  {
   "cell_type": "code",
   "execution_count": 31,
   "id": "3809c41f",
   "metadata": {},
   "outputs": [
    {
     "data": {
      "text/plain": [
       "13579"
      ]
     },
     "execution_count": 31,
     "metadata": {},
     "output_type": "execute_result"
    }
   ],
   "source": [
    "odd_position_digits(1234567890)"
   ]
  },
  {
   "cell_type": "code",
   "execution_count": 32,
   "id": "473a5e30",
   "metadata": {},
   "outputs": [
    {
     "data": {
      "text/plain": [
       "12345"
      ]
     },
     "execution_count": 32,
     "metadata": {},
     "output_type": "execute_result"
    }
   ],
   "source": [
    "odd_position_digits(1122334455)\n"
   ]
  },
  {
   "cell_type": "code",
   "execution_count": 33,
   "id": "a75bedf4",
   "metadata": {},
   "outputs": [
    {
     "data": {
      "text/plain": [
       "13579"
      ]
     },
     "execution_count": 33,
     "metadata": {},
     "output_type": "execute_result"
    }
   ],
   "source": [
    "odd_position_digits(183654729)\n"
   ]
  },
  {
   "cell_type": "code",
   "execution_count": 34,
   "id": "ea147d9f",
   "metadata": {},
   "outputs": [
    {
     "data": {
      "text/plain": [
       "97531"
      ]
     },
     "execution_count": 34,
     "metadata": {},
     "output_type": "execute_result"
    }
   ],
   "source": [
    "odd_position_digits(987654321)\n"
   ]
  },
  {
   "cell_type": "code",
   "execution_count": 35,
   "id": "12ced672",
   "metadata": {},
   "outputs": [
    {
     "data": {
      "text/plain": [
       "13"
      ]
     },
     "execution_count": 35,
     "metadata": {},
     "output_type": "execute_result"
    }
   ],
   "source": [
    " odd_position_digits(123)\n"
   ]
  },
  {
   "cell_type": "markdown",
   "id": "50cb8565",
   "metadata": {},
   "source": [
    "Write a function reverse even that takes in a positive integer and returns an integer with the digits at the even positions (counting from the front) reversed."
   ]
  },
  {
   "cell_type": "code",
   "execution_count": 36,
   "id": "0ff2f050",
   "metadata": {},
   "outputs": [],
   "source": [
    "def swap(i , j, array):\n",
    "    \n",
    "    temp = array[i]\n",
    "    array[i] = array[j]\n",
    "    array[j] = temp"
   ]
  },
  {
   "cell_type": "code",
   "execution_count": 37,
   "id": "ab211608",
   "metadata": {},
   "outputs": [],
   "source": [
    "def reverse_even(num):\n",
    "    \n",
    "    num_string = str(num)\n",
    "    num_array = []\n",
    "    final = 0\n",
    "    \n",
    "    for i in range(len(num_string)):\n",
    "\n",
    "            num_array.append(num_string[i])\n",
    "    \n",
    "    length = len(num_array)\n",
    "    last = length + 1\n",
    "    \n",
    "    if length%2 == 1:\n",
    "        \n",
    "        last = last - 1\n",
    "    \n",
    "    for i in range(int(length/2)):\n",
    "        \n",
    "        if i%2 == 1:\n",
    "            \n",
    "            swap(i , last-1-i, num_array)\n",
    "    \n",
    "    for i in range(length):\n",
    "        \n",
    "        val = int(num_array[i])\n",
    "        \n",
    "        final = final + val*(10**(length-i-1))\n",
    "        \n",
    "    return final"
   ]
  },
  {
   "cell_type": "code",
   "execution_count": 38,
   "id": "3d65310b",
   "metadata": {},
   "outputs": [
    {
     "data": {
      "text/plain": [
       "183654729"
      ]
     },
     "execution_count": 38,
     "metadata": {},
     "output_type": "execute_result"
    }
   ],
   "source": [
    " reverse_even(123456789)\n"
   ]
  },
  {
   "cell_type": "code",
   "execution_count": 39,
   "id": "98373c06",
   "metadata": {},
   "outputs": [
    {
     "data": {
      "text/plain": [
       "1038567492"
      ]
     },
     "execution_count": 39,
     "metadata": {},
     "output_type": "execute_result"
    }
   ],
   "source": [
    "reverse_even(1234567890)\n"
   ]
  },
  {
   "cell_type": "code",
   "execution_count": 40,
   "id": "f7355ed8",
   "metadata": {},
   "outputs": [
    {
     "data": {
      "text/plain": [
       "1524334251"
      ]
     },
     "execution_count": 40,
     "metadata": {},
     "output_type": "execute_result"
    }
   ],
   "source": [
    "reverse_even(1122334455)\n"
   ]
  },
  {
   "cell_type": "code",
   "execution_count": 41,
   "id": "ef409f33",
   "metadata": {},
   "outputs": [
    {
     "data": {
      "text/plain": [
       "123456789"
      ]
     },
     "execution_count": 41,
     "metadata": {},
     "output_type": "execute_result"
    }
   ],
   "source": [
    "reverse_even(183654729)"
   ]
  },
  {
   "cell_type": "code",
   "execution_count": 42,
   "id": "ed2e7d6b",
   "metadata": {},
   "outputs": [
    {
     "data": {
      "text/plain": [
       "927456381"
      ]
     },
     "execution_count": 42,
     "metadata": {},
     "output_type": "execute_result"
    }
   ],
   "source": [
    "reverse_even(987654321)"
   ]
  },
  {
   "cell_type": "code",
   "execution_count": 43,
   "id": "58572884",
   "metadata": {},
   "outputs": [
    {
     "data": {
      "text/plain": [
       "123"
      ]
     },
     "execution_count": 43,
     "metadata": {},
     "output_type": "execute_result"
    }
   ],
   "source": [
    "reverse_even(123)\n"
   ]
  }
 ],
 "metadata": {
  "kernelspec": {
   "display_name": "Python 3 (ipykernel)",
   "language": "python",
   "name": "python3"
  },
  "language_info": {
   "codemirror_mode": {
    "name": "ipython",
    "version": 3
   },
   "file_extension": ".py",
   "mimetype": "text/x-python",
   "name": "python",
   "nbconvert_exporter": "python",
   "pygments_lexer": "ipython3",
   "version": "3.11.4"
  }
 },
 "nbformat": 4,
 "nbformat_minor": 5
}
