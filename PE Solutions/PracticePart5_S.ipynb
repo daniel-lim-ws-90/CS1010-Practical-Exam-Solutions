{
 "cells": [
  {
   "cell_type": "markdown",
   "id": "4dadbe8f",
   "metadata": {},
   "source": [
    "### 16 Apr 2022, 12 Nov 2022, 15 Apr 2023, 16 Nov 2019"
   ]
  },
  {
   "cell_type": "markdown",
   "id": "6aca2cca",
   "metadata": {},
   "source": [
    "Your task is to implement count_plays that counts the number of possible ways starting from a given square to the finish square without ever landing on top of any chute. The function takes as input a starting position (a number from 1 to N −1) and a representation of a chutes and-ladders game board. A player need not exactly land on the final square to finish a play. For\n",
    "example, if player is 2 spots away for the the final square and rolls a 6, it is counted as a play.The board is represented by a tuple (num_squares, ladders, chutes)."
   ]
  },
  {
   "cell_type": "code",
   "execution_count": 1,
   "id": "1cc652b9",
   "metadata": {},
   "outputs": [],
   "source": [
    "board1 = (14, {2: 12, 7: 12}, {13: 3, 9: 4})\n",
    "board2 = (10, {5: 8}, {9: 1, 7: 4})"
   ]
  },
  {
   "cell_type": "code",
   "execution_count": 2,
   "id": "beb6339e",
   "metadata": {},
   "outputs": [],
   "source": [
    "#without ever landing on top of any chute\n",
    "#each function only runs one thing at a time hence need to use elif\n",
    "\n",
    "def subsetSum(target, currentSum, array, countArray, board):\n",
    "    \n",
    "    \n",
    "    if board[2].get(currentSum) != None:\n",
    "        \n",
    "        return\n",
    "        \n",
    "    elif currentSum >= target :\n",
    "        \n",
    "        countArray.append(1)\n",
    "        return\n",
    "\n",
    "    elif board[1].get(currentSum) != None:\n",
    "        \n",
    "        subsetSum(target, board[1].get(currentSum), array, countArray,board)\n",
    "    \n",
    "    else:\n",
    "        \n",
    "        for num in array:\n",
    "\n",
    "            if currentSum < target :\n",
    "\n",
    "                subsetSum(target, currentSum+num, array, countArray,board)\n",
    "    \n",
    "        "
   ]
  },
  {
   "cell_type": "code",
   "execution_count": 3,
   "id": "23b630a4",
   "metadata": {},
   "outputs": [],
   "source": [
    "def num_plays(num, board):\n",
    "    countArray = []\n",
    "    array = [1,2,3,4,5,6]\n",
    "    subsetSum(board[0], num, array, countArray, board)\n",
    "    totalPaths = 0\n",
    "    for i in range(len(countArray)):\n",
    "        \n",
    "        totalPaths += 1\n",
    "    \n",
    "    return totalPaths"
   ]
  },
  {
   "cell_type": "code",
   "execution_count": 4,
   "id": "73879945",
   "metadata": {},
   "outputs": [
    {
     "data": {
      "text/plain": [
       "5"
      ]
     },
     "execution_count": 4,
     "metadata": {},
     "output_type": "execute_result"
    }
   ],
   "source": [
    "num_plays(5, board2)         "
   ]
  },
  {
   "cell_type": "code",
   "execution_count": 5,
   "id": "d1a71405",
   "metadata": {},
   "outputs": [
    {
     "data": {
      "text/plain": [
       "5"
      ]
     },
     "execution_count": 5,
     "metadata": {},
     "output_type": "execute_result"
    }
   ],
   "source": [
    "num_plays(8, board2) "
   ]
  },
  {
   "cell_type": "code",
   "execution_count": 6,
   "id": "21906147",
   "metadata": {},
   "outputs": [
    {
     "data": {
      "text/plain": [
       "37"
      ]
     },
     "execution_count": 6,
     "metadata": {},
     "output_type": "execute_result"
    }
   ],
   "source": [
    "num_plays(3, board2) "
   ]
  },
  {
   "cell_type": "code",
   "execution_count": 7,
   "id": "9f862ecc",
   "metadata": {},
   "outputs": [
    {
     "data": {
      "text/plain": [
       "0"
      ]
     },
     "execution_count": 7,
     "metadata": {},
     "output_type": "execute_result"
    }
   ],
   "source": [
    "num_plays(13, board1)   "
   ]
  },
  {
   "cell_type": "code",
   "execution_count": 8,
   "id": "0af0d4aa",
   "metadata": {},
   "outputs": [
    {
     "data": {
      "text/plain": [
       "5"
      ]
     },
     "execution_count": 8,
     "metadata": {},
     "output_type": "execute_result"
    }
   ],
   "source": [
    "num_plays(12, board1) "
   ]
  },
  {
   "cell_type": "markdown",
   "id": "00ef4ba9",
   "metadata": {},
   "source": [
    "An interval is a pair of integers in the form (a, b) where a < b. It represents an interval of integers from a to b inclusive. Two intervals can be merged to be represented by one interval if they overlap. The following helper function merge takes in two intervals as inputs, and returns a new merged interval if the two intervals overlap, or False otherwise. The implementation is given as follows.Using merge , your task is to implement the function merge_intervals that takes in an arbitrary number of intervals and returns a list with the minimum number of merged intervals that covers all the intervals in the input. You can return the list of intervals in any order."
   ]
  },
  {
   "cell_type": "code",
   "execution_count": 9,
   "id": "c3090110",
   "metadata": {},
   "outputs": [],
   "source": [
    "def merge(a, b):\n",
    "    if a[1] < b[0] or b[1] < a[0]:\n",
    "        return False\n",
    "    else:\n",
    "        return (min(a[0], b[0]), max(a[1], b[1]))"
   ]
  },
  {
   "cell_type": "code",
   "execution_count": 10,
   "id": "6521ba01",
   "metadata": {},
   "outputs": [],
   "source": [
    "def merge_list(intervals):\n",
    "    \n",
    "    initialLength = len(intervals)\n",
    "    \n",
    "    for i in range(initialLength):\n",
    "    \n",
    "        flag = False \n",
    "\n",
    "        newInterval = intervals.pop()\n",
    "\n",
    "        for j in range(len(intervals)):\n",
    "\n",
    "            result = merge(newInterval, intervals[j])\n",
    "\n",
    "            if result != False:\n",
    "                flag = True    \n",
    "                intervals[j] = result\n",
    "                break\n",
    "\n",
    "        if flag == False:\n",
    "\n",
    "            intervals.append(newInterval)\n",
    "        \n",
    "              "
   ]
  },
  {
   "cell_type": "code",
   "execution_count": 11,
   "id": "6a4f4942",
   "metadata": {},
   "outputs": [],
   "source": [
    "def merge_intervals(*intervals):\n",
    "    \n",
    "    interval_List = []\n",
    "    \n",
    "    for x in intervals:\n",
    "        \n",
    "        interval_List.append(x)\n",
    "        \n",
    "    merge_list(interval_List)\n",
    "    \n",
    "    return interval_List\n",
    " "
   ]
  },
  {
   "cell_type": "code",
   "execution_count": 12,
   "id": "23888531",
   "metadata": {},
   "outputs": [
    {
     "data": {
      "text/plain": [
       "[(1, 2), (3, 4)]"
      ]
     },
     "execution_count": 12,
     "metadata": {},
     "output_type": "execute_result"
    }
   ],
   "source": [
    "merge_intervals((1, 2), (3, 4))"
   ]
  },
  {
   "cell_type": "code",
   "execution_count": 13,
   "id": "aae781b5",
   "metadata": {},
   "outputs": [
    {
     "data": {
      "text/plain": [
       "[(1, 4)]"
      ]
     },
     "execution_count": 13,
     "metadata": {},
     "output_type": "execute_result"
    }
   ],
   "source": [
    "merge_intervals((1, 2), (2, 4))"
   ]
  },
  {
   "cell_type": "code",
   "execution_count": 14,
   "id": "27d53326",
   "metadata": {},
   "outputs": [
    {
     "data": {
      "text/plain": [
       "[(1, 6)]"
      ]
     },
     "execution_count": 14,
     "metadata": {},
     "output_type": "execute_result"
    }
   ],
   "source": [
    "merge_intervals((1, 2), (3, 4), (2, 6))"
   ]
  },
  {
   "cell_type": "code",
   "execution_count": 15,
   "id": "faa840f8",
   "metadata": {},
   "outputs": [
    {
     "data": {
      "text/plain": [
       "[(1, 12)]"
      ]
     },
     "execution_count": 15,
     "metadata": {},
     "output_type": "execute_result"
    }
   ],
   "source": [
    "merge_intervals((7, 12), (3, 9), (1, 4))"
   ]
  },
  {
   "cell_type": "code",
   "execution_count": 16,
   "id": "2ffced97",
   "metadata": {},
   "outputs": [
    {
     "data": {
      "text/plain": [
       "[(1, 15)]"
      ]
     },
     "execution_count": 16,
     "metadata": {},
     "output_type": "execute_result"
    }
   ],
   "source": [
    "merge_intervals((7, 9), (3, 5), (10, 13), (1, 15))\n"
   ]
  },
  {
   "cell_type": "markdown",
   "id": "14bd3cdc",
   "metadata": {},
   "source": [
    "Implement the function flatten_dictionary that takes in a dictionary dict, and separator value sep and returns a flattened dictionary if dict is nested. In case of duplicate keys generated after flattening, consider the first value assigned to the key, see the last sample in the example."
   ]
  },
  {
   "cell_type": "code",
   "execution_count": 17,
   "id": "1a5d9c1f",
   "metadata": {},
   "outputs": [
    {
     "data": {
      "text/plain": [
       "\"<class 'dict'>\""
      ]
     },
     "execution_count": 17,
     "metadata": {},
     "output_type": "execute_result"
    }
   ],
   "source": [
    "x = {}\n",
    "str(type(x))"
   ]
  },
  {
   "cell_type": "code",
   "execution_count": 18,
   "id": "16b40d13",
   "metadata": {},
   "outputs": [],
   "source": [
    "def flatten_helper(elt,sep,currentkey,final):\n",
    "    \n",
    "    if str(type(elt)) == \"<class 'dict'>\":\n",
    "        \n",
    "        for key in elt.keys():\n",
    "            \n",
    "            flatten_helper(elt.get(key), sep, currentkey + sep + str(key), final)\n",
    "    \n",
    "    else:\n",
    "        \n",
    "        if final.get(str(currentkey)) == None:\n",
    "        \n",
    "            final[str(currentkey)] = elt\n",
    "        \n",
    "        return\n"
   ]
  },
  {
   "cell_type": "code",
   "execution_count": 19,
   "id": "852a1eff",
   "metadata": {},
   "outputs": [],
   "source": [
    "def flatten_dictionary(dictionary,sep):\n",
    "    \n",
    "    final = {}\n",
    "    \n",
    "    for key in dictionary.keys():\n",
    "        \n",
    "        flatten_helper(dictionary.get(key), sep, str(key), final)\n",
    "    \n",
    "    return final"
   ]
  },
  {
   "cell_type": "code",
   "execution_count": 20,
   "id": "679077e5",
   "metadata": {},
   "outputs": [
    {
     "data": {
      "text/plain": [
       "{'a': 1, 'b_c': 2, 'b_d_e': 3}"
      ]
     },
     "execution_count": 20,
     "metadata": {},
     "output_type": "execute_result"
    }
   ],
   "source": [
    "nested_dict={'a': 1, 'b': {'c': 2, 'd': {'e': 3}}}\n",
    "flatten_dictionary(nested_dict, '_')\n"
   ]
  },
  {
   "cell_type": "code",
   "execution_count": 21,
   "id": "51727c48",
   "metadata": {},
   "outputs": [
    {
     "data": {
      "text/plain": [
       "{'CS1010': 'S'}"
      ]
     },
     "execution_count": 21,
     "metadata": {},
     "output_type": "execute_result"
    }
   ],
   "source": [
    "nested_dict={'C': {'S': {'1': {'0': {'1': {'0':'S'}}}}}}\n",
    "flatten_dictionary(nested_dict, '')"
   ]
  },
  {
   "cell_type": "code",
   "execution_count": 22,
   "id": "26db56ed",
   "metadata": {
    "scrolled": true
   },
   "outputs": [
    {
     "data": {
      "text/plain": [
       "{'2': 1, '4-6': 2, '4-8-10': 3, '4-12': 4, '14': 5}"
      ]
     },
     "execution_count": 22,
     "metadata": {},
     "output_type": "execute_result"
    }
   ],
   "source": [
    "nested_dict={2: 1, 4: {6: 2, 8: {10: 3}, 12:4}, 14:5}\n",
    "flatten_dictionary(nested_dict, '-')\n"
   ]
  },
  {
   "cell_type": "code",
   "execution_count": 23,
   "id": "14083151",
   "metadata": {},
   "outputs": [
    {
     "data": {
      "text/plain": [
       "{'(1, 2)*3': ['a', 'b', 'c'], '(1, 2)*(4, 5)*(6, 7)': ['d', 'e,', 'f', 'g']}"
      ]
     },
     "execution_count": 23,
     "metadata": {},
     "output_type": "execute_result"
    }
   ],
   "source": [
    "nested_dict={(1,2): { 3: ['a','b', 'c'], (4,5): {(6,7):\n",
    "['d','e,','f','g'] }}}\n",
    "flatten_dictionary(nested_dict, '*')\n"
   ]
  },
  {
   "cell_type": "code",
   "execution_count": 24,
   "id": "7f2bec7c",
   "metadata": {},
   "outputs": [
    {
     "data": {
      "text/plain": [
       "{'b_c': 5}"
      ]
     },
     "execution_count": 24,
     "metadata": {},
     "output_type": "execute_result"
    }
   ],
   "source": [
    "nested_dict={'b_c': 5, 'b': {'c': 3}}\n",
    "flatten_dictionary(nested_dict, '_')"
   ]
  },
  {
   "cell_type": "markdown",
   "id": "ba12b87a",
   "metadata": {},
   "source": [
    "A game of matchsticks is played by first arranging matchsticks in a sequence. Players then take turns to remove any number of consecutive matchsticks from the game. When a matchstick is removed, it creates a gap, splitting the matchsticks into separate piles."
   ]
  },
  {
   "cell_type": "markdown",
   "id": "837b6f66",
   "metadata": {},
   "source": [
    "Implement a function valid_move(game, start, end) that takes in a game state in the above-mentioned representation, and the starting and ending indexes of matchstick to remove. You may assume that end will not be smaller than start ."
   ]
  },
  {
   "cell_type": "code",
   "execution_count": 25,
   "id": "7c0f4313",
   "metadata": {},
   "outputs": [],
   "source": [
    "def valid_move_index(game, start, end):\n",
    "    \n",
    "    length = len(game)\n",
    "    \n",
    "    if length == 1 and start <= game[0][-1] and end >= game[0][0]:\n",
    "        \n",
    "        return 0\n",
    "\n",
    "    \n",
    "    for i in range(0,length):\n",
    "        \n",
    "        \n",
    "        if i == 0:\n",
    "            \n",
    "            if start >= game[i][0] and start <= game[i][-1] and end < game[i+1][0] and end > game[i][0]:\n",
    "               \n",
    "                return i\n",
    "        \n",
    "        elif i == length -1 :\n",
    "            \n",
    "            if start > game[i-1][-1] and start <= game[i][-1] and end <= game[i][-1] and end > game[i][0]:\n",
    "              \n",
    "                return i\n",
    "            \n",
    "        else:\n",
    "            \n",
    "            if start > game[i-1][-1] and start <= game[i][-1] and end < game[i+1][0] and end > game[i][0]:\n",
    "               \n",
    "                return i\n",
    "            \n",
    "            \n",
    "    return -1"
   ]
  },
  {
   "cell_type": "code",
   "execution_count": 26,
   "id": "5efb635b",
   "metadata": {},
   "outputs": [],
   "source": [
    "def valid_move(game, start, end):\n",
    "    \n",
    "    if valid_move_index(game, start, end) < 0:\n",
    "        \n",
    "        return False\n",
    "    \n",
    "    else:\n",
    "        \n",
    "        return True"
   ]
  },
  {
   "cell_type": "code",
   "execution_count": 27,
   "id": "4a6183ab",
   "metadata": {},
   "outputs": [
    {
     "data": {
      "text/plain": [
       "False"
      ]
     },
     "execution_count": 27,
     "metadata": {},
     "output_type": "execute_result"
    }
   ],
   "source": [
    "game = [[1, 3], [8, 9], [14,20]]\n",
    "valid_move(game, 2, 8)\n"
   ]
  },
  {
   "cell_type": "code",
   "execution_count": 28,
   "id": "3b6097d8",
   "metadata": {},
   "outputs": [
    {
     "data": {
      "text/plain": [
       "False"
      ]
     },
     "execution_count": 28,
     "metadata": {},
     "output_type": "execute_result"
    }
   ],
   "source": [
    "valid_move(game, 4, 7)\n"
   ]
  },
  {
   "cell_type": "code",
   "execution_count": 29,
   "id": "2593d032",
   "metadata": {},
   "outputs": [
    {
     "data": {
      "text/plain": [
       "True"
      ]
     },
     "execution_count": 29,
     "metadata": {},
     "output_type": "execute_result"
    }
   ],
   "source": [
    "valid_move(game, 2, 6)"
   ]
  },
  {
   "cell_type": "markdown",
   "id": "02403a40",
   "metadata": {},
   "source": [
    "Implement the function make_move(game, start, end) that takes in a game state, and the starting and ending indexes of matchstick to remove. The function updates and returns the game state with the specified matchsticks removed."
   ]
  },
  {
   "cell_type": "code",
   "execution_count": 30,
   "id": "2be32c5c",
   "metadata": {},
   "outputs": [],
   "source": [
    "def make_move(game, start, end):\n",
    "        \n",
    "    length = len(game)\n",
    "    index = valid_move_index(game, start, end)\n",
    "    if index < 0:\n",
    "        \n",
    "        return game\n",
    "            \n",
    "    if start <= game[index][0] and end >= game[index][-1]:\n",
    "                \n",
    "        game.pop(index)\n",
    "        return game\n",
    "            \n",
    "    elif start <= game[index][0] and end < game[index][-1] :\n",
    "                \n",
    "        game[index][0] = end + 1\n",
    "        return game\n",
    "            \n",
    "    elif start > game[index][0] and end >= game[index][-1]:\n",
    "            \n",
    "        game[index][-1] = start - 1\n",
    "        return game\n",
    "        \n",
    "    elif start > game[index][0] and end < game[index][-1]:\n",
    "            \n",
    "        newArray = [end + 1, game[index][-1]]\n",
    "        game[index][-1] = start - 1\n",
    "        game.insert(index+1,newArray)\n",
    "        return game\n",
    "            \n",
    "          \n",
    "            "
   ]
  },
  {
   "cell_type": "code",
   "execution_count": 31,
   "id": "caa06a7a",
   "metadata": {},
   "outputs": [
    {
     "data": {
      "text/plain": [
       "[[1, 9], [14, 20]]"
      ]
     },
     "execution_count": 31,
     "metadata": {},
     "output_type": "execute_result"
    }
   ],
   "source": [
    "game = [[1, 20]]\n",
    "make_move(game, 10, 13)"
   ]
  },
  {
   "cell_type": "code",
   "execution_count": 32,
   "id": "040cae43",
   "metadata": {},
   "outputs": [
    {
     "data": {
      "text/plain": [
       "[[1, 3], [8, 9], [14, 20]]"
      ]
     },
     "execution_count": 32,
     "metadata": {},
     "output_type": "execute_result"
    }
   ],
   "source": [
    "make_move(game, 4, 7)"
   ]
  },
  {
   "cell_type": "code",
   "execution_count": 33,
   "id": "3c866bc4",
   "metadata": {},
   "outputs": [
    {
     "data": {
      "text/plain": [
       "[[1, 3], [8, 9], [14, 14], [18, 20]]"
      ]
     },
     "execution_count": 33,
     "metadata": {},
     "output_type": "execute_result"
    }
   ],
   "source": [
    "make_move(game, 15, 17)\n"
   ]
  }
 ],
 "metadata": {
  "kernelspec": {
   "display_name": "Python 3 (ipykernel)",
   "language": "python",
   "name": "python3"
  },
  "language_info": {
   "codemirror_mode": {
    "name": "ipython",
    "version": 3
   },
   "file_extension": ".py",
   "mimetype": "text/x-python",
   "name": "python",
   "nbconvert_exporter": "python",
   "pygments_lexer": "ipython3",
   "version": "3.11.4"
  }
 },
 "nbformat": 4,
 "nbformat_minor": 5
}
