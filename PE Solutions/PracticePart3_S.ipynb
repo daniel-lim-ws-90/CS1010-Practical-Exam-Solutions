{
 "cells": [
  {
   "cell_type": "markdown",
   "id": "68a22d93",
   "metadata": {},
   "source": [
    "### 18 Nov 2017, 21 Apr 2018, 27 Apr 2018, 24 Nov 2017\n"
   ]
  },
  {
   "cell_type": "markdown",
   "id": "7d417b9b",
   "metadata": {},
   "source": [
    "If a train is travelling at a certain speed and requires to stop at a particular block, it needs to start reducing its speed early in order to come to a complete stop at the block. The function brake_at(dest, speed) takes as input the block number of a destination station and the speed of the train, and returns the closest block number to the destination at which the train has to start reducing its speed by half in order to come to a complete stop at the station. Provide an implementation for the function brake_at . Assume that the train is approaching from the direction of a smaller block number."
   ]
  },
  {
   "cell_type": "code",
   "execution_count": 1,
   "id": "743ce083",
   "metadata": {},
   "outputs": [],
   "source": [
    "def brake_at(dest, speed):\n",
    "    \n",
    "    counter = 0\n",
    "    \n",
    "    while speed > 0:\n",
    "        \n",
    "        if speed%2 == 0:\n",
    "            speed = int(speed/2)\n",
    "        else:\n",
    "            speed = int((speed-1)/2)\n",
    "        \n",
    "        counter = counter + speed\n",
    "\n",
    "    return dest - counter"
   ]
  },
  {
   "cell_type": "code",
   "execution_count": 2,
   "id": "5611aea0",
   "metadata": {},
   "outputs": [
    {
     "data": {
      "text/plain": [
       "86"
      ]
     },
     "execution_count": 2,
     "metadata": {},
     "output_type": "execute_result"
    }
   ],
   "source": [
    "brake_at(89, 4)"
   ]
  },
  {
   "cell_type": "code",
   "execution_count": 3,
   "id": "de35e44f",
   "metadata": {},
   "outputs": [
    {
     "data": {
      "text/plain": [
       "81"
      ]
     },
     "execution_count": 3,
     "metadata": {},
     "output_type": "execute_result"
    }
   ],
   "source": [
    "brake_at(89, 10)"
   ]
  },
  {
   "cell_type": "code",
   "execution_count": 4,
   "id": "5a16ce19",
   "metadata": {},
   "outputs": [
    {
     "data": {
      "text/plain": [
       "71"
      ]
     },
     "execution_count": 4,
     "metadata": {},
     "output_type": "execute_result"
    }
   ],
   "source": [
    "brake_at(89, 20)"
   ]
  },
  {
   "cell_type": "markdown",
   "id": "a2e30b32",
   "metadata": {},
   "source": [
    "The function braking_points(curr, dest, speed) takes as inputs the current and des\u0002tination block of the train together with its current speed. It returns a sequence (either list or tuple) of block numbers where the train has to reduce its speed in order to come to a stop at the destination in the least time, i.e., the train will reduce speed at late as possible. If it is not possible to come to a stop at the destination, an empty sequence is returned."
   ]
  },
  {
   "cell_type": "code",
   "execution_count": 5,
   "id": "9a8a3a9c",
   "metadata": {},
   "outputs": [],
   "source": [
    "def braking_points(curr, dest, speed):\n",
    "    \n",
    "    points = []\n",
    "    \n",
    "    if brake_at(dest, speed) < curr :\n",
    "        \n",
    "        return points\n",
    "    \n",
    "    \n",
    "    while dest > curr :\n",
    "         \n",
    "        if brake_at(dest, speed) < curr + speed:\n",
    "            \n",
    "                if speed%2 == 0:\n",
    "                    \n",
    "                    speed = int(speed/2)\n",
    "                    points.append(curr)\n",
    "                    curr = curr + speed\n",
    "                    \n",
    "                else:\n",
    "                    \n",
    "                    speed = int((speed-1)/2)\n",
    "                    points.append(curr)\n",
    "                    curr = curr + speed\n",
    "        \n",
    "        \n",
    "        else:\n",
    "            \n",
    "            curr = curr + speed\n",
    "            \n",
    "            \n",
    "    if len(points) > 0:\n",
    "        \n",
    "        points.append(dest)\n",
    "        return points\n",
    "    else:\n",
    "        \n",
    "        return points"
   ]
  },
  {
   "cell_type": "code",
   "execution_count": 6,
   "id": "187d7089",
   "metadata": {},
   "outputs": [
    {
     "data": {
      "text/plain": [
       "[71, 81, 86, 88, 89]"
      ]
     },
     "execution_count": 6,
     "metadata": {},
     "output_type": "execute_result"
    }
   ],
   "source": [
    "braking_points(71, 89, 20)"
   ]
  },
  {
   "cell_type": "code",
   "execution_count": 7,
   "id": "52252bed",
   "metadata": {},
   "outputs": [
    {
     "data": {
      "text/plain": [
       "[74, 84, 88, 89]"
      ]
     },
     "execution_count": 7,
     "metadata": {},
     "output_type": "execute_result"
    }
   ],
   "source": [
    "braking_points(44, 89, 10)"
   ]
  },
  {
   "cell_type": "code",
   "execution_count": 8,
   "id": "52d7d400",
   "metadata": {},
   "outputs": [
    {
     "data": {
      "text/plain": [
       "[]"
      ]
     },
     "execution_count": 8,
     "metadata": {},
     "output_type": "execute_result"
    }
   ],
   "source": [
    "braking_points(71, 89, 22)"
   ]
  },
  {
   "cell_type": "markdown",
   "id": "2a1f6e4c",
   "metadata": {},
   "source": [
    "Implement the function num_cards which takes a non-negative integer h, and returns the number of cards needed to build a tower of height h. Your function should solve the problem computationally, i.e. using recursion or iteration and not simply use a formula. "
   ]
  },
  {
   "cell_type": "code",
   "execution_count": 9,
   "id": "7b1da559",
   "metadata": {},
   "outputs": [],
   "source": [
    "def num_cards(height):\n",
    "    \n",
    "    if height == 1:\n",
    "        \n",
    "        return 2\n",
    "    \n",
    "    else:\n",
    "        \n",
    "        return num_cards(height-1) + 3*(height-1) + 2 "
   ]
  },
  {
   "cell_type": "code",
   "execution_count": 10,
   "id": "9ec10443",
   "metadata": {},
   "outputs": [
    {
     "data": {
      "text/plain": [
       "2"
      ]
     },
     "execution_count": 10,
     "metadata": {},
     "output_type": "execute_result"
    }
   ],
   "source": [
    "num_cards(1)\n"
   ]
  },
  {
   "cell_type": "code",
   "execution_count": 11,
   "id": "2e8302a2",
   "metadata": {},
   "outputs": [
    {
     "data": {
      "text/plain": [
       "7"
      ]
     },
     "execution_count": 11,
     "metadata": {},
     "output_type": "execute_result"
    }
   ],
   "source": [
    "num_cards(2)"
   ]
  },
  {
   "cell_type": "code",
   "execution_count": 12,
   "id": "ba102ef1",
   "metadata": {},
   "outputs": [
    {
     "data": {
      "text/plain": [
       "15"
      ]
     },
     "execution_count": 12,
     "metadata": {},
     "output_type": "execute_result"
    }
   ],
   "source": [
    "num_cards(3)"
   ]
  },
  {
   "cell_type": "code",
   "execution_count": 13,
   "id": "c9d5abc7",
   "metadata": {},
   "outputs": [
    {
     "data": {
      "text/plain": [
       "26"
      ]
     },
     "execution_count": 13,
     "metadata": {},
     "output_type": "execute_result"
    }
   ],
   "source": [
    "num_cards(4)"
   ]
  },
  {
   "cell_type": "markdown",
   "id": "7792a961",
   "metadata": {},
   "source": [
    "Implement a function num_triangles , which takes a non-negative integer h, and returns the number of triangles that can be formed from a tower of height h. Your function should solve the problem computationally, i.e. using recursion or iteration and not simply use a formula."
   ]
  },
  {
   "cell_type": "code",
   "execution_count": 14,
   "id": "173d11be",
   "metadata": {},
   "outputs": [],
   "source": [
    "def summedHeight(height):\n",
    "    \n",
    "    counter = 0 \n",
    "    \n",
    "    for i in range(height):\n",
    "        \n",
    "        counter = counter + i\n",
    "        \n",
    "    return counter"
   ]
  },
  {
   "cell_type": "code",
   "execution_count": 15,
   "id": "a1f49486",
   "metadata": {},
   "outputs": [],
   "source": [
    "def num_triangles_upright(height):\n",
    "    \n",
    "    if height < 2 :\n",
    "        \n",
    "        return 0\n",
    "    \n",
    "    if height == 2:\n",
    "        \n",
    "        return 1\n",
    "    \n",
    "    else:\n",
    "        \n",
    "        return num_triangles_upright(height-1) + summedHeight(height) \n"
   ]
  },
  {
   "cell_type": "code",
   "execution_count": 16,
   "id": "f5f955d9",
   "metadata": {},
   "outputs": [],
   "source": [
    "def num_triangles_invert(height):\n",
    "    \n",
    "    if height < 2:\n",
    "        \n",
    "        return 0\n",
    "    \n",
    "    if height == 2:\n",
    "        \n",
    "        return 1\n",
    "    \n",
    "    else:\n",
    "        \n",
    "        return num_triangles_invert(height-2) + summedHeight(height)"
   ]
  },
  {
   "cell_type": "code",
   "execution_count": 17,
   "id": "79c4f58a",
   "metadata": {},
   "outputs": [],
   "source": [
    "def num_triangles(height):\n",
    "    \n",
    "    print(num_triangles_invert(height) + num_triangles_upright(height))"
   ]
  },
  {
   "cell_type": "code",
   "execution_count": 18,
   "id": "16dc51fa",
   "metadata": {},
   "outputs": [
    {
     "name": "stdout",
     "output_type": "stream",
     "text": [
      "0\n",
      "2\n",
      "7\n",
      "17\n",
      "33\n",
      "57\n",
      "90\n",
      "134\n",
      "190\n"
     ]
    }
   ],
   "source": [
    "for i in range(1, 10):\n",
    "    num_triangles(i)\n"
   ]
  },
  {
   "cell_type": "markdown",
   "id": "cd1f389c",
   "metadata": {},
   "source": [
    "Implement the function num_triangles that takes in a non-negative integer n, and returns the number of triangles found in a Sierpinski triangle of level n. Note we count both black and white triangles as well as any larger triangles made up of smaller ones."
   ]
  },
  {
   "cell_type": "code",
   "execution_count": 19,
   "id": "13ed405b",
   "metadata": {},
   "outputs": [],
   "source": [
    "def num_triangles(level):\n",
    "    \n",
    "    if level == 0:\n",
    "        \n",
    "        return 1\n",
    "    \n",
    "    else:\n",
    "        \n",
    "        return 3*num_triangles(level-1) + 2 "
   ]
  },
  {
   "cell_type": "code",
   "execution_count": 20,
   "id": "9d5911da",
   "metadata": {},
   "outputs": [
    {
     "data": {
      "text/plain": [
       "161"
      ]
     },
     "execution_count": 20,
     "metadata": {},
     "output_type": "execute_result"
    }
   ],
   "source": [
    "num_triangles(4)"
   ]
  },
  {
   "cell_type": "markdown",
   "id": "343c9e30",
   "metadata": {},
   "source": [
    "Implement the function area that takes in a non-negative integer n, and returns the ratio of the total area covered by the black triangles, to the largest equilateral triangle of a level n Sierpinski triangle. For example, a level 1 Sierpinski triangle, the black area makes up 0.75 of the total triangle area."
   ]
  },
  {
   "cell_type": "code",
   "execution_count": 21,
   "id": "e6740502",
   "metadata": {},
   "outputs": [],
   "source": [
    "def area(level):\n",
    "    \n",
    "    if level == 0:\n",
    "        \n",
    "        return 1\n",
    "    \n",
    "    total = 0\n",
    "    \n",
    "    for i in range(1, 2**(level)+ 2**(level), 2):\n",
    "        \n",
    "        total = total + i\n",
    "    \n",
    "    return (3**level)/total"
   ]
  },
  {
   "cell_type": "code",
   "execution_count": 22,
   "id": "16897406",
   "metadata": {},
   "outputs": [
    {
     "data": {
      "text/plain": [
       "1"
      ]
     },
     "execution_count": 22,
     "metadata": {},
     "output_type": "execute_result"
    }
   ],
   "source": [
    "area(0)\n"
   ]
  },
  {
   "cell_type": "code",
   "execution_count": 23,
   "id": "615c20ca",
   "metadata": {},
   "outputs": [
    {
     "data": {
      "text/plain": [
       "0.75"
      ]
     },
     "execution_count": 23,
     "metadata": {},
     "output_type": "execute_result"
    }
   ],
   "source": [
    "area(1)"
   ]
  },
  {
   "cell_type": "code",
   "execution_count": 24,
   "id": "84ad2fff",
   "metadata": {},
   "outputs": [
    {
     "data": {
      "text/plain": [
       "0.5625"
      ]
     },
     "execution_count": 24,
     "metadata": {},
     "output_type": "execute_result"
    }
   ],
   "source": [
    "area(2)\n"
   ]
  },
  {
   "cell_type": "code",
   "execution_count": 25,
   "id": "05b9ebcb",
   "metadata": {},
   "outputs": [
    {
     "data": {
      "text/plain": [
       "0.421875"
      ]
     },
     "execution_count": 25,
     "metadata": {},
     "output_type": "execute_result"
    }
   ],
   "source": [
    "area(3)"
   ]
  },
  {
   "cell_type": "code",
   "execution_count": 26,
   "id": "a1ce86f2",
   "metadata": {},
   "outputs": [
    {
     "data": {
      "text/plain": [
       "0.31640625"
      ]
     },
     "execution_count": 26,
     "metadata": {},
     "output_type": "execute_result"
    }
   ],
   "source": [
    "area(4)\n"
   ]
  },
  {
   "cell_type": "markdown",
   "id": "833e0692",
   "metadata": {},
   "source": [
    "Implement the function row that takes in a non-negative integer n, and returns the nth row of the Sierpinski triangle as a list of digits 1 and 0."
   ]
  },
  {
   "cell_type": "code",
   "execution_count": 27,
   "id": "58a47834",
   "metadata": {},
   "outputs": [],
   "source": [
    "def nextRow(previousArray):\n",
    "    \n",
    "    newArray = []\n",
    "    \n",
    "    for i in range(len(previousArray)+1):\n",
    "        \n",
    "        if i == 0:\n",
    "            newArray.append(1)\n",
    "        elif i == len(previousArray):\n",
    "            newArray.append(1)\n",
    "        else:\n",
    "            newArray.append(0)\n",
    "    \n",
    "    for i in range(len(previousArray)-1):\n",
    "        \n",
    "        newArray[i+1] = (previousArray[i] + previousArray[i+1])%2\n",
    "    \n",
    "    return newArray\n",
    "\n"
   ]
  },
  {
   "cell_type": "code",
   "execution_count": 28,
   "id": "c8d7ba4a",
   "metadata": {},
   "outputs": [],
   "source": [
    "def row(level):\n",
    "    \n",
    "    if level == 0:\n",
    "        return [1]\n",
    "    elif level == 1:\n",
    "        return [1,1]\n",
    "    else:\n",
    "        \n",
    "        currentArray = [1,1]\n",
    "        \n",
    "        for i in range(1, level):\n",
    "            \n",
    "            currentArray = nextRow(currentArray)\n",
    "        \n",
    "        return currentArray"
   ]
  },
  {
   "cell_type": "code",
   "execution_count": 29,
   "id": "22dbba96",
   "metadata": {},
   "outputs": [
    {
     "data": {
      "text/plain": [
       "[1, 0, 1]"
      ]
     },
     "execution_count": 29,
     "metadata": {},
     "output_type": "execute_result"
    }
   ],
   "source": [
    "row(2)\n"
   ]
  },
  {
   "cell_type": "code",
   "execution_count": 30,
   "id": "0a3866fc",
   "metadata": {},
   "outputs": [
    {
     "data": {
      "text/plain": [
       "[1, 1, 1, 1]"
      ]
     },
     "execution_count": 30,
     "metadata": {},
     "output_type": "execute_result"
    }
   ],
   "source": [
    "row(3)"
   ]
  },
  {
   "cell_type": "code",
   "execution_count": 31,
   "id": "93c8c33c",
   "metadata": {},
   "outputs": [
    {
     "name": "stdout",
     "output_type": "stream",
     "text": [
      "                1\n",
      "               1 1\n",
      "              1 0 1\n",
      "             1 1 1 1\n",
      "            1 0 0 0 1\n",
      "           1 1 0 0 1 1\n",
      "          1 0 1 0 1 0 1\n",
      "         1 1 1 1 1 1 1 1\n",
      "        1 0 0 0 0 0 0 0 1\n",
      "       1 1 0 0 0 0 0 0 1 1\n",
      "      1 0 1 0 0 0 0 0 1 0 1\n",
      "     1 1 1 1 0 0 0 0 1 1 1 1\n",
      "    1 0 0 0 1 0 0 0 1 0 0 0 1\n",
      "   1 1 0 0 1 1 0 0 1 1 0 0 1 1\n",
      "  1 0 1 0 1 0 1 0 1 0 1 0 1 0 1\n",
      " 1 1 1 1 1 1 1 1 1 1 1 1 1 1 1 1\n"
     ]
    }
   ],
   "source": [
    "for i in range(16):\n",
    "    print(\" \"*(15-i), *row(i))"
   ]
  },
  {
   "cell_type": "markdown",
   "id": "eb9fc30e",
   "metadata": {},
   "source": [
    "Implement the function num_atoms(molecule) which takes in a chemical formula of a molecule, and returns the number of atoms in the molecule"
   ]
  },
  {
   "cell_type": "code",
   "execution_count": 32,
   "id": "7b82354b",
   "metadata": {},
   "outputs": [],
   "source": [
    "def num_atoms(molecule):\n",
    "    \n",
    "    total = 0\n",
    "    i = 0\n",
    "    \n",
    "    while i < len(molecule)-1:\n",
    "        \n",
    "        nextAtom = molecule[i+1]\n",
    "        currentAtom = molecule[i]\n",
    "        \n",
    "        if currentAtom.isalpha() and nextAtom.isdigit() :\n",
    "            \n",
    "            \n",
    "            total += int(nextAtom)\n",
    "            i = i+2\n",
    "            \n",
    "        else:\n",
    "\n",
    "            total += 1\n",
    "            i = i + 1   \n",
    "    \n",
    "    if molecule[-1].isalpha():\n",
    "        \n",
    "        total += 1\n",
    "    \n",
    "    return total"
   ]
  },
  {
   "cell_type": "code",
   "execution_count": 33,
   "id": "31667135",
   "metadata": {},
   "outputs": [
    {
     "data": {
      "text/plain": [
       "7"
      ]
     },
     "execution_count": 33,
     "metadata": {},
     "output_type": "execute_result"
    }
   ],
   "source": [
    "num_atoms(\"H2SO4\")"
   ]
  },
  {
   "cell_type": "code",
   "execution_count": 34,
   "id": "1f06ea94",
   "metadata": {},
   "outputs": [
    {
     "data": {
      "text/plain": [
       "9"
      ]
     },
     "execution_count": 34,
     "metadata": {},
     "output_type": "execute_result"
    }
   ],
   "source": [
    "num_atoms(\"CH3CH2OH\")"
   ]
  },
  {
   "cell_type": "code",
   "execution_count": 35,
   "id": "ad078609",
   "metadata": {},
   "outputs": [
    {
     "data": {
      "text/plain": [
       "11"
      ]
     },
     "execution_count": 35,
     "metadata": {},
     "output_type": "execute_result"
    }
   ],
   "source": [
    "num_atoms(\"NH4CO2NH2\")"
   ]
  },
  {
   "cell_type": "markdown",
   "id": "1b8e86e1",
   "metadata": {},
   "source": [
    "Implement the function molar_mass(molecule, table) which takes in a molecule and a table (which is a dict ) and returns the molar mass of the molecule."
   ]
  },
  {
   "cell_type": "code",
   "execution_count": 36,
   "id": "180cef9c",
   "metadata": {},
   "outputs": [],
   "source": [
    "table = {'H':1.008, 'B':10.81, 'C':12.011, 'N':14.007,'O':15.999, 'F':18.998, 'P':30.974, 'S':32.06,'K':39.098, 'V':50.942, 'Y':88.906, 'I':126.9,'W':183.84, 'U':238.03}"
   ]
  },
  {
   "cell_type": "code",
   "execution_count": 37,
   "id": "84824df0",
   "metadata": {},
   "outputs": [],
   "source": [
    " def molar_mass(molecule, table):\n",
    "        \n",
    "    total = 0\n",
    "    i = 0\n",
    "    \n",
    "    while i < len(molecule)-1:\n",
    "        \n",
    "        nextAtom = molecule[i+1]\n",
    "        currentAtom = molecule[i]\n",
    "        \n",
    "        if currentAtom.isalpha() and nextAtom.isdigit() :\n",
    "            \n",
    "            \n",
    "            total += int(nextAtom)*table.get(currentAtom)\n",
    "            i = i+2\n",
    "            \n",
    "        else:\n",
    "\n",
    "            total += 1*table.get(currentAtom)\n",
    "            i = i + 1   \n",
    "    \n",
    "    if molecule[-1].isalpha():\n",
    "        \n",
    "        total += 1*table.get(molecule[-1])\n",
    "    \n",
    "    return total"
   ]
  },
  {
   "cell_type": "code",
   "execution_count": 38,
   "id": "7ff87d6c",
   "metadata": {},
   "outputs": [
    {
     "data": {
      "text/plain": [
       "98.072"
      ]
     },
     "execution_count": 38,
     "metadata": {},
     "output_type": "execute_result"
    }
   ],
   "source": [
    "molar_mass(\"H2SO4\", table)\n"
   ]
  },
  {
   "cell_type": "code",
   "execution_count": 39,
   "id": "11dbd83f",
   "metadata": {},
   "outputs": [
    {
     "data": {
      "text/plain": [
       "46.069"
      ]
     },
     "execution_count": 39,
     "metadata": {},
     "output_type": "execute_result"
    }
   ],
   "source": [
    "molar_mass(\"CH3CH2OH\" ,table)"
   ]
  },
  {
   "cell_type": "code",
   "execution_count": 40,
   "id": "e9a8841d",
   "metadata": {},
   "outputs": [
    {
     "data": {
      "text/plain": [
       "78.07100000000001"
      ]
     },
     "execution_count": 40,
     "metadata": {},
     "output_type": "execute_result"
    }
   ],
   "source": [
    "molar_mass(\"NH4CO2NH2\", table)"
   ]
  }
 ],
 "metadata": {
  "kernelspec": {
   "display_name": "Python 3 (ipykernel)",
   "language": "python",
   "name": "python3"
  },
  "language_info": {
   "codemirror_mode": {
    "name": "ipython",
    "version": 3
   },
   "file_extension": ".py",
   "mimetype": "text/x-python",
   "name": "python",
   "nbconvert_exporter": "python",
   "pygments_lexer": "ipython3",
   "version": "3.11.4"
  }
 },
 "nbformat": 4,
 "nbformat_minor": 5
}
